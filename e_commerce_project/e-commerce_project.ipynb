{
 "cells": [
  {
   "cell_type": "markdown",
   "metadata": {},
   "source": [
    "#  Проект E-commerce: Выявление профилей потребления для интернет-магазина товаров для дома и быта *«Пока все ещё тут»*"
   ]
  },
  {
   "cell_type": "markdown",
   "metadata": {},
   "source": [
    "## Материалы:\n",
    "* [Презентация](https://drive.google.com/drive/folders/1-1Q12kojjUJcs9VLS_uJ_4N1VtybgBBu)"
   ]
  },
  {
   "cell_type": "markdown",
   "metadata": {},
   "source": [
    "## Декомпозиция задачи анализа данных по профилю потребления в E-commerce\n",
    "\n",
    "### Цели исследования\n",
    "**Основная цель исследования:** Сегментировать покупателей на основе их истории покупок для разработки более персонализированных предложений. Также исследование направлено на решение следующих задач бизнеса:\n",
    "1. **Рекомендации по маркетингу:** \n",
    "Исходя из анализа сегментов, разработать рекомендации о том, каким клиентам и когда следует рассылать рекламные предложения о каких категориях товаров.\n",
    "2. **Стратегия увеличения продаж:**\n",
    "Разработать стратегию по увеличению количества продаваемого товара для каждого сегмента.\n",
    "3. **Стратегия повышения лояльности:**\n",
    "Предложить способы повышения возвращаемости покупателей для различных сегментов.\n",
    "\n",
    "### Предобработка данных\n",
    "   - Проверить соответствие типов данных.\n",
    "   - Проверка дубликатов.\n",
    "   - Привести типы данных к нужному формату.\n",
    "   - Исследовать и обработать пропущенные значения.\n",
    "   - Построить ящики с усами для количественных переменных и выявить аномалии.\n",
    "   - Создать столбец `product_full_price` с общей суммой заказанного товара\n",
    "   - Создать столбец `month_year` с годом и месяцем заказа.\n",
    "\n",
    "### Исследовательский анализ данных\n",
    "- Вручную определить категории товаров и создать колонку `category`.\n",
    "- Визуализировать кол-во проданных товаров по категориям в разрезе времени(по месяцам).\n",
    "- Визуализировать динамику выручки в разрезе времени(по месяцам).\n",
    "- Визуализировать динамику кол-ва заказов в разрезе времени с разделением по категориям.\n",
    "- Визуализировать динамику среднего чека заказов в разрезе времени с разделением по категориям товаров.\n",
    "\n",
    "### Основные вопросы исследования\n",
    "- Провести предобработку данных для классификации на основе пороговых значений.\n",
    "- Сделать классификацию.\n",
    "- Создать колонку `clusters` c кластерами покупателей.\n",
    "- Определить различия между кластерами(визуализировать графики среднего чека, кол-ва заказов, категорий покупаемых товаров для всех кластеров)\n",
    "\n",
    "\n",
    "### Проверка гипотез\n",
    "- Проверить следующие гипотезы с помощью ttest:\n",
    "\n",
    "1. Первая гипотеза\n",
    "**H_0:** Среднее количество заказов покупателей группы А равно среднему количеству заказов покупателей группы В.\n",
    "\n",
    "$H_0: \\mu_{заказы\\ группы\\ А} = \\mu_{заказы\\ группы\\ В}$\n",
    "\n",
    "**H_1:** Среднее количество заказов покупателей группы А не равно среднему количеству заказов покупателей группы В.\n",
    "\n",
    "$H_1: \\mu_{заказы\\ группы\\ А} \\neq \\mu_{заказы\\ группы\\ В}$\n",
    "\n",
    "2. Вторая гипотеза\n",
    "**H_0:** Средний чек покупателей группы B равен среднему чеку заказов покупателей группы C.\n",
    "\n",
    "$H_0: \\mu_{чек\\ группы\\ В} = \\mu_{чек\\ группы\\ C}$\n",
    "\n",
    "**H_1:** Средний чек заказов покупателей группы B не равен среднему чеку заказов покупателей группы C.\n",
    "\n",
    "$H_1: \\mu_{чек\\ группы\\ В} \\neq \\mu_{чек\\ группы\\ C}$\n",
    "\n",
    "### Вывод\n",
    "   - Сформулировать выводы по каждому сегменту покупателей.\n",
    "   - Разработать рекомендации по персонализированным предложениям для каждого сегмента.\n",
    "   - Подготовить презентацию с результатами исследования."
   ]
  },
  {
   "cell_type": "code",
   "execution_count": 1,
   "metadata": {},
   "outputs": [],
   "source": [
    "import pandas as pd\n",
    "import numpy as np\n",
    "import itertools\n",
    "import warnings\n",
    "\n",
    "import seaborn as sns\n",
    "from datetime import datetime, timedelta\n",
    "from matplotlib import pyplot as plt\n",
    "from scipy.stats import ttest_ind\n",
    "from sklearn.preprocessing import StandardScaler\n",
    "from sklearn.cluster import KMeans"
   ]
  },
  {
   "cell_type": "markdown",
   "metadata": {},
   "source": [
    "## Предобработка данных"
   ]
  },
  {
   "cell_type": "markdown",
   "metadata": {},
   "source": [
    "### Загрузка данных, проверка на пропуски и дубликаты"
   ]
  },
  {
   "cell_type": "code",
   "execution_count": 2,
   "metadata": {},
   "outputs": [
    {
     "name": "stdout",
     "output_type": "stream",
     "text": [
      "\u001b[1mИнформация по таблице data:\u001b[0m\n",
      "<class 'pandas.core.frame.DataFrame'>\n",
      "RangeIndex: 7474 entries, 0 to 7473\n",
      "Data columns (total 6 columns):\n",
      " #   Column       Non-Null Count  Dtype  \n",
      "---  ------       --------------  -----  \n",
      " 0   date         7474 non-null   int64  \n",
      " 1   customer_id  7474 non-null   object \n",
      " 2   order_id     7474 non-null   int64  \n",
      " 3   product      7474 non-null   object \n",
      " 4   quantity     7474 non-null   int64  \n",
      " 5   price        7474 non-null   float64\n",
      "dtypes: float64(1), int64(3), object(2)\n",
      "memory usage: 350.5+ KB\n",
      "\u001b[1mКоличество дубликатов в таблице data:\u001b[1m         0\n",
      "\n"
     ]
    }
   ],
   "source": [
    "data = pd.read_csv('https://code.s3.yandex.net/datasets/ecom_dataset_upd.csv')\n",
    "\n",
    "data_tables = {'data': data}\n",
    "\n",
    "def data_preparation_func(data):\n",
    "    for name, i in data.items():\n",
    "        print(f\"\\033[1mИнформация по таблице {name}:\\033[0m\")\n",
    "        i.info()\n",
    "        duplicates = i.duplicated().sum()\n",
    "        print(f\"\\033[1mКоличество дубликатов в таблице {name}:\\033[1m \\\n",
    "        {duplicates}\\n\")\n",
    "        \n",
    "data_preparation_func(data_tables)"
   ]
  },
  {
   "cell_type": "markdown",
   "metadata": {},
   "source": [
    "> Дубликатов и пропусков, к счастью, не обнаружено, однако обнаружены неправильные типы данных у столбцов."
   ]
  },
  {
   "cell_type": "markdown",
   "metadata": {},
   "source": [
    "### Описание данных"
   ]
  },
  {
   "cell_type": "markdown",
   "metadata": {},
   "source": [
    "Датасет описывает транзакции интернет-магазина товаров для дома и быта «Пока\n",
    "все ещё тут».\n",
    "Колонки в /datasets/ecom_dataset_upd.csv :\n",
    "- `date` — дата заказа, тип данных: int64;  \n",
    "- `customer_id` — идентификатор покупателя, тип данных: object;  \n",
    "- `order_id` — идентификатор заказа, тип данных: int64;  \n",
    "- `product` — наименование товара, тип данных: object;  \n",
    "- `quantity` — количество товара в заказе, тип данных: int64;  \n",
    "- `price` — цена товара, тип данных: float64;"
   ]
  },
  {
   "cell_type": "markdown",
   "metadata": {},
   "source": [
    "### Преобразуем типы данных в столбцах"
   ]
  },
  {
   "cell_type": "markdown",
   "metadata": {},
   "source": [
    "Столбцы на замену  \n",
    "**data:**\n",
    "- *date* — дата, когда был совершён заказ, тип данных: int64, тип данных неверный для даты, нужно заменить на datetime64[ns];"
   ]
  },
  {
   "cell_type": "code",
   "execution_count": 3,
   "metadata": {},
   "outputs": [
    {
     "name": "stdout",
     "output_type": "stream",
     "text": [
      "date           datetime64[ns]\n",
      "customer_id            object\n",
      "order_id                int64\n",
      "product                object\n",
      "quantity                int64\n",
      "price                 float64\n",
      "dtype: object\n"
     ]
    }
   ],
   "source": [
    "# преобразуем стодбец 'date' \n",
    "data['date'] = pd.to_datetime(data['date'], format='%Y%m%d%H')\n",
    "print(data.dtypes)"
   ]
  },
  {
   "cell_type": "markdown",
   "metadata": {},
   "source": [
    "### Ящики с усами для количественных переменных\n"
   ]
  },
  {
   "cell_type": "code",
   "execution_count": 4,
   "metadata": {},
   "outputs": [
    {
     "data": {
      "image/png": "[encoded data removed]",
      "text/plain": [
       "<Figure size 1008x504 with 3 Axes>"
      ]
     },
     "metadata": {
      "needs_background": "light"
     },
     "output_type": "display_data"
    }
   ],
   "source": [
    "fig, axes = plt.subplots(1, 3, figsize=(14, 7))\n",
    "\n",
    "axes[0].boxplot([data['quantity'], data['price']], labels=['quantity', 'price'])\n",
    "axes[0].set_title('Ящик с усами для \"quantity\" и \"price\"')\n",
    "axes[0].set_ylabel('Значения')\n",
    "\n",
    "axes[1].boxplot(data['quantity'], labels=['quantity'])\n",
    "axes[1].set_ylim(0, 150)\n",
    "axes[1].set_title('Ящик с усами для \"quantity\" (огр. - 150 шт.)')\n",
    "axes[1].set_ylabel('Кол-во купленного')\n",
    "\n",
    "axes[2].boxplot(data['price'], labels=['price'])\n",
    "axes[2].set_ylim(data['price'].quantile(0.0), data['price'].quantile(0.95))\n",
    "axes[2].set_title('Ящик с усами для \"price\" (огр. - 95-й перцентиль)')\n",
    "axes[2].set_ylabel('Цена')\n",
    "\n",
    "plt.tight_layout()\n",
    "plt.show()"
   ]
  },
  {
   "cell_type": "code",
   "execution_count": 5,
   "metadata": {},
   "outputs": [
    {
     "data": {
      "image/png": "[encoded data removed]",
      "text/plain": [
       "<Figure size 720x432 with 1 Axes>"
      ]
     },
     "metadata": {
      "needs_background": "light"
     },
     "output_type": "display_data"
    }
   ],
   "source": [
    "plt.figure(figsize=(10, 6))\n",
    "plt.hist(data['price'], bins=50, color='skyblue', edgecolor='black')\n",
    "plt.title('Гистограмма по ценам')\n",
    "plt.xlabel('Цена')\n",
    "plt.ylabel('Частота появления')\n",
    "plt.grid(True)\n",
    "plt.show()"
   ]
  },
  {
   "cell_type": "code",
   "execution_count": 6,
   "metadata": {},
   "outputs": [
    {
     "name": "stdout",
     "output_type": "stream",
     "text": [
      "Минимальная цена: 9.0\n",
      "Максимальная цена: 14917.0\n"
     ]
    }
   ],
   "source": [
    "print(f\"Минимальная цена: {data['price'].min()}\")\n",
    "print(f\"Максимальная цена: {data['price'].max()}\")"
   ]
  },
  {
   "cell_type": "code",
   "execution_count": 7,
   "metadata": {},
   "outputs": [
    {
     "name": "stdout",
     "output_type": "stream",
     "text": [
      "\u001b[1mТовары по 9.0 руб.:\u001b[0m ['Алиссум (лобулярия) Снежные одежды 0,2 г 4650091480302', 'Львиный зев Волшебный ковер 0,05 г 4660010779639', 'Горох Амброзия 10,0 г 4660010772616', 'Алиссум (лобулярия) Снежные одежды 0,2 г 4650091480302', 'Львиный зев Волшебный ковер 0,05 г 4660010779639']\n",
      "\n",
      "\u001b[1mТовары по 14917.0 руб.:\u001b[0m ['Сушилка уличная Leifheit 85210 LINOMATIC V 400 40 м 175х237х237 см зеленая']\n"
     ]
    }
   ],
   "source": [
    "print(f\"\\033[1mТовары по {data['price'].min()} руб.:\\033[0m {list(data[data['price'] == data['price'].min()]['product'])}\\n\")\n",
    "print(f\"\\033[1mТовары по {data['price'].max()} руб.:\\033[0m {list(data[data['price'] == data['price'].max()]['product'])}\")"
   ]
  },
  {
   "cell_type": "code",
   "execution_count": 8,
   "metadata": {},
   "outputs": [],
   "source": [
    "data = data[data['quantity'] !=1000]"
   ]
  },
  {
   "cell_type": "markdown",
   "metadata": {},
   "source": [
    "> На ящиках и на гистограмме видно, что **в переменных много выбросов**. Однако для столбца `quantity`, скорее всего, это **означает другую категорию покупателей, которая по кол-ву покупок отличается от общей массы, то есть, оптовиков**. Но все-таки был удален самый значимый выброс в 1000 шт., чтобы избежать искажения результатов исследования.   \n",
    "Для столбца `price` тоже все логично: **товаров по дорогим ценам меньше, чем по низким, и они соответствуют своей цене**."
   ]
  },
  {
   "cell_type": "markdown",
   "metadata": {},
   "source": [
    "### Создание столбцов product_full_price и month_year"
   ]
  },
  {
   "cell_type": "code",
   "execution_count": 9,
   "metadata": {},
   "outputs": [
    {
     "data": {
      "text/html": [
       "<div>\n",
       "<style scoped>\n",
       "    .dataframe tbody tr th:only-of-type {\n",
       "        vertical-align: middle;\n",
       "    }\n",
       "\n",
       "    .dataframe tbody tr th {\n",
       "        vertical-align: top;\n",
       "    }\n",
       "\n",
       "    .dataframe thead th {\n",
       "        text-align: right;\n",
       "    }\n",
       "</style>\n",
       "<table border=\"1\" class=\"dataframe\">\n",
       "  <thead>\n",
       "    <tr style=\"text-align: right;\">\n",
       "      <th></th>\n",
       "      <th>date</th>\n",
       "      <th>customer_id</th>\n",
       "      <th>order_id</th>\n",
       "      <th>product</th>\n",
       "      <th>quantity</th>\n",
       "      <th>price</th>\n",
       "      <th>product_full_price</th>\n",
       "      <th>year_month</th>\n",
       "    </tr>\n",
       "  </thead>\n",
       "  <tbody>\n",
       "    <tr>\n",
       "      <th>0</th>\n",
       "      <td>2018-10-01</td>\n",
       "      <td>ee47d746-6d2f-4d3c-9622-c31412542920</td>\n",
       "      <td>68477</td>\n",
       "      <td>Комнатное растение в горшке Алое Вера, d12, h30</td>\n",
       "      <td>1</td>\n",
       "      <td>142.0</td>\n",
       "      <td>142.0</td>\n",
       "      <td>2018-10</td>\n",
       "    </tr>\n",
       "    <tr>\n",
       "      <th>1</th>\n",
       "      <td>2018-10-01</td>\n",
       "      <td>ee47d746-6d2f-4d3c-9622-c31412542920</td>\n",
       "      <td>68477</td>\n",
       "      <td>Комнатное растение в горшке Кофе Арабика, d12,...</td>\n",
       "      <td>1</td>\n",
       "      <td>194.0</td>\n",
       "      <td>194.0</td>\n",
       "      <td>2018-10</td>\n",
       "    </tr>\n",
       "    <tr>\n",
       "      <th>2</th>\n",
       "      <td>2018-10-01</td>\n",
       "      <td>ee47d746-6d2f-4d3c-9622-c31412542920</td>\n",
       "      <td>68477</td>\n",
       "      <td>Радермахера d-12 см h-20 см</td>\n",
       "      <td>1</td>\n",
       "      <td>112.0</td>\n",
       "      <td>112.0</td>\n",
       "      <td>2018-10</td>\n",
       "    </tr>\n",
       "    <tr>\n",
       "      <th>3</th>\n",
       "      <td>2018-10-01</td>\n",
       "      <td>ee47d746-6d2f-4d3c-9622-c31412542920</td>\n",
       "      <td>68477</td>\n",
       "      <td>Хризолидокарпус Лутесценс d-9 см</td>\n",
       "      <td>1</td>\n",
       "      <td>179.0</td>\n",
       "      <td>179.0</td>\n",
       "      <td>2018-10</td>\n",
       "    </tr>\n",
       "    <tr>\n",
       "      <th>4</th>\n",
       "      <td>2018-10-01</td>\n",
       "      <td>ee47d746-6d2f-4d3c-9622-c31412542920</td>\n",
       "      <td>68477</td>\n",
       "      <td>Циперус Зумула d-12 см h-25 см</td>\n",
       "      <td>1</td>\n",
       "      <td>112.0</td>\n",
       "      <td>112.0</td>\n",
       "      <td>2018-10</td>\n",
       "    </tr>\n",
       "  </tbody>\n",
       "</table>\n",
       "</div>"
      ],
      "text/plain": [
       "        date                           customer_id  order_id  \\\n",
       "0 2018-10-01  ee47d746-6d2f-4d3c-9622-c31412542920     68477   \n",
       "1 2018-10-01  ee47d746-6d2f-4d3c-9622-c31412542920     68477   \n",
       "2 2018-10-01  ee47d746-6d2f-4d3c-9622-c31412542920     68477   \n",
       "3 2018-10-01  ee47d746-6d2f-4d3c-9622-c31412542920     68477   \n",
       "4 2018-10-01  ee47d746-6d2f-4d3c-9622-c31412542920     68477   \n",
       "\n",
       "                                             product  quantity  price  \\\n",
       "0    Комнатное растение в горшке Алое Вера, d12, h30         1  142.0   \n",
       "1  Комнатное растение в горшке Кофе Арабика, d12,...         1  194.0   \n",
       "2                        Радермахера d-12 см h-20 см         1  112.0   \n",
       "3                   Хризолидокарпус Лутесценс d-9 см         1  179.0   \n",
       "4                     Циперус Зумула d-12 см h-25 см         1  112.0   \n",
       "\n",
       "   product_full_price year_month  \n",
       "0               142.0    2018-10  \n",
       "1               194.0    2018-10  \n",
       "2               112.0    2018-10  \n",
       "3               179.0    2018-10  \n",
       "4               112.0    2018-10  "
      ]
     },
     "execution_count": 9,
     "metadata": {},
     "output_type": "execute_result"
    }
   ],
   "source": [
    "warnings.filterwarnings('ignore')\n",
    "\n",
    "data.loc[:, 'product_full_price'] = data['price'] * data['quantity']\n",
    "\n",
    "data['date'] = pd.to_datetime(data['date'], format='%Y%m%d%H')\n",
    "data.loc[:, 'year_month'] = data['date'].dt.to_period('M')\n",
    "data.head()"
   ]
  },
  {
   "cell_type": "markdown",
   "metadata": {},
   "source": [
    "### Мини-итог\n",
    "- Были импортированы данные для анализа, таблица: **ecom_dataset_upd.csv**  \n",
    "- **Проведена обработка(чистка от пропусков, проверка на дубликаты, преобразование типов данных столбцов)**:  \n",
    "\n",
    "  *date* — дата, когда был совершён заказ, тип данных: int64, тип данных неверный для даты, нужно заменить на datetime64[ns];  \n",
    "- Проведена **проверка на выбросы в столбцах `quantity` и `price`, аномалий не обнаружено.**  \n",
    "- **Созданы столбцы** `product_full_price` и  `year_month`."
   ]
  },
  {
   "cell_type": "markdown",
   "metadata": {},
   "source": [
    "## Исследовательский анализ данных\n"
   ]
  },
  {
   "cell_type": "markdown",
   "metadata": {},
   "source": [
    "### Определение категорий товаров и создание столбца category"
   ]
  },
  {
   "cell_type": "code",
   "execution_count": 10,
   "metadata": {},
   "outputs": [
    {
     "name": "stdout",
     "output_type": "stream",
     "text": [
      "Комнатное растение в горшке Алое Вера, d12, h30\n",
      "Комнатное растение в горшке Кофе Арабика, d12, h25\n",
      "Радермахера d-12 см h-20 см\n",
      "Хризолидокарпус Лутесценс d-9 см\n",
      "Циперус Зумула d-12 см h-25 см\n",
      "Шеффлера Лузеана d-9 см\n",
      "Юкка нитчатая d-12 см h-25-35 см\n",
      "Настенная сушилка для белья Gimi Brio Super 100\n",
      "Таз пластмассовый 21,0 л круглый \"Водолей\" С614, 1404056\n",
      "Чехол для гладильной доски Colombo Persia Beige 130х50 см из хлопка 5379\n",
      "Вешалка для брюк металлическая с резиновым покрытием 26 см цвет: синяя, Attribute, AHS331\n",
      "Сушилка для белья потолочная Zalger Lift Basic 1520 200 см, 10 м\n",
      "Чехол Eurogold Clean Basic хлопок для досок 120х38-120х42 см C42\n",
      "Крючок одежный 2-х рожковый серый металлик с полимерным покрытием *Тонар*, 1110027\n",
      "Корзина мягкая пластиковая 17 л, М-пластика, M2880\n",
      "Мини-сковорода Marmiton \"Сердце\" с антипригарным покрытием 12 см, LG17085\n",
      "Сковорода алюминиевая с антипригарным покрытием MARBLE ALPENKOK d = 26 см AK-0039A/26N\n",
      "Стеклянная крышка для сковороды ALPENKOK 26 см AK-26GL\n",
      "Сушилка для белья напольная Colombo Star 18, 3679\n",
      "Доска гладильная Eurogold Professional 130х48 см металлическая сетка 35748W\n",
      "Чехол для гладильной доски Festival 137x60 см из хлопка 4738\n",
      "Сумка-тележка 2-х колесная Gimi Argo синяя\n",
      "Многолетнее растение Тимьян-чабрец розовый объем 0,5 л\n",
      "Рассада зелени для кухни Базилик Тонус, кассета по 6шт\n",
      "Рассада зелени для кухни Мелиссы в горшке диам. 9 см\n",
      "Муляж \"Райские Яблочки Зеленые\" 2 шт полиуретан, d 3 см\n",
      "Муляж Банан, желтый, 21 см, полиуретан, Fancy Fair/ff XJ210\n",
      "Муляж Виноград 14 см цвет в ассортименте\n",
      "Муляж ГРАНАТ 9см, красный, Fancy Fair, SL90, красный\n",
      "Муляж Груша мини 2 шт, желтая 4 см\n",
      "Муляж Груша, желтый, 9,5 см, полиуретан, Fancy Fair/ff LI95-03\n",
      "Муляж Зеленое яблоко полиуретан d-6 см\n",
      "Муляж Клубника 1 шт полиуретан d-6 см\n",
      "Муляж Клубника на магните\n",
      "Муляж Красное яблоко мини полиуретан d-6 см\n",
      "Муляж Лимон, желтый, 9 см, полиуретан, Fancy Fair/ff NM90\n",
      "Муляж Мандарин, оранжевый, 8 см, полиуретан, Fancy Fair/ff JZ80\n",
      "Муляж Перец, зеленый, 10 см, полиуретан, Fancy Fair/ff GP8\n",
      "Муляж Перец, красный, 10 см, полиуретан, Fancy Fair/ff RP8\n",
      "Муляж Персики мини полиуретан d-6 см\n",
      "Муляж Томат, оранжевый, 9 см, полиуретан, Fancy Fair/ff T9\n",
      "Муляж ЧЕРЕШНЯ 3см 10 шт., желтый, Fancy Fair, SCR30/10, желтый\n",
      "Щетка-сметка 3-х рядная деревянная 450 мм (плоская ручка), Поиск Риф 1801095\n",
      "Щетка-сметка 4-х рядная деревянная 300 мм (фигурная ручка) ворс 5,5 см 1801096\n",
      "Сумка для тележки большая комбинированная 45*30*25, 1209021\n",
      "Тарелка обеденная ЛИМОН ФИЦ 25см, G9547, Luminarc, Франция\n",
      "Вилка столовая RIPPLE сталь 3 мм, 3 шт, Attribute, ACR013\n",
      "Ложка столовая RIPPLE сталь 3 мм, 3 шт, Attribute, ACR023\n",
      "Ложка чайная RIPPLE сталь 2,5 мм, 3 шт, Attribute, ACR033\n",
      "Нож столовый RIPPLE 80 г 2 шт, Attribute, ACR042\n",
      "Герань домашняя (пеларгония зональная) цветущая D12, H25-30, коралловая, полумахровая\n",
      "Ерш для туалета с подставкой MALIBU фарфор 47х12,5 см белый, Spirella, 1001768\n",
      "Пеларгония зональная диам. 12 см малиновая с красным полумахровая\n",
      "Пеларгония зональная диам. 12 см сиренево-красная простая\n",
      "Пеларгония зональная диам. 12 см сиреневый полумахровый\n",
      "Пеларгония зональная диам. 12 см сиреневый простая\n",
      "Сушилка для белья настенная Zalger Prima 510-720 веревочная 7 линий 25 м\n",
      "Котел алюминиевый 70,0 л без крышки Балезино, Хозлэнд, 1502050\n",
      "Суккулент Микс d-5 см\n",
      "Эхеверия Перл Фон Нюрнберг d-7 см\n",
      "Набор прищепок большие пластиковые ROZENBAL ПИНОККИО 10 шт R102312\n",
      "Сушилка для белья Attribute ПРИМА 11 м синяя напольная ADP410\n",
      "Коврик придверный 45х75см. с рельефным рисунком \"Welcome\", коричневый, CR005\n",
      "Коврик Bacchetta MagicStop 0,3x1,5 м бежевый для сушки посуды 2289\n",
      "Корзина для глаженного белья Natural Style, 45 л, 27*38*59 см, коричневая, D 00708-213, Curver 00708-213\n",
      "Корзина пластиковая для белья 60л. с крышкой бежевая 1860/2, Виолет\n",
      "Сушилка для белья потолочно-настенная Gimi Lift 200\n",
      "Подкладка под чехол Zalger 520140 135х50 см поролон\n",
      "Набор кружек для пива ГАМБУРГ 2шт 500мл, H5072, Luminarc, Россия\n",
      "Коврик интерьерный для кухни Village Street Floral из ПВХ прямоугольный 50х107 см, Apache, 4663\n",
      "Дозатор для мыла Hausmann белый HM-B0194R-2\n",
      "Ёрш унитазный с подставкой WC \"Стандарт\", Мультипласт 1712010\n",
      "Нож для чистки овощей WEBBER из нержавеющей стали 12х6,8х1,5 см ВЕ-5275\n",
      "Подкладка под чехол Zalger 520114 135х50 см войлок\n",
      "Эвкалипт Гунни d-17 см h-60 см\n",
      "Муляж Виноград, желтый, 24 см, полиуретан, Fancy Fair/G60-Y\n",
      "Муляж Виноград, зеленый, 26 см, полиуретан, Fancy Fair/G85-G\n",
      "Муляж Виноград, черный, 26 см, полиуретан, Fancy Fair/G85-B\n",
      "Муляж Вишня, вишневый, 3 см, 10 шт, полиуретан, Fancy Fair/ff CR30/10\n",
      "Муляж Груша, желтый, 9,5 см, полиуретан, Fancy Fair/ff LI95-01\n",
      "Муляж Персик, оранжевый, 9 см, полиуретан, Fancy Fair/ff TZ90\n",
      "Набор фужеров Luminarc ДАМПЬЕР СИЛЬВЕР для вина 260 мл 6 шт H7939\n",
      "Цветок искусственный Гвоздика тканевая красная 50 см\n",
      "Ёрш унитазный с деревянной ручкой , Ваир 1712012\n",
      "Сумка-тележка хозяйственная Gimi Market желтая\n",
      "Герань домашняя (пеларгония зональная) цветущая , D12, H25-30, красная, махровая\n",
      "Мусорный контейнер в ванную комнату BOWL-SHINY полистирол 14х16 см белый, Spirella, 1014964\n",
      "Сумка-тележка хозяйственная Andersen Scala Shopper Plus, Elba, черная 133-051-80\n",
      "Сумка-тележка хозяйственная Rolser Jet Cuadro MH Joy серо-желтая, JET019 marengo JOY\n",
      "Плед флисовый 100% полиэстер 185х240 см бежевый, Wellness, WP184-Айленд_2\n",
      "Скатерть Династия 100% полиэфир прямоугольная 350х180 см сливочная, Wellness, WT355-Династия*02\n",
      "Рассада зелени для кухни Лаванды в кассете по 6 шт\n",
      "Рассада зелени для кухни Розмарина в кассете по 6 шт\n",
      "Рассада зелени для кухни Тимьяна в кассете по 6 шт\n",
      "Герань домашняя (пеларгония зональная) цветущая D12, H25-30, лососевая, махровая\n",
      "Коврик хлопковый 40х60 см цвета в ассортименте 6194\n",
      "Коврик хлопковый 45х75 см цвета в ассортименте 6195\n",
      "Сушилка для белья на батарею, СБ5-45, НИКА\n",
      "Таз пластмассовый 24,0 л пищевой круглый (Иж), 1404006\n",
      "Кувшин пластмассовый с крышкой \"Кумган\" 2,0 л 1408003\n",
      "Муляж Перец Чили в связке, зеленый, 60 см, полиуретан, Fancy Fair/ff GP60\n",
      "Адиантум Лиза d-12 см\n",
      "Герань домашняя (пеларгония зональная) цветущая D12, H25-30, белая, махровая\n",
      "Ковер придверный \"MULTY RUS\" 120х180см., коричневый, РР214/07034\n",
      "Перчатки латексные № 3 для дома утолщенные, Rozenbal, R105628\n",
      "Стремянка алюминиевая Hailo 4302-301 LivingStep Comfort PLus 2 ступенчатая алюминиевая\n",
      "Пеларгония зональная диам. 12 см темнорозовая полумахровая\n",
      "Сумка-тележка хозяйственная Gimi Market синяя\n",
      "Гладильная доска Gimi Jean Green Line 107х30 см\n",
      "Лестница-стремянка Dogrular Ufuk оцинкованная 7-ми ступенчатая\n",
      "Толкушка для картофеля из нержавеющей стали Proline, Leifheit, 03032\n",
      "Тележка багажная DELTA ТБР-20 коричневый с оранжевым грузоподъемность 25 кг сумка и 50 кг каркас РОССИЯ\n",
      "Готовая скатерть Ажурная Dia Rose круглая д.152 белая, 5173, Towa Co., LTD\n",
      "Сушилка для белья напольная Gimi Modular 3 Lux Silver\n",
      "Искусственный цветок Роза Маргарита пластик 58 см\n",
      "Простыня на резинке односпальная Wellness RM90-Арктик 100% хлопок, 90х200 см, белая\n",
      "Сумка-тележка хозяйственная Gimi Bella синяя\n",
      "Чайник эмалированный \"Алые маки\" со свистком 2,5 л. ЕМ-25001/11\n",
      "Ёрш для бутылки из натурального волокна и металла 23 см кремовый, Burstenmann, 0473/0003\n",
      "Таз пластмассовый 18,0 л квадратный (ТП-18) \"Пластхозторг\", 1404042\n",
      "Таз пластмассовый 15,0 л пищевой овальный \"Ekko\" 2775, 1404032\n",
      "Таз пластмассовый 18,0 л пищевой (Иж), 1404047\n",
      "Таз пластмассовый 20,0 л пищевой (Минеральные воды), 1404045\n",
      "Набор вешалок для костюма 45см 4шт цвет: кремовый, Attribute, AHP224\n",
      "Таз пластмассовый 20,0 л пищевой овальный \"Ekko\" 2776, 1404043\n",
      "Штора текстильная для ванны и душа полиэстер, \"Разноцветные пузырьки\" 180х200см, розов/желт/белый, DSCN4061\n",
      "Сушилка для белья потолочно-настенная Gimi Lift 220, 5030\n",
      "Настенная сушилка для белья Gimi Brio Super 60\n",
      "Сушилка для белья потолочная Лиана 2,2 м 1703010\n",
      "Банка со стеклянной крышкой, COLOR SERIES, круглая, 10*10*12 см, 300 мл VALIANT, JP-S300\n",
      "Банка со стеклянной крышкой, COLOR SERIES, круглая, 7*7,6*12,5 см, 280 мл VALIANT, JP-S280\n",
      "Стяжка оконная с болтом СТ-55 цинк, 1108354\n",
      "Сумка-тележка 3-х колесная Gimi Tris Floral синяя\n",
      "Сушилка для белья потолочная ЛИАНА ЛЮКС 140, ЛДН-Т\n",
      "Крючок одежный тройной латунь (Б-47), 1110182\n",
      "Набор ковров для ванной комнаты, \"Офелия\", 40х50/50х80см., серый/бежевый, NTBM50804050-26-190\n",
      "Сушилка для белья ВИОЛЕТ Ricko 5м Rk-5/100 настенная\n",
      "Комплект для ванной и туалета Dasch 50х80 см и 55х55 см TL-2-E Лавр бежевый 5755\n",
      "Тележка багажная DELTA ТБР-20 синий грузоподъемность 25 кг сумка и 50 кг каркас РОССИЯ\n",
      "Сумка-тележка хозяйственная Andersen Scala Shopper, Elba, черная 112-051-80\n",
      "Муляж Апельсин 8 см полиуретан\n",
      "Муляж Яблоко зеленый 9 см полиуретан\n",
      "Сумка-тележка хозяйственная Welfull Daisy, черная 100-002-80\n",
      "Кампанула махровая двухцветная d-10 см\n",
      "Пеларгония душистая d-13 см\n",
      "Сушилка для белья Gimi Alablock\n",
      "Тележка багажная DELTA ТБР-22 синий грузоподъемность 20 кг сумка и 50 кг каркас РОССИЯ\n",
      "Пеларгония зональная диам. 12 см красная махровая\n",
      "Пеларгония зональная диам. 12 см ярко красная махровая\n",
      "Пеларгония зональная махровая белая\n",
      "Герань домашняя (пеларгония зональная) цветущая D12, H25-30, малиновая с красным, полумахровая\n",
      "Декоративная композиция искуственных цветов Букет Роз три цветка, цвет в ассортименте 85 см\n",
      "Искусственный цветок Роза бархатная с закрытым бутоном 72 см цвет в ассортименте\n",
      "Сумка-тележка хозяйственная Rolser Jet C. Capri Joy синяя, JET017 azul JOY\n",
      "Противень прямоугольный алюминиевый 340х240х25 см ЭКСПЕРТ, Scovo, СЭ-052, /1503028\n",
      "Сушилка для белья потолочно-настенная Gimi Lift 180\n",
      "Герань домашняя (пеларгония зональная) цветущая D12, H25-30, малиновая, махровая\n",
      "Калатея Микс d-12 см\n",
      "Коврик придверный влаговпитывающий ребристый из полимерных материалов 90х120 см серый, Vortex, K041\n",
      "Нолина в цветной керамике d-7 см\n",
      "Плечики пластмассовые (Размер 48 - 54 ) \"МП\", 1205160\n",
      "Подушка декоративная флисовая 100% полиэстер 40*40 см синяя клетка, Wellness, WP44-Атланта_34\n",
      "Полотенце кухонное Мила* mix, 100% хлопок 170 г/м2, 38х63,5 см, цвета в ассортименте, Wellness, 4630005366090\n",
      "Хлорофитум d-13 см\n",
      "Цикламен d-13 см\n",
      "Пеларгония зональная диам. 12 см розовая полумахровая\n",
      "Пеларгония зональная диам. 12 см розовая с малиновым полумахровая\n",
      "Пеларгония зональная диам. 12 см розово-малиновая простая\n",
      "Пеларгония зональная махровая лососевая\n",
      "Крепеж для пружины дверной, 1107055\n",
      "Пружина дверная 240 мм оцинкованная (Д-19 мм) без крепления, 1107014\n",
      "Глоксиния d-13 см\n",
      "Азалия индика Биколор d-12 см\n",
      "Гортензия Микс d-12 см\n",
      "Хризантема Космо микс d-12 см\n",
      "Сушилка для белья потолочная Лиана 1,6 м 1703005\n",
      "Муляж Тыквы d-8 см\n",
      "Сушилка для белья на батарею, СБ5-65, НИКА\n",
      "Герань домашняя (пеларгония зональная) цветущая D12, H25-30, розовая с малиновым, полумахровая\n",
      "Герань домашняя (пеларгония зональная) цветущая D12, H25-30, розовая, махровая\n",
      "Герань домашняя (пеларгония зональная) цветущая D12, H25-30, розово-красная, полумахровая\n",
      "Герань домашняя (пеларгония зональная) цветущая D12, H25-30, розово-малиновая, простая\n",
      "Герань домашняя (пеларгония зональная) цветущая D12, H25-30, сиренево-красная, простая\n",
      "Герань домашняя (пеларгония зональная) цветущая D12, H25-30, сиреневый, простая\n",
      "Герань домашняя (пеларгония зональная) цветущая D12, H25-30, темнорозовая, полумахровая\n",
      "Герань домашняя (пеларгония зональная) цветущая D12, H25-30, ярко красная, махровая\n",
      "Коврик интерьерный для кухни Tuscan Wine из ПВХ прямоугольный 45х75 см, Apache, 4660\n",
      "Петля приварная гаражная d 14х90 мм с шаром, 1103003\n",
      "Сушилка для белья Gimi Lampo\n",
      "Гладильная доска НИКА ВЕРОНА 1 чехол ОДРИ 122х42 см ДВ1о\n",
      "Стеклянная крышка для сковороды ALPENKOK 24 см AK-24GL\n",
      "Стеклянная крышка для сковороды ALPENKOK 28 см AK-28GL\n",
      "Салфетка Protec Textil Lino 30х43 см серая 6226\n",
      "Чехол Eurogold Clean Metallic металлизированый с поролоном для досок 110х30-114x34 см C34F3M\n",
      "Вкладыши для хранения посуды 2 шт d-38 cm MARMITON, LG17056\n",
      "Миксер DELTA LUX DL-5068 серо-голубой 400 Вт 4 насадки 5 скоростных режимов турборежим\n",
      "Коврик влаговпитывающий Индия 50*80 см зигзаг серый 6204\n",
      "Кофр для хранения медикаментов Hausmann 9 отделений 30x22x12 см 4W-107\n",
      "Стиральный биопорошок BONSAI концентрированный для белого белья Россия 4607974420573\n",
      "Чистящий крем для трудновыводимых пятен Mama Lemon stain remover 500 гр Индонезия 8998866106207\n",
      "Сушилка для белья потолочно-настенная Gimi Lift 240, 5031\n",
      "Tepмокружка AVEX Recharge 500 мл голубой AVEX0681\n",
      "Чехол для гладильной доски Zalger 520135 140х50 см хлопок поролон для доски 135х45 см\n",
      "Щетка для смахивания пыли 60 см разноцветная, Burstenmann, 0528/0000\n",
      "Мирт d-20 см h-25 см\n",
      "Цветущее комнатное растение Хризантема диаметр горшка 18 см\n",
      "Сушилка для белья потолочная Лиана 1,7 м 1703006\n",
      "Чайник эмалированный METALLONI со свистком и керамической ручкой \"Французский шарм\" 2,5 л EM-250X1/28\n",
      "Чехол для гладильной доски Zalger 520138 140х50 см металлизированный с поролоном для доски 135х45 см\n",
      "Штора для ванной комнаты Diamante 240х200 см бежевая, Bacchetta, 4800\n",
      "Стремянки Colombo Leonardo 3 ступени G300A03W черая 3649\n",
      "Таз пластмассовый со стиральной доской (Иж), 1404021\n",
      "Щетка для посуды *Мила* SV3182 1807009\n",
      "Щетка-утюжок с ручкой Миди, Standart, York, G1126\n",
      "Светильник настольный 17 LED ламп, светодиодный сенсорный, с диммером 26-0004/W черный, PERFECTOLIGHT\n",
      "Герань домашняя (пеларгония зональная) цветущая D12, H25-30, белая, полумахровая\n",
      "Муляж Лимон желтый 9 см полиуретан\n",
      "Кориандр в кассете 6 шт\n",
      "Рассада зелени для кухни Базилик Арарат, кассета по 6шт\n",
      "Рассада зелени для кухни Петрушка Универсал, кассета по 6шт\n",
      "Рассада зелени для кухни Шалфея в горшке диам. 9 см\n",
      "Чехол для одежды EVA 60х95 см EVE4214\n",
      "Чехол для одежды Hausmann розовый принт 60х100 см HM-EA1104\n",
      "Чехол для платья из нетканного материала 60*135 см белый, Hausmann, 2B-360135\n",
      "Сушилка для белья потолочная Лиана 2,4 м 1703011\n",
      "Герань домашняя (пеларгония зональная) цветущая D12, H25-30, малиново розовая, простая\n",
      "Сушилка для белья Gimi Jolly 18\n",
      "Жидкое мыло Vestar Хозяйственное 750 мл Россия 4620757212370\n",
      "Ковёр придверный \"Лапша\" 60х90см коричневый\n",
      "Коврик резиновый ажурный Iron Grill 45х75 см 6207\n",
      "Пена для ванн Vestar хвойная Пихта 900 мл Россия 4620757212424\n",
      "Тележка хозяйственная складная, ТХ0253, 50 кг, Пэмби\n",
      "Таз пластмассовый 10,0 л круглый (350х170) \"М- пластик\" М2506, 1404091\n",
      "Таз пластмассовый 13,0 л пищевой с меркой (Минеральные воды), 1404028\n",
      "Таз пластмассовый 14,0 л пищевой (Иж), 1404079\n",
      "Таз пластмассовый 15,0 л пищевой (Минеральные воды), 1404038\n",
      "Таз пластмассовый 16,0 л круглый С12129, 1404034\n",
      "Таз пластмассовый 16,0 л пищевой с ручками (С203/303) \"Полимербыт\", 1404039\n",
      "Таз пластмассовый 40,0 л пищевой овальный (Иж), 1404094\n",
      "Сумка-тележка 2-х колесная складная Gimi Flexi зеленая\n",
      "Гладильная доска НИКА Haushalt M HM 122х40 см\n",
      "Подрукавник складной Ника П\n",
      "Штора со встроенными кольцами под штангу для ванны и душа жаккард, полиамидное покрытие, 180х200, аквамарин, HSC/ST04/aquamarin\n",
      "Штора со встроенными кольцами под штангу для ванны и душа жаккард, полиамидное покрытие, 180х200, голубой, HSC/ST12/blue\n",
      "Чехол для гладильной доски Zalger 520125 140х58 см хлопок войлок для доски до 135х53 см\n",
      "Штора со встроенными кольцами под штангу для ванны и душа жаккард, полиамидное покрытие, 180х200, бежевый, HSC/ST05/beige\n",
      "Штора со встроенными кольцами под штангу для ванны и душа жаккард, полиамидное покрытие, 180х200, белый, HSC/ST04/white\n",
      "Иссоп лекарственный d-9 см\n",
      "Сантолина d-9 см\n",
      "Сушилка для белья Attribute МИНИ 2,5 м навесная ADM125\n",
      "Аспарагус d-12 см h-30 см\n",
      "Афеляндра скуарроса Дания Микс в кашпо с автополивом\n",
      "Тележка багажная DELTA ТБР-15 цвет в ассортименте грузоподъемность 30 кг РОССИЯ\n",
      "Набор сверел по дереву из 8 шт, 3-10 мм *888* 6867540, 0512261\n",
      "Сверло-фреза, 6 мм, нитрид титана *888* 6862060, 0512262\n",
      "Сверло-фреза, 8 мм, нитрид титана *888* 6862080, 0512263\n",
      "Пеларгония зональная диам. 12 см лососевая махровая\n",
      "Гладильная доска ДСП \"БЭЛЛЬ-ЮНИОР2\", 112*34,5, БЮ2, НИКА\n",
      "Контейнер для овощей Полимербыт 3-х секционный лоток 9 л 4312600\n",
      "Сушилка для белья ЛИАНА ЛЮКС 130 см потолочная\n",
      "Стремянка алюминиевая 5 ступеней, СА5, НИКА\n",
      "Чехол для гладильной доски UNIVERSAL 160х60 см, Attribute, ABU004\n",
      "Гладильная доска Sarayli Orion 130x44 см\n",
      "Мусорный контейнер Hailo ProfiLine SoLid 14 0514-089 14 л белый\n",
      "Гладильная доска перф металл \"НИКА 10+\", 122*40, Н10+, НИКА\n",
      "Сушилка для белья RAINBOW COLOR напольная из хромированной стали 201,5х55х93 см, Gimi\n",
      "Зубная паста Zact с эффектом отбеливания кофейного и никотинового налета 150 г 8806325-603849\n",
      "Зубная паста Zact Lion Smokers Toothpaste 100 г 8850002805040\n",
      "Зубная паста Zact Lion Whitening Toothpaste 100 г 8850002805064\n",
      "Нож для тонкой нарезки ALPENKOK из нержавеющей стали пилообразный \"Comfort\" 12,7 см синий AK-2082\n",
      "Антуриум андрианум Блэк d-12 см\n",
      "Комнатное растение в горшке Аспарагус Мейера, d12, h30\n",
      "Молодило Микс d-9 см\n",
      "Фиалка d-11 см\n",
      "Таз пластмассовый 32,0 л с ручками \"Полимербыт\" С202, 1404052\n",
      "Таз пластмассовый строительный круглый 65 л, 1404076\n",
      "Гладильная доска-стремянка 95х33 см, 848N, DASCH\n",
      "Гербера d-13 см\n",
      "Душица обыкновенная d-9 см\n",
      "Мелисса лекарственная d-9 см\n",
      "Роза кордана Красная Мерседес d-10 см\n",
      "Роза кордана красная d-10 см\n",
      "Фиалка Карнавал d-12 см\n",
      "Хризантема Белая Кристалл d-15 см\n",
      "Хризантема Красная Тобаго d-15 см\n",
      "Сушилка для белья потолочная Лиана 2,0 м 1703009\n",
      "Тележка хозяйственная складная, ТХ0252, 30 кг, Пэмби\n",
      "Карниз алюминиевый телескопический для штор Spirella / Спирелла Magic, хром, 125-220 см, 1050767\n",
      "Штора для ванной комнаты Cannetto 240х200 см коричневая, Bacchetta, 4061\n",
      "Веник сорго с деревянной ручкой с 4-мя швами, Rozenbal, R206204\n",
      "Пеларгония зональная диам. 12 см малиново-красная простая\n",
      "Муляж ГРАНАТ 9 см красный\n",
      "Гладильная доска Sarayli New Elegant 125x45 см\n",
      "Салфетка Protec Textil Polyline 30х43 см Аметист белая 6230\n",
      "Лестница-стремянка Dogrular Ufuk Al алюминевая 6-ти ступенчатая\n",
      "Ерш для унитаза Spirella VENISE с подставкой керамический 4007036\n",
      "Контейнер для мусора FLIP BIN CURVER 25 л красный 02171-547-00\n",
      "Контейнер для мусора FLIP BIN CURVER 25 л оранжевый 02171-535-00\n",
      "Стремянка металлическая 4 ступени, СМ4, НИКА\n",
      "Швабра многофункциональная, Rozenbal, R212522\n",
      "Ящик для хранения TEXTILEBOX CURVER 5,7 л 34x20x13 см прозрачный 03003-001-00\n",
      "Щетка палубная 215х80х20 мм 6-рядная без черенка угловой держатель 58 1801088\n",
      "Гладильная доска перф металл \"ЭЛЬЗА Премиум\", 122*40, ЭЛП, НИКА\n",
      "Скатерть Лувр 100% полиэфир овальная 300х150 см салатовая Wellness WTO305-Лувр*18\n",
      "Подголовник для ванной комнаты из ПВХ 25х34 синий, Bacchetta, 1620\n",
      "Гладильная доска фанера \"СТЕЛЛА Премиум 2\", 122*38, СТП2, НИКА\n",
      "Пеларгония зональная диам. 12 см белая махровая\n",
      "Пеларгония зональная диам. 12 см коралловая полумахровая\n",
      "Пеларгония розоцветная РЕД РОЗЕБУД молодые растения\n",
      "Сумка-тележка хозяйственная Rolser Jet Joy синяя, JET001 azul JOY\n",
      "Банка с металлической крышкой, COLOR SERIES, круглая, 11*11*12 см, 960 мл VALIANT, JK-D960\n",
      "Банка с металлической крышкой, COLOR SERIES, круглая, 11*11*17 см, 1350 мл VALIANT, JK-C1350\n",
      "Ведро для мусора Hailo 0516-570 16 л, бежевый\n",
      "Штора текстильная для ванны и душа полиэстер, \"Бамбук\" 180х200см, зелёный/белый, DSCN3579\n",
      "Вешалка деревянная с расширенными плечиками и перекладиной 44,5х23 см см серый JAPANESE BLACK VALIANT JB-19708\n",
      "Вешалка для блузок 41 см черный Attribute AHM791\n",
      "Вешалка с закругленными плечиками без перекладины с противоскользящим покрытием Valiant 226B10 черный\n",
      "Гладильная доска Sarayli Tamara 125x42 см\n",
      "Коврик влаговпитывающий ребристый 50х80 см Стандарт черный 5877\n",
      "Коврик влаговпитывающий ребристый 60х90 см Стандарт зеленый 5884\n",
      "Коврик придверный грязеулавливающий резиновый Finger 40х60\n",
      "Короб стеллажный с крышкой большой, 30*40*25 см, EXPEDITION VALIANT, EX-BOX-LM\n",
      "Короб стеллажный с крышкой малый, 28*30*16 см, EXPEDITION VALIANT, EX-BOX-LS\n",
      "Коробка для хранения на молнии из синтетического волокна Hausmann, 35,5х20,5х13,5 см, зеленая, BB211-3\n",
      "Набор вешалок мягких тканевых с перекладиной 38х15 см 2 шт Валиант / Valiant VAL 7054sb\n",
      "Наматрасник Wellness WM180, 100% хлопок, 180х200 см, стеганый белый, 4607101067749\n",
      "Наматрицник-чехол Natures Стебель бамбука СБ-Н-1-1 односпальный, бамбуковый, 90х200 см, молочный\n",
      "Насадка для швабры многофункциональной из микрофибры, Rozenbal, R810001\n",
      "Перчатки латексные 10 шт размер S, R105816, ROZENBAL\n",
      "Сушилка для белья напольная Gimi Tempo Super\n",
      "Таз пластмассовый 6,0 л пищевой квадратный \"Тюльпан\" ПЦ2950, 1404003\n",
      "Швабра многофункциональная ROZENBAL R212522-1\n",
      "Швабра САЛЬСА треугольная МИНИ, Y8110\n",
      "Щетка для посуды из искусственного волокна и пластмассы 20 см белая, Burstenmann, 0703/0065\n",
      "Тарелка обеденная Luminarc ГРИН ФОРЕСТ 26 см H7239\n",
      "Рассада зелени для кухни Лаванды в горшке диам. 9 см\n",
      "Рассада зелени для кухни Розмарина в горшке диам. 9 см\n",
      "Рассада зелени для кухни Тимьяна в горшке диам. 9 см\n",
      "Коврик придверный, полукруглый из резины и кокоса, 40х68 см, Format Mezzaluna, Розетта, коричневый, PHP SRL, 20657\n",
      "Ножеточка универсальная \"Рыбка\" 1519028\n",
      "Вешалка-плечики без эссенции цвет тёмно-розовый FWM-002/Quartz pink\n",
      "Искусственный цветок пластиковый Мак 3 бутона 48 см\n",
      "Искусственный цветок Ромашка пластик 45 см\n",
      "Цветок искусственный Гвоздика пластиковая одиночная в ассортименте 50 см\n",
      "Цветок искусственный Мак 45 см пластик\n",
      "Цветок искусственный Мак 55 см пластик\n",
      "Цветок искусственный Нарцисс одиночный в ассортименте 35 см\n",
      "Цветок искусственный Роза Алая бархатная раскрытый бутон 63 см\n",
      "Цветок искусственный Ромашка 3 цветка 50 см пластик\n",
      "Цветок искусственный Тюльпан 45 см пластик цвет в ассортименте\n",
      "Цветок искусственный Тюльпан в ассортименте одиночный 63 см\n",
      "Салфетка Камушки транспарент 30*40 см 5187 Dasch\n",
      "Тележка багажная DELTA ТБР-22 коричневый грузоподъемность 20 кг сумка и 50 кг каркас РОССИЯ\n",
      "Гладильная доска Colombo Avantgard 120х40 см\n",
      "Бегония ампельная, диам. 12 см\n",
      "Рассада Пеларгония (герань) зональная Блу Айз Mix смесь объем 0,5 л\n",
      "Хризантема Корейская смесь окрасок объем 0,75 л\n",
      "Многолетнее растение Душица-орегано розовый объем 0,5 л\n",
      "Пеларгония зональная диам. 12 см белая полумахровая\n",
      "Чехол для гладильной доски с дизайном Venezia 140х55 см из хлопка\n",
      "Настольная гладильная доска фанера, 85*30, НД, НИКА\n",
      "Кувшин пластмассовый с крышкой 2,0 л, (S-751) \"Пластхозторг\" 1408004\n",
      "Розмарин d-12 см\n",
      "Сиденье в ванну раздвижное, белый, СВ5, НИКА\n",
      "Сушилка для белья Gimi Extension\n",
      "Масленка КОРОВКА с крышкой 17см, 73115, Luminarc, Франция\n",
      "Плечики пластмассовые Размер 52 - 54 Тула 1205158\n",
      "Сушилка для белья Eurogold STABILO 18 напольная 0503 SE\n",
      "Стремянка бытовая Framar Slimmy 3 ступени\n",
      "Сумка-тележка 2-х колесная Gimi Argo фуксия\n",
      "Подрукавник Gimi Planet для гладильной доски\n",
      "Чехол для гладильной доски I LOVE GIMI L из полиэстера и хлопка 136*58 см, Gimi\n",
      "Штора для ванной комнаты Quadretto 240х200 см белая, Bacchetta, 4062\n",
      "Утюг электрический с керамическим покрытием DELTA LUX DL-350 зеленый, 2200 Вт , РОССИЯ\n",
      "Чехол для гладильной доски Attribute METAL 140х60 см ABM106\n",
      "Муляж ЯБЛОКО 9 см красное\n",
      "Гладильная доска Attribute ХОМИ ТОП 124х40 см синяя ABH010\n",
      "Чехол для гладильной доски METAL 135х53 см, Attribute, ABM105\n",
      "Корыто оцинкованное 45 л бесшовное, 1301031\n",
      "Тележка багажная DELTA ТБР-20 черный с серым грузоподъемность 25 кг сумка 50 кг каркас РОССИЯ\n",
      "Штора для ванной комнаты 182х182 см ПВХ Meiwa, Krackle прозрачный 5911\n",
      "Холодная сварка Mastix 55г для труб и батарей, 1205197\n",
      "Холодная сварка Mastix 55г универсальная, 1205037\n",
      "Гладильная доска НИКА БЭЛЛЬ 106,5х29 см Б\n",
      "Муляж Вишня 3 см 10 шт полиуретан\n",
      "Муляж Груша желтый 9,5 см полиуретан\n",
      "Муляж Мандарин оранжевый 8 см полиуретан\n",
      "Муляж Перец Чили в связке, красный, 60 см, полиуретан, Fancy Fair/ff RP60\n",
      "Муляж Чеснок в связке 60 см полиуретан\n",
      "Сервировочная салфетка ПВХ 26х41 см Ванда 6001\n",
      "Коврик противоскользящий кружевной 88х38 см прозрачный 5528\n",
      "Штора для ванной комнаты Bacchetta City текстильная 180х200 см 6023\n",
      "Гладильная доска НИКА СТЕЛЛА Классик 1 122х34,5 см СТК1\n",
      "Штора для ванной комнаты Bacchetta Dama текстильная 180х200 см 3655\n",
      "Салатник Luminarc КУТЮР 16 см H3386\n",
      "Салатник Luminarc КУТЮР 27 см H3529\n",
      "Тарелка десертная КУТЮР 20,5 см J2402 Luminarc\n",
      "Тарелка суповая КУТЮР 22,5 см J2397 Luminarc\n",
      "Коврик придверный полипропиленовый с ПВХ STEP IN TRADITIONAL 90х150 см коричневый\n",
      "Сумка-тележка хозяйственная Andersen Scala Shopper Plus, Lini, синяя 133-108-90\n",
      "Гладильная доска НИКА SOPHY КОРИЦА HSK 123х46 см\n",
      "Коврик противоскользящий пузырьки 70х38 см прозрачный 5523\n",
      "Чехол для гладильной доски универсальный с поролоном 2, 1290 х 500, ЧП2, НИКА\n",
      "Сумка-тележка хозяйственная GIMI Argo голубая\n",
      "Муляж Ананас светло-коричневый 10 см полиуретан\n",
      "Муляж Баклажан 18 см\n",
      "Муляж Банан желтый 21 см полиуретан\n",
      "Муляж Груша мини 2 шт желтая 4 см\n",
      "Муляж Манго оранжевый 13 см полиуретан\n",
      "Муляж Морковь 16 см\n",
      "Муляж Персик 9 см полиуретан\n",
      "Муляж Тыквы d-20 см\n",
      "Муляж Черешня 10 штук d 2,5 см, цвет в ассортименте\n",
      "Сумка-тележка хозяйственная Rolser BAB010 negro JOY-1800 черная\n",
      "Чехол для гладильной доски Zalger 520133 120х40 см хлопок поролон для доски 115х35 см\n",
      "Сумка-тележка 2-х колесная Gimi Galaxy черная\n",
      "Сковорода Scovo Эксперт Дем СЭ-040 для блинов алюминиевая с антипригарным покрытием, 25 см, 1503020\n",
      "Герань домашняя (пеларгония зональная) цветущая , D12, H25-30, лососевая, полумахровая\n",
      "Коврик придверный с дизайном, из резины и кокоса Aberdeen Welcome 45x76, 4395\n",
      "Коврик придверный Redstone Mix из полиэстера и переработанной резины 60х91 см серо-коричневый, Apache, 4651\n",
      "Коврик придверный Stonehedge Grey из полиэстера и переработанной резины 60х91 см серый, Apache, 4652\n",
      "Сумка-тележка хозяйственная Rolser IMX005 marengo Logic DOS+2 серая\n",
      "Банка стеклянная STEEL TOUCH 1700 мл, Attribute, ABS017\n",
      "Тарелка десертная СТОУНМАНИЯ ОРАНЖ 20,5 см H3557 Luminarc\n",
      "Тарелка обеденная СТОУНМАНИЯ ОРАНЖ 25 см H3556 Luminarc\n",
      "Тарелка суповая СТОУНМАНИЯ ОРАНЖ 20 см H3558 Luminarc\n",
      "Скатерть из ПВХ MEIWA FPLUS-PLAIN SARASA AZ BE овальная 152х228 см бежевая 5789\n",
      "Муляж Вишня на магните\n",
      "Сумка-тележка 2-х колесная складная Gimi Flexi серая\n",
      "Сумка-тележка 2-х колесная Gimi Ideal синяя\n",
      "Шнур резиновый для тележки 110 см, 1209002\n",
      "Шнур резиновый для тележки 80 см, 1209001\n",
      "Рассада зелени для кухни Душицы в горшке диам. 9 см\n",
      "Сумка-тележка хозяйственная Rolser MOU041 malva RD6 сиреневая\n",
      "Таз пластмассовый строительный прямоугольный 80 л, 1404085\n",
      "Урна уличная \"Гео\", Hobbyka/Хоббика, 59*37,5см, сталь\n",
      "Скатерть Азалия 88% полиэфир 12% хлопок прямоугольная 350х150 см персиковая Wellness MC355-Азалия*05\n",
      "Сумка-тележка хозяйственная Gimi Bella серая\n",
      "Чайный набор Luminarc РЕЙНБОУ 220 мл J5978\n",
      "Штора для ванной текстильная180х200 Quadretto белая, Bacchetta, 3003\n",
      "Пеларгония зональная диам. 12 см малиновая махровая\n",
      "Пеларгония зональная диам. 12 см розовая махровая\n",
      "Пеларгония зональная розоцветная РЕД РОЗЕБАД (Red rosebud)\n",
      "Набор эмалированных салатников METALLONI Ветка рябины EM-00003A/31 12,14,16 см\n",
      "Мыло жидкое reffil Mama Utimate Облепиха 500 мл Россия 8809193042321\n",
      "Набор вешалок мягких тканевых с перекладиной и клипсами 48х23 см 2 шт Валиант / Valiant VAL 7057gc\n",
      "Стремянка 5 ступенчатая Hailo 8925-901 L9 алюминиевая\n",
      "Антуриум андрианум Ванилла d-12 см\n",
      "Рыбочистка металлическая, 1216396\n",
      "Сиденье для унитаза Росспласт АЖУР белое РП-813\n",
      "Коврик придверный Attribute NATURE кокосовый 60x40 см AMC015\n",
      "Овощеварка алюминиевая Scovo МТ-045, Хозлэнд, 1502079\n",
      "Сметка с совком Престиж, York, G6207\n",
      "Коврик придверный, полипропилен, 40х70 см, Kokarda, Спящий кот, бежевый, PHP SRL, 20734\n",
      "Муляж Баклажан мини 2 шт\n",
      "Муляж Гранат мини 4 шт\n",
      "Муляж Перец Чили мини 2 шт, красный 7 см\n",
      "Чехол для гладильной доски BASIC 120х40 см, Attribute, ABB004\n",
      "Халат вафельный Виктория_3-42 , 100% хлопок 265 g/m2, размер 52-54, салатовый, Wellness, 2000000168616\n",
      "Измерительный алюминиевый угольник, 20*30 см, Truper, E-8X12/14386\n",
      "Линейка, длина 30 см, Truper, RGL-30/14387\n",
      "Сумка-тележка хозяйственная GIMI Ideal серая (tortora)\n",
      "Набор фужеров для вина АЛЛЮР 6шт 250мл, G5747, Luminarc, Франция\n",
      "Набор фужеров для вина МАСКАРАД 6шт 250мл, G5544, Luminarc, Франция\n",
      "Сушилка для белья ЛИАНА ЛЮКС 190 см потолочная\n",
      "Сушилка для белья Leifheit 81570 PEGASUS 150 87х157х55 см\n",
      "Сумка-тележка хозяйственная Rolser BAB008 marengo JOY-1800 серая\n",
      "Чехол для гладильной доски Leifheit Beach and Bubbles 130x45 см 71596\n",
      "Терка WEBBER из нержавеющей стали ВЕ-048 4 грани 20 см с красной ручкой\n",
      "Терка WEBBER из нержавеющей стали ВЕ-054 6 граней 21 см\n",
      "Вилка столовая Better цветной горох BT-C2003E-TD1/D1\n",
      "Контейнер для приготовления 2-х яиц ГЛАЗУНЬЯ Полимербыт C452\n",
      "Кружка 350 мл ROSARIO Радуга керамическая коричневый Ф13-005L\n",
      "Кружка для чая Ягода клубника 250 мл 1606-Д\n",
      "Кружка Luminarc ЛИЛИ ФЛАУЭР 320 мл J8565-1\n",
      "Ложка обувная металлическая крашенная 43 см с крючком, 1205156\n",
      "Лопатка Attribute BAMBOO AGB110\n",
      "Лопатка c прорезями Attribute BAMBOO AGB111\n",
      "Набор фужеров для красного вина 235 мл, 6 шт., серия Касабланка, 51258B\n",
      "Набор фужеров для шампанского ФРЕНЧ БРАССЕРИ 6шт 170мл, H9452, Luminarc, Франция\n",
      "Полотенце махровое Гармония, 100% хлопок 335 г/м2, 32х70 см, Wellness, 4630005362832\n",
      "Салфетка махровая Радуга в разноцветную полоску, 100% хлопок 312 г/м2, 31х31 см, Wellness, 4630005360012\n",
      "Салфетница металлическая WEBBER с хромированным покрытием 14,7*4*9 см BE-0293\n",
      "Стакан низкий Лабиринт 250 мл для напитков 05с1262\n",
      "Стакан пластмассовый 300 мл, конус. (К-308) \"Пластхозторг\" 1535027\n",
      "Столовая ложка Better цветной горох BT-C2003E-TD2/D1\n",
      "Чайная ложка Better цветной горох BT-C2003E-TD3/D1\n",
      "Цветок искусственный Крокус 20 см\n",
      "Цветок искусственный Гербера, 45см\n",
      "Ковер придверный имитация травы 60х90см , цвет серый\n",
      "Тележка багажная DELTA ТБР-23 грузоподъемность 50 кг РОССИЯ\n",
      "Тарелка десертная ИРИС D3700 Luminarc\n",
      "Гладильная доска Attribute TEFLONIX 130х46 см ABT142\n",
      "Коврик для ванной комнаты GOBI полиэстер 120х70 см темно-зеленый, Spirella, 1012778\n",
      "Альбука Спиралис Фризл-Сизл d-12 см\n",
      "Коврик Sochi 50х80 см коричневый 5801\n",
      "Овощечистка с плавающим лезвием Comfortline из нержавеющей стали и пластика 11 см белая, Leifheit, 03151\n",
      "Бальзамин новогвинейский d-13 см\n",
      "Бегония клубневая d-13 см\n",
      "Крассула овата d-10 см\n",
      "Гладильная доска НИКА BRUNA M HBM 122х40 см\n",
      "Артемизия (Полынь горькая) d-9 см\n",
      "Пеларгония зональная махровая микс d-12 см\n",
      "Герань домашняя (пеларгония зональная) цветущая D12, H25-30, красно-розовая, простая\n",
      "Насадка к швабре FLEXINETT пластик + микрофибра, Rozenbal, R212585\n",
      "Средство для удаления известкового налета с поверхностей сантехнических приборов DECS Антикальций 500 мл Россия 4660015923266\n",
      "Фиалка Микс d-9 см\n",
      "Коврик ворсовый для ванной комнаты OrthoSpa River Rocks grey из микрофибры и ПВХ прямоугольный 50х85 см серо-белый, Apache, 4666\n",
      "Вешалка напольная ATLANT 90х42 см VATL-1 светлая Степанов\n",
      "Сумка-тележка 2-х колесная Gimi Galaxy голубая\n",
      "Тележка хозяйственная РОЛЛА с крыльями, Attribute, ATT101\n",
      "Бензин для зажигалок, 1205214\n",
      "Скатерть прямоугольная Ажурная Imperial 140х200 см бежевая с тесненым рисунком Towa Co 5174\n",
      "Паста для полировки \"ГОИ\" 25 гр\n",
      "Цветок искусственный Гортензия, 58 см, цвет в ассортименте\n",
      "Гладильная доска НИКА ДСП ЭКОНОМ 106,5х29 ЭК1\n",
      "Сумка-тележка хозяйственная GIMI Argo салатовая\n",
      "Сумка-тележка хозяйственная Gimi Easy Go синяя\n",
      "Петля-стрела ПС-286 мм (Рыбинск), 1104019\n",
      "Сушилка для белья ЛИАНА ЛЮКС 120 см потолочная\n",
      "Скатерть из ПВХ MEIWA FPLUS-171 AZ WH/BE овальная 132х178 см бело-бежевая 5785\n",
      "Подголовник для ванной комнаты из ПВХ 25х34 Mickey, Bacchetta, 4811\n",
      "Сушилка для белья потолочная Zalger Lift Comfort 520 180 см 9 м\n",
      "Лаванда d-9 см\n",
      "Мята d-9 см\n",
      "Сушилка для белья ВИОЛЕТ FH COLOR LUX 22 м белая ВЛ867\n",
      "Муляж Виноград зеленый 26 см полиуретан\n",
      "Чайник электрический пластиковый ВАСИЛИСА T7-1100 белый с голубым 1100 Вт 1 л\n",
      "Вешалка-стойка № 9 Дерево ЗМИ медный антик ВНП 211 М\n",
      "Стремянка металлическая 3 ступени, СМ3, НИКА\n",
      "Муляж Виноград желтый 24 см полиуретан\n",
      "Муляж Желудь 2 шт\n",
      "Муляж Яблоко, оранжевый, 8,5 см, полиуретан\n",
      "Сумка-тележка GIMI Argo синяя\n",
      "Каланхое каландива белое d-7 см\n",
      "Примула акаулис Микс d-10 см\n",
      "Держатель для туалетной бумаги С373 \"Полимербыт\" 1713006\n",
      "Ёрш унитазный с подставкой WC \"Люкс\", Мультипласт, 1712007\n",
      "Пробка для ванны резиновая (Д-40 мм) 1206155\n",
      "Штора для ванной с кольцами RL-0071 Мыльные пузыри 180х180 см\n",
      "Чехол для гладильной доски Zalger 520116 130х46 см хлопок для доски 125х42 см\n",
      "Чехол для гладильной доски Zalger 520124 140х58 см хлопок для доски до 135х53 см\n",
      "Измельчитель овощей ручной ШК-4 деревянный, 3 ножа, 1516020\n",
      "Сумка-тележка DELTA ТБР-20 синий грузоподъемность 25 кг сумка и 50 кг каркас РОССИЯ\n",
      "Коврик придверный из резины и кокоса, 40х68 см, Format Classic, Соломка, коричневый, PHP SRL, 20135\n",
      "Лоток для холодца эмалированный 1,5 л с пластмассовой крышкой с рисунком С-2508Кп/4 Стэма 1506085\n",
      "Сумка-тележка GIMI Easy Go красная\n",
      "Вешалка-плечики 3 шт без эссенции цвет светло-бирюзовый FWM-002/Aruba blue\n",
      "Вешалки мягкие для деликатных вещей 3 шт желтые\n",
      "Губка спираль металлическая EUROHOUSE 2 шт EH3599\n",
      "Перчатки латексные 10 шт, р-р М, R105817, ROZENBAL\n",
      "Перчатки резиновые универсальные Centi, р-р M, York, G9212\n",
      "Чехол для одежды большой 137х60х10 см светло-бежевый Валиант / Valiant TR-107H\n",
      "Чехол для одежды EVA 150x65 см MHE017\n",
      "Ёрш унитазный пластмассовый, Ваир 1712002\n",
      "Кофр для хранения Hausmann подкроватный 80х40х15 см 2B-28040\n",
      "Сумка-тележка GIMI Argo красная\n",
      "Салфетка Protec Textil Lino 30х43 см шоколад 6222\n",
      "Корзина для белья INFINITY CURVER 59 л белая 04754-N23-00\n",
      "Пробка для ванны резиновая с цепочкой 1206157\n",
      "Сушилка МУЛЬТИ 10м (1002010520027), Attribute, ADM110\n",
      "Чехол для гладильной доски Zalger 520111 см металлизированный с поролоном для доски 120х42 см\n",
      "Салатник РОМАНТИК ГАРДЕН 17 см J7900 Luminarc\n",
      "Фен дорожный DELTA DL-0904 бордовый с черным 2 режима мощности 1400 Вт Россия\n",
      "Чайник электрический АКСИНЬЯ КС-1003 корпус из жаропрочного стекла черный 2200 Вт 1,8 л\n",
      "Штора для ванной и душа текстильная, 180х200см, \"Цветы\", голубой, HSP394-B\n",
      "Штора для ванной комнаты ПВХ 180х180 см Водоросли, 5919\n",
      "Вешалка настенная НИКА ВН3 3 крючка медный антик\n",
      "Вешалка самоклеющая на 4 крючка 1110008\n",
      "Штора для ванной и душа текстильная, 180х200см.\"Лилии\", бежевый/белый с розовыми цветами, H125\n",
      "Салатник АМОРИ БРАУН 16,5 см J2113 Luminarc\n",
      "Салатник КОЛОРАМА РЭД 17 см J7772 Luminarc\n",
      "Салатник РАПСОДИ ОРАНЖ 16,5 см H8728 Luminarc\n",
      "Салатник Luminarc АРТИ ГРИН 16,5 см J1392\n",
      "Салатник Luminarc АРТИ ПИНК 16,5 см L2857\n",
      "Салатник Luminarc АРТИ ПУРПЛ 16 см G9834\n",
      "Салатник Luminarc АРТИ ПУРПЛ 16,5 см L2858\n",
      "Салатник Luminarc AMБИАНТЭ АНИС 16 см L6415\n",
      "Салатник Luminarc AMБИАНТЭ ОРАНЖ 16 см L6417\n",
      "Кружка для чая Сердечки 250 мл ДСГ55029146\n",
      "Дендробиум Санок Полар Файр 1 ствол d-12 см\n",
      "Герань домашняя (пеларгония зональная) цветущая D12, H25-30, красная, простая\n",
      "Калоцефалус Брауни крашеный осенний микс d-10 см\n",
      "Коврик придверный APACHE 45х76 см Flagstone 5415\n",
      "Антижир POSH ONE MAGNUM 828 мл Россия 4580390-927058\n",
      "Каллуна Гарден Герлс трехцветная d-12 см h-27 см\n",
      "Капсикум Сальса оранжевый d-10 см\n",
      "Кофр малый жесткий 28*30*16 см леопард Валиант / Valiant LB301\n",
      "Мимоза стыдливая d-9 см\n",
      "Набор кухонных полотенец 100% хлопок 200г/м2 46*71 см 2 шт, Wellness, МЕЛИСА_3\n",
      "Соланум d-10 см\n",
      "Универсальное средство на основе хлора ддля чистки сантехники и других поверхностей DECS Universal 750 мл Россия 4660015923228\n",
      "Мантоварка алюминиевая 6,0 л 3 сетки Белая Калитва, Хозлэнд, 1502074\n",
      "Гладильная доска НИКА LORA FASHION HLF 123х46 см\n",
      "Пеларгония зональная простая цвет фуксии\n",
      "Рассада зелени для кухни Мелиссы в кассете по 6 шт\n",
      "Гладильная доска НИКА BLUES 124х46 см 5757\n",
      "Ложка обувная металлическая крашенная 220, 1205155\n",
      "Плечики пластмассовые Размер 48 - 54 МП 1205160\n",
      "Ролик для чистки одежды *Clear Line* (20 слоев), 1205060\n",
      "Сменный блок для ролика 2 шт (R160071), Rozenbal, R510100\n",
      "Таз пластмассовый 4,5 л пищевой \"Космея\" (Ангора) 1404092\n",
      "Герань домашняя (пеларгония зональная) цветущая D12, H25-30, ярко розовая, полумахровая\n",
      "Пеларгония d-13 см с топпером на День учителя в подарочной упаковке\n",
      "Роза патио белая d-12 см h-30\n",
      "Роза патио красная d-12 см h-30\n",
      "Роза патио оранжевая d-12 см h-30\n",
      "Стремянка 5 ступенчатая Hailo 8150-507 L50 алюминиевая с крючком на красной ручке\n",
      "Набор бокалов ИМПЕРАТОР 3 шт 170 мл 06707 E5181 Luminarc Франция\n",
      "Набор стаканов для виски 300 мл 6 шт серия Карат 52885В\n",
      "Термометр на окно уличный на липучках Т-5 h-20 см 1210035\n",
      "Термометр уличный оконный ТБ 202 h-20 см 1210036\n",
      "Ящик почтовый металлический с ушками для навесного замка Домик 1205251\n",
      "Сушилка для белья напольная Gimi Mito, алюминий\n",
      "Гладильная доска НИКА ВЕРОНА 1 чехол РЕТРО 122х42 см ДВ1р\n",
      "Бархатцы Веселая полянка 0,3 г 4660010777505\n",
      "Космея Очаровашка 0,05 г 4660010779578\n",
      "Морковь Детская сладость 2 г 4660010775921\n",
      "Настурция Драгоценность вишнево-розовая 1 г 4660010773316\n",
      "Огурец Засолочный 0,3 г 4660010776102\n",
      "Пеларгония зональная розоцветная РЕД РОЗЕБАД\n",
      "Петуния Каскад смесь махровая 10 шт 4660010772784\n",
      "Сумка-тележка хозяйственная Rolser Jet Joy черная, JET010 negro JOY\n",
      "Шило с пластмассовой ручкой утолщенное с крючком, 1205083\n",
      "Герань домашняя (пеларгония зональная) цветущая D12, H25-30, красная, полумахровая\n",
      "Тарелка обеденная МУНЛАЙТ 25 см H7253 Luminarc\n",
      "Скатерть прямоугольная Ажурная Marine 132х177 см бежевая с тесненым рисунком Towa Co 4022\n",
      "Сушилка для белья НИКА СБ2Б 20 м\n",
      "Сушилка для белья НИКА СБ1 18 м\n",
      "Вешалка деревянная с расширенными плечиками и перекладиной 44,5х23 см см белый JAPANESE WHITE VALIANT JW-19708\n",
      "Вешалка для брюк Attribute CLASSIC 38 см AHN271\n",
      "Набор вешалок для костюма 45 см 4 шт цвет кремовый Attribute AHP224\n",
      "Набор вешалок универсальных Attribute SILUET CREAM 45 см 4 шт AHP224\n",
      "Банка из стекла для сыпучих продуктов круглой с пластмассовой крышкой и цветной вкладкой 1,0л 10МР-0001\n",
      "Корзина для белья KNIT 57 л темно-коричневая, Curver, 03676-X59-00\n",
      "Сумка-тележка TWIN стальной каркас 56 л синяя, Gimi\n",
      "Гладильная доска НИКА СТЕЛЛА Классик 2 122х34,5 см СТК2\n",
      "Тарелка десертная ВОЛАРЭ БЛЭК 22,5 см G9399 Luminarc\n",
      "Сушилка для белья потолочная Лиана 1,5 м 1703004\n",
      "Сушилка для белья Gimi Dinamik 30\n",
      "Таз пластмассовый 6,0 л пищевой М2511, 1404015\n",
      "Таз пластмассовый 8,0 л пищевой (Минеральные воды), 1404009\n",
      "Ковш пластмассовый Полимербыт С215, 1,5 л 1406006\n",
      "Гладильная доска-стремянка DASCH 95х33 см 848N\n",
      "Гладильная доска Ника Николь 9 122х40 см\n",
      "Кухонные ножницы WEBBER из нержавеющей стали с орехоколом ВЕ-5208\n",
      "Набор ножей Attribute CHEF 5 предметов AKF522\n",
      "Нож кухонный для мяса с пластмассовой ручкой 305 х 175 мм, \"Русская Линия\" (НХ-36М), Метиз 1519003\n",
      "Нож кухонный для овощей с деревянной ручкой 318 х 200 мм, \"Гурман\" (НХ-14М), Метиз 1519009\n",
      "Нож кухонный универсальный с пластмассовой ручкой 285 х 150 мм, \"Русская Линия\" (НХ-38М) Метиз 1519022\n",
      "Рыбочистка с деревянной ручкой с ножом 1518024\n",
      "Тарелка десертная МОКА БРАУН 19 см H7013 Luminarc\n",
      "Кисточка силиконовая для выпечки мятная 21х4 см BE-1440S WEBBER\n",
      "Кисточка силиконовая для выпечки персиковая 21х4 см BE-1440S WEBBER\n",
      "Скребок кондитерский WEBBER BE-0368 лавандовый\n",
      "Средство для мытья полов DECS Bleach Лимон 1000 мл Россия 4660015923273\n",
      "Комод Эльфпласт Виола 3-х секционный коричневый 339\n",
      "Корзина для белья Виолет Ротанг 2350/2 угловая с крышкой 60 л бежевая\n",
      "Сушилка для белья на ванну НИКА СБ4\n",
      "Картофелемялка металлическая круглая с деревянной ручкой 1531002\n",
      "Сушилка для белья потолочная Лиана 1,8 м 1703007\n",
      "Салатник ВОЛАРЭ БЛЭК 16 см G9403 Luminarc\n",
      "Тарелка суповая ВОЛАРЭ БЛЭК 23 см G9402 Luminarc\n",
      "Ароматизированное средство дудаления известкового налета и ржавчины DECS WC Гель Лимон 750 мл Россия 4660015923235\n",
      "Бальзам для мытья посуды Mama Ultimate EcoSoda 1000 мл Россия 044684\n",
      "Средство для мытья пола ECOMATIC GREEN CLEANER 1000 мл Испания 126109\n",
      "Стремянка бытовая Zalger 111-5 алюминиевая 5 ступенек\n",
      "Банка стеклянная с крышкой Attribute FLEUR 1350 мл ABF100G\n",
      "Банка стеклянная с крышкой Attribute FLEUR 650 мл ABF135W\n",
      "Коврик кухонный APACHE Olive Oil Sideboard 56х86 см 5062\n",
      "Штора для ванной 180х200 см, Rigone Бежевый\n",
      "Алиссум (лобулярия) Снежные одежды 0,2 г 4650091480302\n",
      "Гвоздика турецкая Роковая страсть 0,05 г 4660010773231\n",
      "Годеция Рембранд 0,1 г 4650091480128\n",
      "Календула Пинк сюрпрайз 0,5 г 4650091480203\n",
      "Капуста декоративная смесь 0,1 г 4650091480234\n",
      "Кореопсис Толл 0,1 г 4650091480258\n",
      "Космея Клюквенный клик 0,1 г 4660010770421\n",
      "Космея Кэнди страйп 0,3 г 4650091480272\n",
      "Лапчатка Огненное пламя 0,02 г 4650091480616\n",
      "Львиный зев Волшебный ковер 0,05 г 4660010779639\n",
      "Пеларгония зональная диам. 12 см розово-красная полумахровая\n",
      "Флокс друммонда смесь 0,1 г 4650091480401\n",
      "Цинерария Серебряная пыль 0,1 г 4660010770797\n",
      "Эшшольция Карминный король 0,5 г 4660010770193\n",
      "Жестяная банка Новая паста микс П-90*90h171v140-01014\n",
      "Кружка НОРДИК 380мл прозрачная H8502 Luminarc Франция\n",
      "Чайник электрический АКСИНЬЯ КС-1002 корпус из жаропрочного стекла белый 2000 Вт 1,8 л\n",
      "Гладильная доска Scab Stiro Lux 122х38 см\n",
      "Рассекатель пламени на газовую плиту с ручкой, AN8032\n",
      "Ополаскиватель для посудомоечных машин Ludwik 750 мл Польша 5900861242715\n",
      "Сетка для глажения Ява РТК26 45х65 см, 1200023\n",
      "Сковорода алюминиевая с антипригарным покрытием MARBLE ALPENKOK d = 22 см AK-0037A/22N\n",
      "Щетка для посуды *ОЛЯ*, Мультипласт 1807010\n",
      "Чайник электрический ВАСИЛИСА Т33-2000 нержавеющая сталь красный 2000 Вт 2 л\n",
      "Покрывало жаккард шенилл BIRHOME VALENTIN 240х260 см наволочки 50х70 см 2 шт 9234567089661\n",
      "Вешалка гардеробная Радуга 2 ЗМИ черный ВНП 299 ч\n",
      "Ковер придверный EKSPO 90х150 см черный РР114/01019\n",
      "Набор форм для кексов WEBBER из нержавеющей стали 6 шт 7,5*3,4 см BE-4343/6\n",
      "Банка стеклянная WOODEN TOUCH 1700 мл, Attribute, ABB017\n",
      "Корзина для белья пластмассовая 45 л угловая С299 1704006\n",
      "Весы напольные электронные Soehnle Pino White, 63747\n",
      "Лестница-стремянка Dogrular Ufuk оцинкованная 4-х ступенчатая\n",
      "Диффенбахия d-12 см с топпером на День учителя в подарочной упаковке\n",
      "Комплект постельного белья WELLNESS PLATINUM R185-Авеню пододеяльник 180х214 см простыня 200х214 см 2 наволочки 50х70 см\n",
      "Покрывало жаккард KARNA стеганое KALVEN 260x260 см наволочки 50х70 см 2 шт 8681914002162\n",
      "Вилка столовая Better цветы BT-C2003E-TD1/D3\n",
      "Бальзамин новогвинейский d-13 см цвет фуксии\n",
      "Чехол для гладильной доски Zalger 520132 114х37 см бязь для доски 110х32 см\n",
      "Фаленопсис королевский Голубой 1 ствол d-12 см\n",
      "Сумка-тележка хозяйственная Rolser RG SAQUET, синяя, SAQ002 azul CONVERT\n",
      "Подставка для обуви резиновая Attribute 80x40 см AMC080\n",
      "Сушилка для белья потолочная ЛИАНА ЛЮКС 160 см ЛЛП-160\n",
      "Вешалка-сушилка Gimi Paco\n",
      "Коврик Bacchetta противоскользящий в душевую кабину 55х55 см бежевый 4819\n",
      "Штора для ванной комнаты 240х200 Fragmmento бежевая текстильная 240х200 см 6041\n",
      "Штора для ванной комнаты ПВХ Sfera 240х200 см серая, Bacchetta, 4833\n",
      "Миска пластмассовая круглая Пластхозторг S-706, 0,8 л 1535005\n",
      "Гладильная доска НИКА БЕЛЛЬ Классик 1 122х34,5 см БК1\n",
      "Кружка прозрачная 250 мл H8437 Luminarc Франция\n",
      "Одеяло Silver line 195*215 100% микрофибра 100% микроволокно 17Т-0034/2\n",
      "Сушилка для белья на батарею НИКА СБ6-65 двухъярусная\n",
      "Подсолнечник низкорослый d-13 см\n",
      "Ручка-скоба РС-100 белая *Трибатрон*, 1108035\n",
      "Пуансетия d-12 см с топпером на День учителя в подарочной упаковке\n",
      "Лоток для холодца эмалированный 1,5 л с пластмассовой крышкой без рисунка С-2508Кп Стэма 1506084\n",
      "Гладильная доска Eurogold Professional 130х48 см 35748W\n",
      "Сушилка для белья напольная COLOMBO ALPINA 40MT ST194/4CF\n",
      "Пресс для чеснока Attribute WESTERN AGW050\n",
      "Сушилка для белья потолочная ЛИАНА ЛЮКС 250 см ЛЛП-250\n",
      "Тарелка обеденная КАШИМА ПУРПЛ 25 см G9324 Luminarc\n",
      "Сумка-тележка 3-х колесная Gimi Tris красная\n",
      "Коврик придверный хлопковый 60х180 см мультиколор, Helex, С05\n",
      "Лестница-стремянка Примус оцинкованный металл 7 ступеней, 1,55 м , 1203048\n",
      "Щетка-сметка с пластиковой ручкой ЛАУРА SV3020\n",
      "Термостакан WEBBER BE-6030 КОФЕ 450 мл\n",
      "Гиностемма укорененный черенок 1 шт\n",
      "Сумка-тележка хозяйственная Andersen Treppensteiger Scala Shopper, Hera, черная 119-004-80\n",
      "Ель канадская Коника ртк 303 горшок 9 л Нидерланды\n",
      "Кипарисовик лавсона Элвуди ртк 106 горшок 9 л Нидерланды\n",
      "Коврик противоскользящий камешки с ракушками овальный 69х39 см голубой 5520\n",
      "Аптения d-10 см h-10 см\n",
      "Сушилка для белья потолочная ЛИАНА ЛЮКС 170 см ЛЛП-170\n",
      "Коврик придверный каучуковый 45х75 см черный, Helex, P01\n",
      "Антуриум андрианум Фиорино d-15 см\n",
      "Сушилка для белья потолочно-настенная Gimi Lift 240 5031\n",
      "Банка РОНДО ЭЛИЗ 1л, G8487, Luminarc, Китай\n",
      "Сушилка для белья Attribute ПРИМА 18 м синяя ADP618\n",
      "Весы напольные механические Дельта D-2017 130 кг, 1205224\n",
      "Таз пластмассовый 12,0 л пищевой (Минеральные воды), 1404022\n",
      "Роза Палас белая d-17 см h-50 см h-20\n",
      "Ковер придверный EKSPO 90х150 см коричневый РР120/1\n",
      "Сушилка для белья Gimi Mito алюминий\n",
      "Новогоднее дерево Ель канадская Коника ртк 343 d-9 см\n",
      "Гладильная доска НИКА ЭЛЬЗА Премиум 122х40 см ЭЛП\n",
      "Новогоднее дерево Ель сербская d-21 см h-60 см\n",
      "Чехол для одежды малый 100х60х10 см светло-бежевый Валиант / Valiant TR-106H\n",
      "Новогоднее дерево Ель канадская Коника в красном ведерке 3 л h-40 см\n",
      "Мыльница пластмассовая на ванну М2221 1702010\n",
      "Подголовник Bacchetta 25х34 см Quadrifoglio 4809\n",
      "Сушилка для белья Gimi Modular 3 Lux Silver\n",
      "Коврик Dasch для ванной комнаты 50х80 см TL-90 Листопад зеленый 5730\n",
      "Сушилка для белья напольная НИКА СБ9/А цвет аквамарин/белый\n",
      "Пеларгония Грандифлора махровая микс d-12 см\n",
      "Муляж Мандарин мини на магните\n",
      "Салфетка Protec Textil Lino 30х43 см натур 6223\n",
      "Мыло ручной работы Свинюшка в грязюшке 90 г\n",
      "Гладильная доска Leifheit AirBoard Compact M Plus 120х38 см малиновый 71630\n",
      "Сушилка для белья на ванну Leifheit Adria 72708\n",
      "Крючок одежный двойной усиленный алюминиевый (дюраль), 1110015\n",
      "Гладильная доска НИКА БЭЛЛЬ-ЮНИОР1 112х34,5 см БЮ1\n",
      "Чехол для одежды Hausmann со стенкой из ПВХ и ручками 60х140 см синий HM-701402NG\n",
      "Набор бокалов для пива Cervoise 4 шт 320мл G3775 Luminarc Франция\n",
      "Защитный экран подставка и дуршлаг WEBBER 3 в 1 цвет: зеленый d = 28,5 см из силикона BE-0341S\n",
      "Многофункциональный инструмент 25 функций, PLB025L 7'/PT00234\n",
      "Роза мини розовая d-7 см h-10\n",
      "Коврик в ванну 36х71 см, Розовый\n",
      "Стремянка-табурет алюминиевая Hailo L90 Step-ke 4442-701 2х2 ступени\n",
      "Пуансеттия d-12 см красная с розовым\n",
      "Коврик противоскользящий пузырьки 70х38 см бирюзовый 5526\n",
      "Пуансеттия d-12 см белая\n",
      "Петля рояльная оксид 545 мм, 1103066\n",
      "Тележка багажная DELTA ТБР-21 черный грузоподъемность 25 кг для сумка и 50 кг для каркас РОССИЯ\n",
      "Новогоднее дерево Ель сербская d-27 см h-200 см\n",
      "Цветущее комнатное растение Бегония Элатиор, цвет в ассортименте\n",
      "Чайная ложка 6 предметов Вена СЧВ107\n",
      "Нож для мясорубки (Супер) Лепесток 1512016\n",
      "Крассула d-17 см h-40 см\n",
      "Тарелка суповая ИРИС 21 см J1299 Luminarc\n",
      "Комплект махровых салфеток ТОП_2, 100% хлопок 266 г/м2, 28х42 см, 2 шт, цвета в ассортименте, Wellness, 4630005364393\n",
      "Набор столовых приборов 24 предмета OASIS Domenik DM9634\n",
      "Пуансеттия d-15 см розовая\n",
      "Набор столовых приборов 24 предмета SAINT GERMAIN Domenik DM9638\n",
      "Коврик ворсовый для ванной комнаты OrthoSpa River Rocks natural из микрофибры и ПВХ прямоугольный 50х85 см серо-коричневый, Apac\n",
      "Кольца для штор Виолет 12 шт пластик 1212/60\n",
      "Скатерть Сидней 100% полиэфир овальная 300х150 см сиреневая Wellness WTO305-Сидней*81\n",
      "Кувшин Luminarc ВИКТОРИЯ 1,8 л с крышкой J8130\n",
      "Пуансеттия d-15 см красная\n",
      "Набор столовых приборов 24 предмета FARANDOLE Domenik DM9635\n",
      "Сумка-тележка 3-х колесная Gimi Tris черная\n",
      "Чехол для одежды объемный Hausmann с овальным окном ПВХ и ручками 60х140х10 см черный HM-701403AG\n",
      "Коврик ворсовый ПВХ придверный Multy 60х180 см коричневый\n",
      "Чайный набор СЕЛЬМА 220мл, G9434, Luminarc, Франция\n",
      "Вешалка напольная TWIST складная 45*35 VRTW-1 светлая Степанов\n",
      "Скатерть Towa Co Ажурная Presea прямоуголная 120х150 см сепия 5514\n",
      "Вантуз черный с пластиковой ручкой малый Д-100 (МАГ), 1206002\n",
      "Вешалка с закругленными плечиками перекладиной и крючками с противоскользящим покрытием Valiant 213R11 черный\n",
      "Термокружка Alpenkok AK-04010A синий 400 мл\n",
      "Чехол для гладильной доски универсальный с поролоном антипригарный, ЧПА, НИКА\n",
      "Сушилка для белья потолочная ЛИАНА ЛЮКС 180 см ЛЛП-180\n",
      "Плед флисовый 200х150 см WELLNESS WPLNY152-Зима_4 100 % полиэстер\n",
      "Сумка-тележка хозяйственная Rolser BAB010 rojo JOY-1800 красная\n",
      "Гладильная доска НИКА LORETA GOLF HL 123х46 см\n",
      "Фоторамка Alparaisa на 7 фотографий бронзовая 43х42,5 см С31-017\n",
      "Этажерка 2 для обуви узкая 4 полки, медный, ЭТ2, НИКА\n",
      "Тарелка десертная БАМБУК 20 см J0276 Luminarc\n",
      "Скатерть Джулия 64% хлопок 36% полиэфир прямоугольная 350х150 см золотая с голубым Wellness MT355-Джулия*16\n",
      "Сервировочная салфетка ПВХ 26х41 см Капучино 6163\n",
      "Гладильная доска Attribute TEFLONIX 135х46 см оранжевая ABT044\n",
      "Чайник эмалированный METALLONI со свистком и керамической ручкой Французский шарм 2,5 л EM-250X1/28\n",
      "Новогоднее дерево Ель канадская Коника в декоративном контейнере 1 л h-20 см\n",
      "Таз пластмассовый 30,0 л пищевой овальный (Иж), 1404055\n",
      "Сушилка для белья напольная COLOMBO ALPINA 30MT ST194/3CF\n",
      "Шнур резиновый для тележки 200 см белый, 1209004\n",
      "Термос со стеклянной колбой 1,2 л 21013\n",
      "Скиммия японская Рубелла d-19 см h-40 см\n",
      "Лестница-стремянка Dogrular Ufuk оцинкованная 8-ми ступенчатая\n",
      "Аспарагус Спренжери d-12 см\n",
      "Сумка-тележка хозяйственная Rolser Jet Claudia Joy черная, JET006 negro JOY\n",
      "Доска разделочная Alparaisa стеклянная Завтрак 20х30 см RD0030-ST\n",
      "Чайный набор 220 мл КАРИН РОМАШКА, G1988, Luminarc, ОАЭ\n",
      "Штора для ванной комнаты Bacchetta Fragmmento бежевая текстильная 180х200 см 6034\n",
      "Тарелка суповая Luminarc ОКЕАН ЭКЛИПС 20,5 см L5079\n",
      "Гладильная доска НИКА Бест 122х40 см НБ\n",
      "Розмарин d-9 см\n",
      "Пуансеттия d-23 см белая\n",
      "Набор бокалов для шампанского ЛЕДИ ДАЙМОНД 6 шт 150 мл G5208 Luminarc Франция\n",
      "Коврик придверный пористый из полимерных материалов 60х90 см коричневый, Vortex, D022\n",
      "Гладильная доска Dogrular Домина 125х42 см 223708\n",
      "Сумка-тележка хозяйственная Rolser RG SAQUET, черная, SAQ002 negro CONVERT\n",
      "Сумка хозяйственная на колесах, 1209020\n",
      "Скатерть 350х180 см WELLNESS WT358-Лувр*02 100% полиэстер\n",
      "Роза кордана белая d-10 см h-20\n",
      "Сушилка для белья Meliconi Miss Stendy\n",
      "Кружка БАМБУК 320 мл G0688 Luminarc Франция\n",
      "Комод Эльфпласт № 3 Алфавит оранжевый 301о\n",
      "Скатерть Арлет 50% полиэфир 50% хлопок овальная 350х175 см светло-бежевая Wellness MLO357-Арлет*17\n",
      "Корыто оцинкованное 45 л бесшовное, 1303007\n",
      "Сумка-тележка хозяйственная Gimi Brava\n",
      "Сушилка для белья напольная COLOMBO BELLA 20 м ST387\n",
      "Штора для ванной комнаты 240х200 Sintra бежевая текстильная 240х200 см 6039\n",
      "Кондиционер для белья Sandokkaebi Soft Aroma Aqua Blue Свежесть океана флакон 2100 мл Корея 8801353-003494\n",
      "Фарфоровая кружка ROSARIO бабочка 550 мл Ф16-013L\n",
      "Термокружка Alpenkok AK-04009A красный 400 мл\n",
      "Пуансеттия d-12 см красная\n",
      "Сумка-тележка хозяйственная Rolser Pack Gloria Logic RG серая, PAC036 marengo LOGIC RG\n",
      "Вешалка металлическая Valiant с четырьмя разъемными перекладинами противоскользящим покрытием 35*30 см 18B30\n",
      "Корзина пластиковая для белья 40л. с крышкой белая 1840/06, Виолет\n",
      "Стремянка бытовая Framar Slimmy 4 ступени\n",
      "Вешалка настенная НИКА ВП6с с полкой 6 крючков серебро\n",
      "Термос 1л SVB-1000H\n",
      "Вешалка гардеробная Радуга 1 ЗМИ белое серебро ВНП 298 бс\n",
      "Стремянка FRAMAR MAJOR TECH 4 алюминиевая 4-х ступенчатая 4126\n",
      "Плед флисовый 150х130 см WELLNESS WPLNY135-Зима_10 100 % полиэстер\n",
      "Вилка столовая 3 шт тяжелая серия Сапфир СВWeddel-2\n",
      "Коврик придверный хлопковый 60х140 см мультиколор, Helex, С04\n",
      "Скатерть виниловая тисненая с ажурной каймой 137х182 см водонепроницаемая ТД5-0077\n",
      "Электроштопор QWERTY белый 4,5?23,4 см на батарейках 4хАА 71000\n",
      "Коврик придверный полиэстер, 46х76 см, Drifted Nature, Изменчивость, Mohawk, 5007\n",
      "Коврик придверный Alpine Wrought Iron из полиэстера и переработанной резины 45x76 см, Apache, 4649\n",
      "Стремянка Eurogold Colour 2х ступенчатая с противоскользящим покрытием, сталь 2022R/2122R\n",
      "Тарелка обеденная Luminarc ОКЕАН ЭКЛИПС 24 см L5078\n",
      "Коврик для ванной комнаты, 50*80*1,4 см, мягкая основа, EXPEDITION HISTORY VALIANT, EXP-H-58\n",
      "Настенная сушилка для белья Gimi Brio Super 120\n",
      "Сумка-тележка хозяйственная GIMI ROLLING THERMO синяя\n",
      "Чайник эмалированный со свистком 2,5л ЕМ-25001/17\n",
      "Коврик противоскользящий 69х39 см овальный черепаха 5538\n",
      "Комплект для мытья полов из нержавеющей стали и пластика Clean Twist Mop зеленый: швабра-моп + ведро 20 л с механизмом отжима, L\n",
      "Корзина для белья ВИОЛЕТ с крышкой Ротанг 40 л латте 1840/20\n",
      "Простынь вафельная 200х180 см WELLNESS RW180-01 100% хлопок\n",
      "Набор вешалок деревянных 3 шт с перекладиной 44,5х23х1,2 см лиловый ROMANTIC VALIANT RM-16601s\n",
      "Декоративная композиция искуственных цветов Букет Подсолнухов 115 см три бутона\n",
      "Сковорода Scovo Дем Мт-029 алюминиевая без крышки с металической ручкой, 20 см\n",
      "Столовый нож RIPPLE 80 г 2 шт Attribute ACR042\n",
      "Вешалка Valiant для брюк и юбок металлическая 30*10.5 см 121B11\n",
      "Чехол для одежды Hausmann розовый принт 60х100х104\n",
      "Пеларгония зональная диам. 12 см красный махровый\n",
      "Пеларгония зональная РОЗОЦВЕТНАЯ Маргарита лососевая 5-7 листов\n",
      "Блюдце УТРО ЭКЛИПС, J3261, Luminarc, Франция\n",
      "Скатерть Ажурная d-ia Rose круглая д.152 белая 5173 Towa Co. LTd-\n",
      "Штора для ванной 180х200 см, Rigone Зеленый\n",
      "Контейнер для СВЧ Полимербыт Премиум 1,2 л 4356200\n",
      "Сушилка для белья напольная НИКА СБ1Г 18 м бело-голубая\n",
      "Фиттония Скелетон d-9 см\n",
      "Скатерть Беатрис 50% полиэфир 50% хлопок прямоугольная 300х145 см светло-коричневая Wellness ML304-Беатрис*20\n",
      "Чехол Eurogold Clean Metallic металлизированый с поролоном для досок 120х38-120х42 см C42F3M\n",
      "Роза кустовая Ред Лейс 60 см Кения плантация Waridi Limited 10 штук в упаковке\n",
      "Чехол для одежды Hausmann со стенкой из ПВХ и ручками 60х100 см AG\n",
      "Гладильная доска Dogrular Томрис 120x38 см\n",
      "Гладильная доска НИКА БЭЛЛЬ-ЮНИОР2 112х34,5 см БЮ2\n",
      "Полки QWERTY Лондон белый 27х27х10 см и 23х23х10 см 72000\n",
      "Тимьян d-9 см\n",
      "Бульонница Luminarc МИСТИГРИ 500 мл J8770\n",
      "Сушилка для белья напольная НИКА СБП1/С 18 м\n",
      "Нож для овощей и мяса (5024) 1518004\n",
      "Алоэ Вера d-12 см h-25 см\n",
      "Гладильная доска NIKA HAUSHALT Тефлон золотой 122х40 см HP1T/G\n",
      "Жестяная банка Гуси 0,8 л 11х9,9 см Ц99h110v080-01339\n",
      "Пеларгония зональная диам. 12 см красно-розовая простая\n",
      "Комнатное растение в горшке Сциндапсус зеленый подвесной горшок, d15-16, h30\n",
      "Сушилка для белья напольная НИКА СБ3Б 10 м белая\n",
      "Роза одноголовая Родос 70 см Кения плантация Subati Flowers Limited 10 штук в упаковке\n",
      "Сумка-тележка GIMI ITALO blue синяя\n",
      "Щетка для мытья посуды КОЛИБРИ М5202 большая\n",
      "Миксер ВАСИЛИСА ВА-506 белый с красным/малиновым 180 Вт 7 скоростных режимов\n",
      "Сушилка для белья напольная НИКА СБ3 10 м\n",
      "Ключница Картина W-12 ЗАМОК 35х30 см\n",
      "Разделочная доска Attribute GRANITE 20х30 см ABX111\n",
      "Штора для ванной Spirella / Спирелла TEX Porto, белый, текстиль с гидрофобной пропиткой, 180*200 см, 1033938\n",
      "Тарелка обеденная СТЕЛЛА ШОКОЛАД 25 см J1762 Luminarc\n",
      "Чайник электрический ВАСИЛИСА Т30-2000 нержавеющая сталь черный c красным 2000 Вт 1,8 л\n",
      "Аптения d-12 см h-15 см\n",
      "Мантоварка-пароварка WEBBER BE-81 нержавеющая сталь d=30 см\n",
      "Складная картонная коробка для хранения 30х20х15 см с уголками белый hm-9741-3 Hausmann\n",
      "Спатифиллум Шопен d-12 см\n",
      "Чехол для гладильной доски Colombo Клубки Пряжи Серый/Розовый 140х55 см из хлопка 5550\n",
      "Контейнер герметичный прямоугольный Виолет 092/051 500 мл дымчатый\n",
      "Набор вешалок пластмассовых Rozenbal R181900\n",
      "Искусственный цветок пластиковый Нарцисс 3 бутона королевский 46 см\n",
      "Емкость для соуса с ложкой PASABAHCE 200 мл OTS131505-000\n",
      "Фикус каучуконосный Эластика Абиджан d-12 см h-30 см\n",
      "Тарелка суповая Luminarc МАРИСА ОРАНЖ 20 см J7687\n",
      "Защитная соль для посудомоечных машин Ludwik 1,5 кг Польша 5900861242227\n",
      "Таз пластмассовый 16,0 л пищевой круглый М2507, 1404037\n",
      "Гипоаллергенный концентрированный гель для стирки белья VPK для деликатных тканей 2,5 л Корея 8809473130144\n",
      "Коврик придверный с дизайном, из резины и кокоса 58,5*89 Gothic Iron Slice / Готический Узор, 4468\n",
      "Муляж Ананас 21 см\n",
      "Сиденье для ванны пластмассовое М1552 1714003\n",
      "Скатерть 150х120 см WELLNESS WT125-Куэна 100% полиэстер\n",
      "Сумка-тележка 2-х колесная Gimi Argo черная\n",
      "Коврик кухонный APACHE Coffee Chef 45x75 см 5420\n",
      "Вешалка-перекладина Valiant металлическая двойная с антискользящим покрытием 50320\n",
      "Скатерть Муза 100% полиэфир овальная 180х150 см сливочная с цветами, Wellness, WTO185-Муза*04\n",
      "Кружка мерная 11600 1 л\n",
      "Штора для ванной Spirella / Спирелла TEX Rings, текстиль с гидрофобной пропиткой, серо-черный, 180*200 см, 1015184\n",
      "Сушилка для белья ЛИАНА ЛЮКС 110 см потолочная\n",
      "Роза Патио оранжевая d-12 см h-30\n",
      "Фиалка d-9 см белая махровая\n",
      "Штора для ванной Spirella / Спирелла TEX Shine текстиль с гидрофобной пропиткой, шампань, 180*200 см, 1015640\n",
      "Модульная стеклянная банка 1,1л, 298264, Brabantia,\n",
      "Сушилка для белья Zalger Simfony 1255-90 одноуровневая с крыльями 20 м\n",
      "Контейнер для мусора пластиковый 50 л 40,7х30,6х72,7 см РОЛЛ ТОП серый, Curver, D 03977-856\n",
      "Сушилка для белья настенная НИКА СН90 серебро 90 см\n",
      "Сушилка для белья потолочная ЛИАНА ЛЮКС 200 см ЛЛП-200\n",
      "Перчатки Fabrikators для чистки овощей детские оранжевый KO2PU\n",
      "Термостакан WEBBER ВЕ-6031 ЧАЙ 450 мл\n",
      "Сумка-тележка хозяйственная Rolser IMX001 negro Convert RG черная\n",
      "Столовая ложка Attribute FORTRESS 2 шт ACF622\n",
      "Сушилка для белья Hausmann Hermes De Luxe 20 м 03-010C-1\n",
      "Подставка для ножей ALPENKOK круглая из пластика 11*22 см красная AK-202ST\n",
      "Лестница стремянка ЗМИ Конёк медный антик ТС 277\n",
      "Чайный набор Luminarc ЛИЛИ ФЛАУЭР 6 шт 320 мл J8565\n",
      "Весы напольные Edition Feet механические\n",
      "Петля рояльная цинк 960 мм, 1103055\n",
      "Банка стеклянная с металлической крышкой и краником Attribute GRAPE 3,8 л ABS038\n",
      "Карниз для ванной комнаты Виолет раздвижной 210 см с кольцами белый 2110/6\n",
      "Чехол для гладильной доски I LOVE GIMI M из полиэстера и хлопка 132*48 см, Gimi\n",
      "Азалия Индика фиолетовая d-10 см h-20\n",
      "Пеларгония зональная махровая белая взрослое растение\n",
      "Пеларгония розебудная Emma укорененный черенок\n",
      "Пеларгония розебудная Mary укорененный черенок\n",
      "Пеларгония розебудная Prins Nikolai укорененный черенок\n",
      "Полки QWERTY Берлин чёрный 44х24х10 см 40х20х10 см 36х16х10 см 72008\n",
      "Штора для ванной комнаты ПВХ 180х180 см Ракушки бежевая, 5923\n",
      "Крючок проволочный 75 мм латунь, 1110136\n",
      "Цветок искусственный Тюльпан 40 см пластик цвет в ассортименте\n",
      "Просеиватель для муки D27см., RSB\n",
      "Мусорный контейнер Hailo BigBin Swing 45 0845-010 45 л хром\n",
      "Пеларгония Toscana Angeleyes Amarillo Burgundy укорененный черенок\n",
      "Пеларгония Toscana Angeleyes Amarillo Rosato укорененный черенок\n",
      "Пеларгония розебудная Queen Ingrid укорененный черенок\n",
      "Пеларгония розебудная Red Pandora укорененный черенок\n",
      "Пеларгония Toscana Angeleyes Bicolor укорененный черенок\n",
      "Скатерть Meiwa FPLUS-PLAIN SARASA AZ BE прямоугольная152х228 см бежевая 5140 Meiwa\n",
      "Кастрюля чугунная 24 см, красная, 3.6 л, PYREX, SC5AC24/5141\n",
      "Сиденье для гладильной доски Leifheit Niveau, 71325\n",
      "Штора для ванной 180х200 см, Rigone Розовый\n",
      "Весы настольные электронные DELTA КСЕ-01 белый 5кг\n",
      "Крючок проволочный 125 мм медь, 1110132\n",
      "Гладильная доска НИКА ВЕРОНА 1 чехол МУЖЧИНА С РОЗОЙ 122х42 см ДВ1м\n",
      "Средство для мытья посуды Vestar Гранат 1000 мл Россия 4620757211700\n",
      "Декоративная коробка Stockholm XL Classico 30*25*40 см D 04711-D41 Curver 04711-D41\n",
      "Толкушка деревянная ( Бук ) 1530018\n",
      "Махровое полотенце 70х35 см WELLNESS EXCLUSIVE 1ДСЖ1_ЙОТА_1-67 100% хлопок\n",
      "Вешалка НИКА Комфорт 6 напольная серебро ВК6с\n",
      "Швабра для пола с отжимом и фиксатором микрофибра, R212608, ROZENBAL\n",
      "Искусственная лиана Плющ 2,4 м\n",
      "Кодонанта укорененный черенок 1 шт\n",
      "Коврик придверный PHP SRL 40х68 см Format Tour 21717 Добро пожаловать 6008\n",
      "Гладильная доска Белль-Юниор1 34,5х112см ДСП 1200006\n",
      "Кофр для хранения Hausmann средний 36х36х30 2 шт. 4c-202\n",
      "Гладильная доска НИКА ЛИНА 1 112х34,5 см ДЛ1\n",
      "Гладильная доска Dogrular Эко Инжи 110х33 см 224414\n",
      "Средство для быстрого удаления жировых загрязнений DECS Антижир 500 мл Россия 4660015923259\n",
      "Совок и щетка на стальных длинных рукоятках 120 см, Rozenbal, R500028\n",
      "Контейнер для мусора ДОМИНИК CURVER 25 л серебристый 05322-877\n",
      "Тарелка десертная Luminarc ДИВАЛИ 19 см D7358\n",
      "Сушилка для белья потолочная Zalger Lift Basic 1520 200 см 10 м\n",
      "Хлебница деревянная (Бук) КБ-028, 35х28х19 см 1524002\n",
      "Сумка-тележка хозяйственная GIMI KANGOO THERMO powder коричневая\n",
      "Искусственный цветок Мимоза пластиковая желтая\n",
      "Гладильная доска Sarayli Grown Lux 45х125 см\n",
      "Гладильная доска Dogrular Сити 110х33 см 223712\n",
      "Пеларгония розебудная Margaretha укорененный черенок\n",
      "Тарелка суповая СТОУНМАНИЯ КАПУЧИНО 20 см J2132 Luminarc\n",
      "Антуриум андрианум Пикассо голубой d-15 см\n",
      "Гладильная доска Eurogold Europa Paris 120х38 см 21738F6EC\n",
      "Скатерть Dasch Донна Роза из ПВХ 0401-2 Розы овальная 122х152 см 5953\n",
      "Тарелка десертная Luminarc СИНА СИЛЬВЕР 19 см L0886\n",
      "Искусственный цветок Ландыш пластиковый малый белый\n",
      "Корзина для белья ВИОЛЕТ с крышкой Ротанг 60 л белая 1860/06\n",
      "Кружка Luminarc ШЭЙДС БЛЭК 320 мл H8401\n",
      "Гербера комнатная желто-оранжевая d-12 см\n",
      "Насадка-отжим пластиковая бирюзовая для ведра Classic Mop, Leifheit, 52002\n",
      "Муляж Оранжевое яблоко мини полиуретан d-6 см\n",
      "Гладильная доска НИКА ЛИНА 2 106,5х29 см ДЛ2\n",
      "Ведро пластиковое универсальное 12 л цвета морской волны, Leifheit, 52000\n",
      "Ковер придверный EKSPO 40x60 см серый РР105/01001\n",
      "Гладильная доска НИКА ЭЛЬЗА ДЕ ЛЮКС 122х40 см ЭЛ\n",
      "Сушилка для белья потолочная ЛИАНА ЛЮКС 300 см 300-LDN\n",
      "Коврик для туалета L'CADESI HURREM 50х60 см с вырезом бежевый 315602\n",
      "Салатник Luminarc ЭМПИЛАБЛЬ ВЕЛАДА 17 см L7997\n",
      "Искусственный цветок Ландыш пластиковый большой белый\n",
      "Сумка-тележка хозяйственная Rolser Jet Joy серебро, JET016 plata JOY\n",
      "Чехол для одежды объемный Hausmann с овальным окном ПВХ и ручками 60х100х10 см черный HM-701003AG\n",
      "Цикламен, цвет в ассортименте\n",
      "Тарелка десертная Attribute LILY TRACERY WHITE 20 см ADL021\n",
      "Коврик придверный из резины и кокоса, 40х68 см, Format Forme, Кот, серый, PHP SRL, 20920\n",
      "Фаленопсис Люкс Микс 1 ствол d-12 см\n",
      "Сумка-тележка хозяйственная Rolser Jet Joy фиолетовая, JET016 malva JOY\n",
      "Сумка-тележка хозяйственная GIMI ROLLING THERMO коричневая\n",
      "Кружка МАРЛИ ЭКЛИПС 250 мл H9184 Luminarc Франция\n",
      "Цикламен d-12 см h-20 цвет в ассортименте\n",
      "Гимнокалициум Микс d-5 см\n",
      "Сумка-тележка хозяйственная Rolser Jet C. Capri Joy черная, JET017 negro JOY\n",
      "Штора для ванной комнаты 240х200 Rigone розовая текстильная 240х200 см 6043\n",
      "Сумка-тележка 2-х колесная Gimi Argo фиолетовая\n",
      "Гладильная доска Eurogold DELUX 130х48 см 35348R\n",
      "Емкость для СВЧ LUX 4.4 л прямоугольная, Curver, 15537\n",
      "Нетканые салфетки в рулоне 70 шт EUROHOUSE EH4967\n",
      "Примула желтая с оранжевым в горшке d-10 см\n",
      "Гладильная доска НИКА БЕЛЛЬ Классик 2 122х34,5 см БК2\n",
      "Сушилка для белья ВИОЛЕТ Julia 20 м хром J-20\n",
      "Сушилка для белья потолочная ЛИАНА ЛЮКС 150 см ЛЛП-150\n",
      "Пылесос DELTA DL-0835 синий 1600 Вт мешок для сбора пыли 1 в подарок мощность всасывания 300 Вт\n",
      "Рассада зелени для кухни Душица-орегано розовый объем 0,5 л\n",
      "Рассада зелени для кухни Мята Морокан диам. 9 см\n",
      "Рассада зелени для кухни Ориганум Ауреум Голд диам. 9 см\n",
      "Рассада пряной травы Лавр в горшке 9 см\n",
      "Зубная паста Systema Tartar против образования зубного камня 120 г Корея 8806325-616764\n",
      "Вешалка деревянная для верхней одежды 45 см\n",
      "Контейнер для СВЧ Полимербыт Премиум 0,5 л 4356000\n",
      "Корзина для белья ЭЛЬФПЛАСТ Виола 30 л бежевая 204\n",
      "Калатея Кроката d-15 см\n",
      "Кофе Арабика d-9 см\n",
      "Вешалка напольная с подставкой для сумок BLUES темная на колесиках Степанов\n",
      "Сушилка для белья потолочно-настенная Gimi Lift 120\n",
      "Пеларгония зональная диам. 12 см розовая рябая полумахровая\n",
      "Контейнер для продуктов PASABAHCE 1,25 л голубой OTS161560-005\n",
      "Антуриум Тропик Найт НИДЕРЛАНДЫ 1 штука в упаковке\n",
      "Сушилка для белья потолочная ЛИАНА ЛЮКС 210 см ЛЛП-210\n",
      "Эхинокактус Грузони d-5 см\n",
      "Коврик для ванной комнаты ORSINI хлопок 90х60 см светло-бежевый, Spirella, 1013512\n",
      "Чехол для костюма 60х110 см Rozenbal R261016\n",
      "Искусственный цветок Букет Примулы пластиковая лиловая\n",
      "Термокружка вакуумная Alpenkok из нержавеющей стали AK-04002A коричневая 400 мл\n",
      "Корзина для белья бамбук угловая 37х58см, Attribute, ASB386\n",
      "Набор махровых салфеток ФИТ_3, 100% хлопок 315 г/м2, 34х35 см, 3 шт, цвета в ассортименте, Wellness, 4630005367202\n",
      "Коврик придверный влаговпитывающий Hello, Bonjour, Ciao из переработанной резины и коврового покрытия 60х90 см, Apache, 4658\n",
      "Сушилка для белья ВИОЛЕТ Julia 20 м белая J-20W\n",
      "Чайник заварочный Luminarc ЭЛИЗ 1,4 л H2258\n",
      "Коврик интерьерный 45х75 Вино Comfort Mats, Mohawk, 5079\n",
      "Вантуз черный с длинной ручкой (D-110 мм, L-380 мм), 1206007\n",
      "Полки QWERTY Мадрид белый/чёрный 50х30х12 см 2 штуки и 30х24х12 см 2 штуки 72019\n",
      "Цветок искусственный Роза с закрытым бутоном цвет в ассортименте 50 см\n",
      "Бальзамин новогвинейский d-13 см ярко красный\n",
      "Стремянка Colombo Factotum алюминиевая 3 ступени\n",
      "Коврик придверный хлопковый 55х110 см мультиколор, Helex, С03\n",
      "Чехол Eurogold Reflector с металлизированной полосой, поролон для досок 120х38-120x42 см DC42F3R\n",
      "Искусственный цветок Подснежник садовый пластиковый розовый\n",
      "Комплект махровых полотенец 60х30 см WELLNESS ПРОМО_3 100% хлопок\n",
      "Сумка-тележка 2-х колесная Gimi Galaxy красная\n",
      "Сковорода алюминиевая с антипригарным покрытием Scovo Expert СЭ-028 диаметр 240 мм с крышкой, Хозлэнд, 1503008\n",
      "Чехол для гладильной доски универсальный 2, 1290 х 500, Ч2, НИКА\n",
      "Сумка-тележка 2-х колесная Gimi Argo красная\n",
      "Фал капроновый 6 мм в бухте 300м Т-1, 1201050\n",
      "Форма АLPENKOK AK-6062S для выпечки Love розовый 21,5*24,5*4 см\n",
      "Пеларгония зональная простая цвет фуксии взрослое растение\n",
      "Орехоколка VIVA, Attribute, ATV600\n",
      "Корзина для белья ЭЛЬФПЛАСТ Виола 30 л коричневая 204к\n",
      "Фиалка d-9 см малиновая простая\n",
      "Штанга для ванной Г-образная, угловая 80Х170 см, хром\n",
      "Сушилка для белья Zalger Bright Short 510-520 10 м\n",
      "Рассада зелени для кухни Мята Эппл Минт диам. 9 см\n",
      "Рассада зелени для кухни Розмарин Блю Лагун диам. 9 см\n",
      "Рассада зелени для кухни Тимьян Вульгарис Компактус диам. 9 см\n",
      "Рассада зелени для кухни Тимьян-чабрец розовый объем 0,5 л\n",
      "Рассада пряной травы Кофе Арабика в горшке d-9 см\n",
      "Чайный набор Luminarc ОТАНТИК СИЛЬВЕР 220 мл H8388\n",
      "Сумка-тележка хозяйственная Andersen Alu Star Shopper, Hava, синяя 115-103-90\n",
      "Сумка-тележка хозяйственная Rolser JET029 azul-lois JOY синяя\n",
      "Гладильная доска Hausmann Classic MONO 120x38 cм HM-2122\n",
      "Увлажняющая маска Brown Rice Moisture 330 мл Корея 599928\n",
      "Сушилка для белья Gimi Duplo\n",
      "Искусственный цветок Лилейник пластиковый светло-лиловый\n",
      "Корзина для глаженного белья NATURAL STYLE пластиковая темно-серая 45 л 38х59,2х27 см, Curver, D 00708-308\n",
      "Эхеверия Микс d-5 см\n",
      "Пеларгония зональная диам. 12 см малиново розовая простая\n",
      "Пеларгония зональная диам. 12 см ярко розовая махровая\n",
      "Салфетка на стол 30x45 см из бамбука NAPA-221\n",
      "Фиалка Химера d-12 см\n",
      "Сушилка для белья НИКА СБ2 20 м\n",
      "Ведро AMPARI РТ9061СЛРОЗ-10РS 12 л сливочно-розовый\n",
      "Сушилка для белья напольная НИКА СБ2Г 20 м бело-голубая\n",
      "Муляж Виноград 17 см цвет в ассортименте\n",
      "Салатник Luminarc ПОЭМА АНИС 12 см J1349\n",
      "Чехол для гладильной доски PRISMA TEXTIL термостатический 130х48 см в ассортименте 45\n",
      "Крокусы Pickwick голубой в горшке d-21 см 19 луковиц\n",
      "Термокружка Яромир КРЕМЛЬ ЯР-2406М 400 мл\n",
      "Искусственный цветок Сирень пластиковая лиловая\n",
      "Штора для ванной комнаты Bacchetta Fabric текстильная 180х200 см 3656\n",
      "Роза мини желтая d-7 см h-10\n",
      "Кухонное полотенце вафельное 64х38 см WELLNESS ЭЛИЯ-mix\n",
      "Спатифиллум d-7 см\n",
      "Кухонное полотенце махровое 42х28 см WELLNESS ФРЕШ-mix\n",
      "Декоративная коробка AMSTERDAM L Miss New York пластиковая 40х30х24 см Curver D 04730-M35\n",
      "Сетка для стирки белья на 5 кг 90x60 см белая, Burstenmann, 1800/0000\n",
      "Пеларгония зональная Ринго Вайт d-7 см h-10 см укорененный черенок\n",
      "Гипсофила Аврора 80 см Израиль 25 штук в упаковке\n",
      "Пеларгония зональная Мультиблум Скарлет Ай d-7 см h-10 см укорененный черенок\n",
      "Подарочный набор на 8 Марта Тюльпаны розовые 5 луковиц d-12 см в подарочной упаковке с открыткой\n",
      "Цветок искусственный Ландыш 20 см пластик\n",
      "Полки QWERTY Токио чёрный 30х30х10 см 25х25х10 см 20х20х10 см 15х15х10 см 72007\n",
      "Сушилка Meliconi Stendy Junior\n",
      "Декоративная композиция искуственных цветов Букет Роз три цветка, цвет в ассортименте 105 см\n",
      "Кастрюля круглая 20 см серая 2,2 л, чугунная с крышкой, PYREX, SC4AC20\n",
      "Подарочный набор на 8 Марта Пеларгония красная d-12 см в подарочной упаковке с открыткой\n",
      "Примула комнатная D9 см цвет в ассортименте\n",
      "Дендробиум Фиолетовый Россия 10 штук в упаковке\n",
      "Термос со стеклянной колбой 1,0 л серо-зеленый 31004/13S\n",
      "Калибрахоа ампельная, диам. 12 см\n",
      "Роза садовая парковая в горшке Голден Селебрейшен\n",
      "Роза садовая чайногибридная в горшке Императрица\n",
      "Роза садовая чайногибридная в горшке Колетт\n",
      "Сушилка для белья потолочно-настенная Gimi Lift 100\n",
      "Таз пластмассовый 25,0 л пищевой (Минеральные воды), 1404046\n",
      "Сушилка для белья потолочно-настенная Gimi Lift 140\n",
      "Миксер электрический погружной DELTA DL-5061 белый с сиреневым 300 Вт 5 скоростей\n",
      "Эпипремнум Ауреум d-12 см\n",
      "Фаленопсис желтый в розовую полоску d-12 см\n",
      "Мирт d-9 см h-15 см\n",
      "Гладильная доска Gimi Roma 122х38 см\n",
      "Дозатор для мыла Hausmann оранжевый HM-B0058R-2\n",
      "Набор Vileda Easy Wring & Clean Turbo 151153 в коробке швабра и ведро с педальным отжимом\n",
      "Мыло ручной работы сувенир подарок на 8 марта Классика\n",
      "Примула комнатная D9 см малиновая\n",
      "Пуансеттия в горшке D12 см белая с красным\n",
      "Пуансеттия в горшке D23 см розовая\n",
      "Рассада зелени для кухни Сальвия Оффициналис Иктерина диам. 9 см\n",
      "Рассада Огурца сорт Изящный, кассета по 6шт\n",
      "Рассада Огурца сорт Родничок, кассета по 6шт\n",
      "Рассада томата (помидор) Моравское чудо №54 сорт индетерминантный раннеспелый красный\n",
      "Рассада томата (помидор) сорт Колибри №42\n",
      "Цикламен комнатный D15 см H20 см малиновый\n",
      "Разделочная доска Классика О-35 35х21х1,5 см\n",
      "Штора для ванной, 180х200 см, Прозрачный, La Vita, ПВХ, 3D рисунок, А023-0000, 4543.\n",
      "Подарочный набор на 8 Марта Гиацинты розовые 3 луковицы d-12 см в подарочной упаковке с открыткой\n",
      "Хризантема кустовая стреса 70 см НИДЕРЛАНДЫ 5 штук в упаковке\n",
      "Махровый халат женский размер 44-46 WELLNESS АЛИНА_1-71\n",
      "Фиалка d-9 см белая с розовой каймой\n",
      "Аквилегия обыкновенная Барлоу микс объем 1 л\n",
      "Базилик Смесь зеленого и фиолетового 0,4 г 4660010775433\n",
      "Горох Амброзия 10,0 г 4660010772616\n",
      "Земляника Барон Солемахер 0,04 г 4660010775556\n",
      "Незабудка смесь 0,1 г 4650091480340\n",
      "Рассада зелени для кухни Тимьян Дюн Валей диам. 9 см\n",
      "Рассада зелени для кухни Тимьян Сильвер Кинг диам. 9 см\n",
      "Седум почвопокровный смесь окрасок объем 1 л\n",
      "Тимьян овощной Медок 0,1 г 4660010776423\n",
      "Томат Балконное чудо 0,1 г 4660010772531\n",
      "Укроп Обильнолистный 3,0 г 4660010772562\n",
      "Сушилка для белья Gimi Top Super / Moving\n",
      "Нефролепис Бостон d-12 см\n",
      "Роза одноголовая Свит Юник 70 см Эквадор плантация Ecuatorian 25 штук в упаковке\n",
      "Калла крупноцветковая желтая\n",
      "Набор ножей WEBBER из нержавеющей стали 7 предметов на деревянной подставке коричневый ВЕ-2238\n",
      "Декабрист в горшке D12 белый\n",
      "Декабрист в горшке D12 красный\n",
      "Рассада томата (помидор) Монгольский карлик №53 сорт детерминантный раннеспелый красный\n",
      "Дендробиум Яблоневый Россия 10 штук в упаковке\n",
      "Тюльпан Louvre (Лувр) Бахромчатый 25 шт\n",
      "Гладильная доска НИКА RETRO 122х42 см 5758\n",
      "Насадка для ведра Basic Wet & Dry Mop пластиковая зеленая, Leifheit, 55237\n",
      "Искусственная композиция из цветов пластиковая Ромашка мини розовая\n",
      "Сумка-тележка хозяйственная Rolser Jet Claudia Joy серая, JET006 marengo JOY\n",
      "Штангенциркуль 150 мм пластмассовый, точность 0,1 мм 3015515, 0910007\n",
      "Скатерть 350х150 см WELLNESS MT355-Джулия*16 36% полиэстер 64% хлопок\n",
      "Роза Кордана белая d-10 см h-20\n",
      "Жестяная банка Горошек Ц099h145v110-01321\n",
      "Коврик влаговпитывающий ребристый 60х90 см Стандарт черный 5881\n",
      "Сумка-тележка хозяйственная Rolser Paris, бордовая, PEP001 bassi JOY\n",
      "Мыло-скраб с мочалкой люфой Мандала около 100 г\n",
      "Сумка-тележка хозяйственная Rolser MOUNTAIN черная, MOU076 negro CONVERT RG\n",
      "Сумка-тележка хозяйственная Andersen Scala Shopper, Elba, бирюзовая 112-051-90\n",
      "Тарелка обеденная Luminarc ПУЭБЛО корал 69883\n",
      "Искусственная композиция из цветов пластиковая мини елочка зеленая с голубым\n",
      "Коврик интерьерный для кухни La Bruschetta из ПВХ прямоугольный 45х75 см, Apache, 4661\n",
      "Подарочный набор на 8 Марта Пеларгония белая d-12 см в подарочной упаковке с открыткой\n",
      "Подарочный набор на 8 Марта Нарцисс 5 луковиц d-12 см с открыткой и мылом и удобрением в подарочном пакете\n",
      "Штора для ванной комнаты Bacchetta Prato зеленая текстильная 180х200 см 6029\n",
      "Сумка-тележка хозяйственная Andersen Scala Shopper, Petit, черная 112-010-80\n",
      "Сушилка для белья напольная НИКА СБ8 18 м серая\n",
      "Мята перечная Тач Tachi d-7 см h-10 см мандариновая мята укорененный черенок\n",
      "Сушилка для белья настенная НИКА СН120 белая 120 см\n",
      "Сумка-тележка TWIN стальной каркас 56 л серая, Gimi\n",
      "Корзина для белья ВИОЛЕТ с крышкой Ротанг 40 л капучино 1840/19\n",
      "Коврик для ванной комнаты KARO полиакрил 90х60 см светло-коричневый, Spirella, 1013110\n",
      "Гладильная доска НИКА ВАЛЕНСИЯ FASHION VALENSIA 123х45 см НВ1/2\n",
      "Азалия Индика розовая d-12 см h-20\n",
      "Гиацинт Blue Pearl голубой в горшке d-12 см 3 луковицы\n",
      "Вербена рассада однолетних цветов в кассете по 6 шт\n",
      "Однолетнее растение Петуния махровая в кассете 4 шт, Россия\n",
      "Однолетнее растение Петуния простая в кассете по 4 шт, Россия\n",
      "Однолетнее растение Табак душистый в кассете по 4 шт, Россия\n",
      "Петуния гибридная ампельная, диам. 12 см\n",
      "Петуния махровая рассада однолетних цветов в кассете по 6 шт\n",
      "Скалка силиконовая, Lekue, 0200800M02U050\n",
      "Утюг DELTA DL-755 черный с оранжевым 2200 Вт керамическая подошва самоочистка паровой удар\n",
      "Ведро овальное с отжимом и шваброй моп с черенком Centi, 8 л, высота 22 см, York/7218\n",
      "Цикламен d-12 см h-20 см белый с малиновой серединой\n",
      "Чайник заварочный стеклянный с металлическим фильтром 750 мл красный WEBBER BE-5570/1\n",
      "Искусственный цветок Калла большая пластиковая бело-зеленая\n",
      "Гладильная доска Zalger Perfo Midi 500-702 120х38 см\n",
      "Сумка-тележка хозяйственная GIMI Ideal синяя\n",
      "Набор прецизионных напильников с двухкомпонентной ручкой, длина 15,2 см, 6 шт., сталь, Truper, Lijo-6x/15240\n",
      "Сушилка для белья потолочная Лиана 1,4 м 1703003\n",
      "Корзина на колесах RATTAN STYLE тёмно-коричневая Curver 01704-210\n",
      "Рукав для гладильной доски Zalger ДСП 500603 48х8 см\n",
      "Емкость для СВЧ LUX 3.2 л прямоугольная, Curver, 15552\n",
      "Чабер Bolero d-7 см\n",
      "Бакопа ампельная махровая белая махровая объем 0,5 л\n",
      "Бакопа ампельная махровая сиреневая махровая объем 0,5 л\n",
      "Бакопа ампельная махровая фиолетовая махровая объем 0,5 л\n",
      "Калибрахоа Aloha Double Purple сиреневая махровая объем 0,5 л\n",
      "Калибрахоа Mini Famous Double Blue фиолетовая махровая объем 0,5 л\n",
      "Калибрахоа Mini Famous Double Red красная махровая объем 0,5 л\n",
      "Калибрахоа Sweet Bells Double Golden желтая махровая объем 0,5 л\n",
      "Коробка прямоугольная Полимербыт ПРОВАНС 5,5 л 4351107\n",
      "Карниз для ванной комнаты алюминий хром, Spirella, 1014625\n",
      "Сумка-тележка хозяйственная Rolser IMX006 bassi Logic Tour бордовая\n",
      "Ранункулус Клуни Ханои 45 см Нидерланды 10 штук в упаковке\n",
      "Сушилка для белья Colombo Star 18 3679\n",
      "Гладильная доска НИКА 3+ 122х34,5 см Н3+\n",
      "Искусственный цветок Букет Георгина пластиковая бело-розовая\n",
      "Полки QWERTY Нью-Йорк правый белый/голубой 44х24х10 см 40х20х10 см 36х16х10 см 72012\n",
      "Штора для ванной комнаты SHINE полиэстер 180х200 см фиолетовый, Spirella, 1015652\n",
      "Лестница-стремянка Sarayli 6-ти ступенчатая\n",
      "Набор стаканов МОНАКО 6 шт 250мл низкие H5124 Luminarc Россия\n",
      "Рассада томата (помидор) сорт Золотое руно, кассета по 6шт\n",
      "Рассада томата (помидор) сорт Любимец Подмосковья, кассета по 6шт\n",
      "Рассада томата (помидор) сорт Розовый фламинго, кассета по 6шт\n",
      "Рассада томата (помидор) сорт Челнок, кассета по 6шт\n",
      "Рассада томата (помидор) сорт Черный шоколад, кассета по 6шт\n",
      "Штора для ванной комнаты Rigone 240х200 см бежевая, Bacchetta, 4059\n",
      "Искусственный цветок Подснежник пластиковый белый\n",
      "Карниз для ванной комнаты Виолет раздвижной 210 см с кольцами голубой 2110/3\n",
      "Венчик с деревянной ручкой (Хохломская роспись) 1522013\n",
      "Гвоздика стандартная Белая 60 см Колумбия Плантация Geoflora S.A.S. 25 штук в упаковке\n",
      "Пеларгония Angeleyes Orange укорененный черенок\n",
      "Цикламен комнатный D15 см H20 см розовый с белым\n",
      "Сито WEBBER из нержавеющей стали d = 21 см с пластиковой ручкой ВЕ-7335\n",
      "Искусственная композиция из цветов пластиковая Лилия мини лиловая\n",
      "Бак для белья Hailo 0744-221, 44 л, стальной\n",
      "Чехол для гладильной доски с дизайном Paris 140х55 см из хлопка\n",
      "Тележка хозяйственная 4-колесная большая тип-7, 1209057\n",
      "Щетка для труднодоступных мест со скребком ROZENBAL R510075\n",
      "Сковорода HARD 28 см, алюминиевая, с антипригарным покрытием, Attribute, AFD028\n",
      "Tepмокружка AVEX Freeflow 700 мл зеленый AVEX0759\n",
      "Роза мини оранжевая d-7 см h-10\n",
      "Скатерть Dasch Донна Роза из ПВХ 0018-8 Букет овальная 132х178 см 5979\n",
      "Полки QWERTY Барселона белый 28х28х15 см 23х23х15 см 17х17х15 см 72009\n",
      "Корзина для белья ВИОЛЕТ угловая с крышкой Ротанг 60 л белая 2350/6\n",
      "Тарелка обеденная КОТОН ФЛАУЭР 25 см H2776 Luminarc\n",
      "Штора для ванной Spirella / Спирелла FLY, фиолетовый, текстиль, 180*200 см, 1013539\n",
      "Миска Фазенда ПЦ2311ЗЛПР 1,5 л\n",
      "Вешалка надверная Нота 5 ЗМИ медный антик ВНД 310 м\n",
      "Сушилка для белья Leifheit 81704 PEGASUS 120 Compact 75х155х44 см\n",
      "Штора для ванной, 180х200 см, Прозрачный, La Vita, ПВХ, 3D рисунок, А034-0000, 4545.\n",
      "Антуриум андрианум Многоцветковый Красный d-12 см\n",
      "Тарелка обеденная ГРИН ОД 25 см G0707 Luminarc\n",
      "Искусственный цветок Букет Примулы пластиковая желтая\n",
      "Тарелка обеденная АЛЬТО САПФИР 26 см J1749 Luminarc\n",
      "Гладильная доска НИКА 11 тефлон 122х40 см НТ11\n",
      "Газания рассада однолетних цветов в кассете по 10 шт\n",
      "Овсянница сизая серый объем 1 л\n",
      "Концентрат для мытья посуды Mama Ultimate Зеленый чай 1000 мл РоссияКорея 049320\n",
      "Форма для выпечки ALPENKOK AK-6038S для кекса Спираль розовый d=25 см; h=9 см\n",
      "Набор вешалок универсальных Attribute NEO BLUE 42 см 5 шт AHS725\n",
      "Искусственный цветок Тюльпан пластиковый открытый ярко-красный\n",
      "Швабра для мытья окон Leifheit Comfort с телескоп. Ручкой, 51010\n",
      "Тортница CURVER 00416-286-00\n",
      "Георгина Черная красавица 5 шт 4650091480579\n",
      "Календула Бронзовая красавица 10 шт 4650091480746\n",
      "Космея Лимонад 10 шт 4650091480500\n",
      "Космея Попсокс белая 10 шт 4650091480562\n",
      "Космея Попсокс розовая 10 шт 4650091480555\n",
      "Космея Снежный клик 0,1 г 4660010770414\n",
      "Смолевка Звездный взрыв 0,02 г 4650091480630\n",
      "Цинния Ацтек бургунди биколор 10 шт 4650091480739\n",
      "Цинния хаага Олд Мехико 0,5 г 4650091480456\n",
      "Средство против засоров в системах водопровода DECS Антизасор 1000 мл Россия 4660015923303\n",
      "Базилик зеленый Тонус d-7 см\n",
      "Базилик Овощной Арарат d-7 см\n",
      "Базилик Пурпурные Звезды d-7 см\n",
      "Лаванда Торх d-7 см\n",
      "Лавр в горшке 7 см\n",
      "Мята колосистая Almira d-7 см\n",
      "Мята колосистая Crispa d-7 см\n",
      "Мята Aura d-7 см\n",
      "Рассада зелени для кухни Кориандр в кассете 6 шт\n",
      "Рассада зелени для кухни Лаванда Прованc диам. 9 см\n",
      "Рассада зелени для кухни Мята Икс Пиперита Цитрата Эа де Кологн диам. 9 см\n",
      "Рассада зелени для кухни Пастернак в кассете 6 шт\n",
      "Рассада зелени для кухни Тимьян Прострэйт диам. 9 см\n",
      "Рассада зелени для кухни Тимьян Цитриодорус диам. 9 см\n",
      "Тимьян крымский d-7 см\n",
      "Вербейник монетчатый желты\n",
      "Виола рассада однолетних цветов в кассете по 10 шт\n",
      "Гвоздика Травянка бело-красная объем 1 л\n",
      "Колокольчик персиколистный белый объем 0,5 л\n",
      "Котовник Блю Мун синий объем 1 л\n",
      "Львиный зев рассада однолетних цветов в кассете по 10 шт\n",
      "Рассада Остеоспермум крупноцветковый Purple малиновый объем 0,5 л\n",
      "Флокс Растопыренный голубой объем 0,5 л\n",
      "Эхинацея микс объем 0,5 л\n",
      "Ясколка Войлочная белая объем 0,5 л\n",
      "Блюдо Pasabahce серия Конья диаметр 354 мм 54372B\n",
      "Контейнер для СВЧ ПЦ2211ЛМ с паровыпускным клапаном 0,5 л лайм\n",
      "Полка для обуви Hausmann 70х27х40 см коричневый HM-3011\n",
      "Скатерть Dasch Донна Роза из ПВХ 0401-2 Розы круглая 152 см 5974\n",
      "Сушилка для белья ЛИАНА ЛЮКС 210 см потолочная\n",
      "Полки QWERTY Рио белый/чёрный 42,5х21х10 см 17х17х10 см 17х17х10 см 72005\n",
      "Мята Махито Japanosche Mojito Minze d-7 см h-10 см укорененный черенок\n",
      "Лоток для холодца эмалированный 0,8 л с пластмассовой крышкой без рисунка С-2506Кп Стэма 1506082\n",
      "Штора для ванной комнаты 240х200 Verga белая текстильная 240х200 см 6040\n",
      "Вешалка-плечики без эссенции цвет тёмно-розовый FWM/L-Pink\n",
      "Искусственный цветок Букет Каллы пластиковая бело-зеленая\n",
      "Окномойка с алюминиевой телескопической ручкой 120 см, щетка 25 см, 57572 1804047\n",
      "Урна-пепельница из нержавеющей стали, Hobbyka/Хоббика, 83*38см, ПА022\n",
      "Веник для подметания из сорго LUX 400-450 г 3 шва 5 колец\n",
      "Газания рассада однолетних цветов в кассете по 6 шт\n",
      "Калибрахоа Aloha Kona Pineaple желто-красная объем 0,5 л\n",
      "Калибрахоа Aloha Tiki Neon малиновая объем 0,5 л\n",
      "Калибрахоа Bloomtastic Blossom розово-сиреневая объем 0,5 л\n",
      "Калибрахоа Rave Violet сиреневая звезда объем 0,5 л\n",
      "Львиный зев рассада однолетних цветов в кассете по 6 шт\n",
      "Петуния Surprice Yellow желтая с прожилками объем 0,5 л\n",
      "Петуния Sweetunia Black Satin черная объем 0,5 л\n",
      "Рассада томата (помидор) Баскью Блю №7 сорт детерминантный среднеспелый синий\n",
      "Рассада томата (помидор) сорт Зефир в шоколаде, горшок диам 12\n",
      "Гвоздика стандартная Новия 70 см Колумбия Плантация Turflor S.A.S 25 штук в упаковке\n",
      "Термокружка Забава РК-0402М ВИШНЯ 400 мл\n",
      "Цветок искусственный Роза с открытим бутоном цвет в ассортименте 48 см\n",
      "Фиалка d-9 см синяя с белым рифленая\n",
      "Сумка-тележка хозяйственная RolserJet C. Capri Joy фиолетовая, JET017 malva JOY\n",
      "Рассада томата (помидор) Иоген № 77 сорт детерминантный среднеспелый красный\n",
      "Рассада томата (помидор) Ола Полка № 96 сорт детерминантный раннеспелый оранжевый\n",
      "Рассада томата (помидор) Шаймет криг № 117 сорт детерминантный раннеспелый красный\n",
      "Рассада томата (помидор) Эфемер № 121 сорт детерминантный раннеспелый красный\n",
      "Афеляндра скуарроса Дания d-12 см\n",
      "Швабра для мытья окон Leifheit Hausrein с телескоп. ручкой, Micro Duo, 51120\n",
      "Бакопа ампельная мега-крупная белая объем 0,5 л\n",
      "Бакопа ампельная мега-крупная розовая объем 0,5 л\n",
      "Бакопа ампельная мега-крупная синяя объем 0,5 л\n",
      "Бегония вечноцветущая рассада однолетних цветов в кассете по 10 шт\n",
      "Виола рассада однолетних цветов в кассете по 6 шт\n",
      "Щетка хозяйственная для стекол HAUSREIN из пластика и синтетического каучука 30х20 см голубая, Leifheit, 51316\n",
      "Петуния гибридная ампельная, диам. 21 см\n",
      "Петуния махровая рассада однолетних цветов в горшке диам. 12 см\n",
      "Лаванда в горшке d-15 см\n",
      "Штора для ванной Spirella / Спирелла Peva BIO, белый, полиэтилен, 180*200 см, 1024106\n",
      "Сумка-тележка хозяйственная Andersen Scala Shopper, Lini, синяя 112-108-90\n",
      "Штора для ванной комнаты Bacchetta Rue de Papillion черная текстильная 180х200 см 3026\n",
      "Штора для ванной комнаты Bacchetta Rigone серая текстильная 180х200 см 3640\n",
      "Виола рогатая сиреневый объем 0,5 л\n",
      "Лилейник высокорослый смесь окрасок объем 1 л\n",
      "Папоротник страусник зеленый объем 1 л\n",
      "Петуния махровая рассада однолетних цветов в кассете по 10 шт\n",
      "Платикодон махровый синий объем 0,5 л\n",
      "Энотера Миссурийская Золотая желтый объем 1 л\n",
      "Пылесос DELTA DL-0831 красный 1300 Вт мешок для сбора пыли 1 в подарок мощность всасывания 200 Вт\n",
      "Сменная насадка к швабре из микрофибры Hausmann, ADF1205\n",
      "Ложка кухонная Attribute IVORY AGI030\n",
      "Сумка-тележка хозяйственная Andersen Royal Shopper, Hera, синяя 166-004-90\n",
      "Коврик придверный MOHAWK Mansonry Foliage Листопад 58,5х89 см 5412\n",
      "Коврик придверный хлопковый 60х250 см мультиколор, Helex, С06\n",
      "Швабра хозяйственная для пола PICOBELLO XL strong 33 см зеленая, Leifheit, 57030\n",
      "Рассада зелени для кухни Мелисса лимонная зеленый объем 0,75 л\n",
      "Рассада пряной травы Эвкалипт Сильвердроп в горшке d-9 см\n",
      "Ткань универсальная из микрофибры Micro Magic серая, Leifheit, 40020\n",
      "Рассада Капусты белокачанная поздняя Лидер, кассета по 10шт\n",
      "Рассада перца болгарского сладкого Красное чудо, горшок диам 12\n",
      "Рассада томата (помидор) Джессика № 50 сорт индетерминантный раннеспелый красный\n",
      "Рассада томата (помидор) Сладкий Касади №76 сорт индетерминантный среднеспелый оранжевый\n",
      "Рассада томата (помидор) сорт Аделина, горшок диам 12\n",
      "Рассада томата (помидор) сорт Де Барао золотой\n",
      "Рассада томата (помидор) сорт Хурма, горшок диам 12\n",
      "Рассада томата (помидор) Суперэкзотик № 109 сорт индетерминантный среднеспелый черный\n",
      "Рассада Тыквы сорт Мускаде горшок 9х9 см P-9\n",
      "Роза садовая чайногибридная в горшке Блэк Мэджик\n",
      "Роза садовая чайногибридная в горшке Керио\n",
      "Роза садовая чайногибридная в горшке Лимбо\n",
      "Гвоздика садовая рассада однолетних цветов в горшке диам. 12 см\n",
      "Петуния простая рассада однолетних цветов в кассете по 10 шт\n",
      "Настенная сушилка для белья Gimi Brio Super 80\n",
      "Петуния изи вейв рассада однолетних цветов в горшке диам. 12 см\n",
      "Рассада Огурец Нежинский ячейки по 6 шт Е6\n",
      "Стремянки Colombo Leonardo 2 ступени G300A02W серая 3646\n",
      "Искусственный цветок Тюльпан пластиковый закрытый лиловый\n",
      "Урна-пепельница из стали, Hobbyka/Хоббика, 72*30см, 112\n",
      "Вербена микс Wicked Wich смесь окрасок объем 0,5 л\n",
      "Пеларгония плющелистная Tornado микс объем 0,5 л\n",
      "Пеларгония розебудная Rosebud Red d-7 см\n",
      "Петуния Surfinia Doble Lilac светло-сиреневая махровая объем 0,5 л\n",
      "Петуния Surfinia Doble White белая махровая объем 0,5 л\n",
      "Фуксия Blue Angel синяя с белым чашелистом объем 0,5 л\n",
      "Фуксия Dark Eyes синяя с красным чашелистом объем 0,5 л\n",
      "Фуксия Swingtime белая с красным чашелистом объем 0,5 л\n",
      "Цитрофортунелла Кумкват штамбовая d-21 см h-75 см\n",
      "Пеперомия d-12 см h-20 см\n",
      "Карниз для ванной комнаты Виолет раздвижной 280 см с кольцами голубой 2810/3\n",
      "Щетка хозяйственная с резинкой из синтетического каучука и пластика POWERSLIDE 40х20 см голубая, Leifheit, 51520\n",
      "Цветок искусственный Василек 3 цветка 55 см пластик\n",
      "Сушилка для белья напольная НИКА СБ8Б 18 м двухуровневая белая\n",
      "Стремянка Eurogold Max&Super 4х ступенчатая с противоскользящим покрытием, сталь 2024/2124\n",
      "Чехол для одежды объемный Hausmann с овальным окном ПВХ и ручками 60х100х10 см коричневый HM-701003CB\n",
      "Щетка хозяйственная DRESSETTA для одежды с пластиковой ручкой бело-красная, Leifheit, 41000\n",
      "Искусственный цветок Анемона пластиковая желтая\n",
      "Гортензия метельчатая Great star Грейт Стар в горшке 3,5 л\n",
      "Чехол для гладильной доски PRISMA TEXTIL из хлопка 125х43 см в ассортименте 41\n",
      "Дыня Млада Р-9\n",
      "Дыня Симпатия Р-9\n",
      "Рассада Арбуза сорт Огонек горшок 9х9 см P-9\n",
      "Рассада Арбуза сорт Сибирские огни, горшок 9*9см\n",
      "Рассада Арбуза сорт Шуга Бэби горшок 9х9 см P-9\n",
      "Рассада Дыни сорт Алтайская, горшок 9*9см\n",
      "Рассада Дыни сорт Дина горшок 9х9 см P-9\n",
      "Рассада Дыни сорт Казачка, горшок 9*9см\n",
      "Рассада Дыни сорт Колхозница горшок 9х9 см P-9\n",
      "Рассада клубники Вима Рина кассета 6 шт E6 ремонтантная\n",
      "Рассада клубники Зенга Зенгана в кассете по E6\n",
      "Сушилка для белья настенная, раздвижная Лиана 0,8 м 1703019\n",
      "Циния рассада однолетних цветов в кассете по 6 шт\n",
      "Гладильная доска НИКА Гранд 122х42 см НГ\n",
      "Синнингия (глоксиния) фиолетовая d-12 см h-20\n",
      "Штора для ванной комнаты 182х182 см ПВХ Meiwa, Metro прозрачный 5910\n",
      "Чайник эмалированный Орхидея со свистком 2,5 л ЕМ-25001/8\n",
      "Насадка-моп ROZENBAL синтетическая с вкраплениями из латекса с итальянской резьбой R190237\n",
      "Гардения d-9 см\n",
      "Искусственный цветок Букет Фиалки пластиковая лиловая\n",
      "Искусственный цветок Крокус пластиковый розовый\n",
      "томата (помидор) Баскью Блю №7 сорт детерминантный среднеспелый синий\n",
      "Бальзамин Валера рассада однолетних цветов в кассете по 10 шт\n",
      "Щетка для мытья окон 2 в 1 с телескопической ручкой и поворотным шарниром синяя, Hausmann, ADF1768\n",
      "Рассада Капусты белокачанная сорт Июньская кассета 6 шт E6\n",
      "Рассада Капусты белокачанная средняя сорт Белорусская кассета 10 шт E10\n",
      "Рассада Тыквы сорт Дачная горшок 9х9 см P-9\n",
      "томата (помидор) Дрова №27 сорт детерминантный среднеспелый красный\n",
      "томата (помидор) Канестрино №1 №89 сорт индетерминантный среднеспелый красный\n",
      "томата (помидор) сорт Бычье Сердце №14\n",
      "Земляника садовая Хоней d-9 см P9\n",
      "Календула Суприм 0,5 г 4650091480227\n",
      "Рассада Капусты белокачанная поздняя сорт Колобок кассета 10 шт E10\n",
      "Рассада Капусты белокачанная сорт Сибирячка кассета 6 шт E6\n",
      "Рассада Капусты белокачанная сорт Фаворит кассета 6 шт E6\n",
      "Рассада Капусты белокачанная сорт Экспресс кассета 6 шт E6\n",
      "Роза садовая чайногибридная в горшке Супер Грин\n",
      "томата (помидор) Ильди №35 сорт детерминантный раннеспелый желтый\n",
      "томата (помидор) Моравское чудо №54 сорт индетерминантный раннеспелый красный\n",
      "Цинния Коралловая красавица 0,2 г 4660010773323\n",
      "Цинния Оранжевый король 0,5 г 4660010770520\n",
      "Дендробиум Санок Анна Грин 1 ствол d-12 см\n",
      "Веник для подметания из сорго 225 г 2 шва\n",
      "Искусственный цветок Гвоздика садовая пластиковая розовая\n",
      "Базилик Застольный 0,3 г 4660010775419\n",
      "Лобелия ампельная, диам. 12 см\n",
      "Настурция Лунный свет 1 г 4660010779660\n",
      "Настурция Орхидное пламя 5 шт 4650091480692\n",
      "Пеларгония плющелистная ампельная, диам. 21 см\n",
      "Пеларгония плющелистная розовая в подвесном кашпо d-23 см\n",
      "Подвесное кашпо Бакопа ампельная мега-крупная смесь окрасок объем 4 л\n",
      "Подвесное кашпо Пеларгония махровая Calliope Rose Splash розовая объем 4 л\n",
      "Гладильная доска Hausmann Solo light 35х115 см HM-2151\n",
      "Табак душистый рассада однолетних цветов в кассете по 6 шт\n",
      "Этажерка для обуви НИКА ЭТП3/З с ящиком золотой\n",
      "Рассада зелени для кухни Душица обыкновенная Хуторянка диам. 12-13 см\n",
      "Рассада зелени для кухни Душица обыкновенная Хуторянка диам. 9 см\n",
      "Рассада зелени для кухни Розмарин Оффициналис Тускан Блю диам. 9 см\n",
      "Рассада зелени для кухни Сальвия Максима диам. 12-13 см\n",
      "Рассада зелени для кухни Сальвия Оффициналис Триколор диам. 12-13 см\n",
      "Рассада зелени для кухни Сантолина Хамаекипарисус диам. 9 см\n",
      "Рассада зелени для кухни Сельдерей корневой Силач, кассета по 10шт\n",
      "Рассада зелени для кухни Тимьян Сильвер Квин диам. 9 см\n",
      "Рассада зелени для кухни Цимбопогон (Лемонграсс) диам. 19 см\n",
      "Рассада зелени для кухни Шпинат в кассете 6 шт\n",
      "Наматрацник Natures Бархатный бамбук ББ-Н-1-2 односпальный, 100% хлопок, стеганый 90х200 см, с резинкой по углам, белый\n",
      "Одеяло Wellness T142 белое темостеганое 140х205 см чехол 100% полиэстер 200 г/м 4690659000306\n",
      "Таз пластмассовый строительный круглый 40 л, 1404062\n",
      "Автоматическая щетка Leifheit для мытья окон с ручкой 43 см. 51114\n",
      "Тряпкодержатель с металлическим креплением (Г) 1804015\n",
      "Чехол для одежды Hausmann со стенкой из ПВХ и ручками 60х100 см GN\n",
      "Искусственный цветок Гербера пластиковая светло-лиловая\n",
      "Весы электронные кухонные Soehnle (круглые,20 см. стеклянные) серебро 5кг/1гр. 66161\n",
      "Девичий виноград пятилисточковый P9 h-20 см Крым\n",
      "Сумка-тележка хозяйственная Rolser MNB019 rojo LOGIC DOS+2 красная\n",
      "Бегония клубневая рассада однолетних цветов в горшке диам. 12 см\n",
      "Декабрист в горшке D12 цвет фуксии\n",
      "томата (помидор) Индиго Роуз №36 сорт детерминантный среднеспелый синий\n",
      "томата (помидор) Исуповский №37 сорт индетерминантный среднеспелый красный\n",
      "томата (помидор) Казацкий №38 сорт детерминантный среднеспелый красный\n",
      "томата (помидор) Легенда Тарасенко № 91 сорт индетерминантный среднеспелый красный\n",
      "томата (помидор) Минусинские № 94 сорт индетерминантный среднеспелый розовый\n",
      "томата (помидор) Этуаль №85 сорт детерминантный среднеспелый розовый\n",
      "томата (помидор) Юсуповский Узбекский №86 сорт индетерминантный позднеспелый красный\n",
      "Бельевые прищепки YORK Классик 20 шт G96010\n",
      "Искусственный цветок Букет Примулы пластиковая розовая\n",
      "Рассада Арбуза сорт Астраханский, горшок 9*9см\n",
      "Рассада Арбуза сорт Продюсер, горшок 9*9см\n",
      "Рассада Тыквы сорт Витаминная, горшок 9*9см\n",
      "Рассада Тыквы сорт Улыбка, горшок 9*9см\n",
      "Искусственный цветок Роза закрытая малая пластиковая красная\n",
      "томата (помидор) Джалпа №25 сорт детерминантный среднеспелый красный\n",
      "томата (помидор) Колоновидный № 90 сорт детерминантный среднеспелый красный\n",
      "томата (помидор) Монгольский карлик №53 сорт детерминантный раннеспелый красный\n",
      "Тимьян в горшке d-15 см\n",
      "Муляж Оранжевое яблоко мини полиуретан d-5 см\n",
      "Кружка Luminarc ДИСНЕЙ МИККИ КОЛОРС 250 мл L2127-1\n",
      "Рассада Капусты белокачанная сорт Валентина кассета 6 шт E6\n",
      "Рассада Капусты белокачанная средняя Подарок, кассета по 10шт\n",
      "Сверло по металлу d=12,0 мм Р6М5 с цилиндрическим хвостиком Гост 10902, 0512195\n",
      "Рассада Капусты белокачанная средняя сорт Надежда кассета 10 шт E10\n",
      "Рассада Капусты краснокачанная сорт Победа кассета 10 шт E10\n",
      "Рассада Капусты цветная Гудмен, кассета по 10шт\n",
      "Рассада Капусты цветная Дачница, кассета по 10шт\n",
      "Гладильная доска НИКА 8+ 122х38 см\n",
      "Фиксатор-шар хром большой, 1108349\n",
      "Тарелка десертная КОТОН ФЛАУЭР 19,5 см H2783 Luminarc\n",
      "Петуния крупноцветковая сиреневая с жилками в кассете 10 штук\n",
      "Петуния Orange Morn оранжевая объем 0,5 л\n",
      "Петуния Sanguna Patio Blue Morn фиолетово-белая объем 0,5 л\n",
      "Петуния Surfinia Table dark red красная объем 0,5 л\n",
      "Цикламен комнатный D13 см H20\n",
      "Вербена ампельная, диам. 12 см\n",
      "Лобелия Регатта Regatta микс объем 0,5 л\n",
      "Однолетнее растение Астра в кассете по 4 шт, Россия\n",
      "Пеларгония плющелистная ампельная, диам. 12 см\n",
      "Петуния Pegasus Qeen of Hearts красные сердца на желтом фоне объем 0,5 л\n",
      "Петуния Surprise White белая объем 0,5 л\n",
      "томата (помидор) \"Золотая канарейка\" №32 сорт индетерминантный среднеспелый желтый\n",
      "томата (помидор) Амурский тигр № 8 сорт детерминантный раннеспелый красный\n",
      "томата (помидор) Арбузный №5 сорт индетерминантный среднеспелый красный\n",
      "томата (помидор) Болгарска хала №9 сорт индетерминантный среднеспелый розовый\n",
      "томата (помидор) Большая желтая зебра №10 сорт индетерминантный среднеспелый желтый\n",
      "томата (помидор) Большой оранжевый полосатый № 28 сорт индетерминантный среднеспелый оранжевый\n",
      "томата (помидор) Большой оранжевый №11 сорт индетерминантный среднеспелый оранжевый\n",
      "томата (помидор) Гигант Кубы №18 сорт индетерминантный среднеспелый черный\n",
      "томата (помидор) Голубика №22 сорт индетерминантный среднеспелый синий\n",
      "томата (помидор) К 25-56 № 78 сорт детерминантный среднеспелый черный\n",
      "томата (помидор) Король красоты №46 сорт индетерминантный среднеспелый оранжевый\n",
      "томата (помидор) Медовая капля №51 сорт индетерминантный среднеспелый желтый\n",
      "томата (помидор) Мохнатый кейт №55 сорт детерминантный среднеспелый синий\n",
      "томата (помидор) Мэризол Мэджик № 95 сорт индетерминантный среднеспелый оранжевый\n",
      "томата (помидор) Оранжевый банан № 60 сорт индетерминантный среднеспелый оранжевый\n",
      "томата (помидор) Оранжевый русский № 97 сорт индетерминантный среднеспелый оранжевый\n",
      "томата (помидор) Перцевидный полосатый №62 сорт детерминантный среднеспелый красный\n",
      "томата (помидор) Поцелуй герани №66 сорт детерминантный раннеспелый красный\n",
      "томата (помидор) Пурпурная страсть № 101 сорт индетерминантный среднеспелый черный\n",
      "томата (помидор) Синий солнечный свет № 106 сорт индетерминантный среднеспелый синий\n",
      "томата (помидор) Танцы со смурфиками № 111 сорт индетерминантный раннеспелый черный\n",
      "томата (помидор) Темная галактика №79 сорт детерминантный среднеспелый черный\n",
      "томата (помидор) Черниченский черри № 116 сорт индетерминантный позднеспелый черный\n",
      "томата (помидор) Шалун № 118 сорт индетерминантный раннеспелый розовый\n",
      "Кружка О МИННИ 250 мл H6441 Luminarc Франция\n",
      "Эвкалипт Сильвердроп d-7 см\n",
      "Вербена крупноцветковая White белая объем 0,5 л\n",
      "Вербена Red красная объем 0,5 л\n",
      "Петуния Surprise Magenta Halo малиново-белая объем 0,5 л\n",
      "Декоративная композиция искуственных цветов Букет Пионов три цветка, цвет в ассортименте 80 см\n",
      "Ведро для ягод Полимербыт 2 л 4311001\n",
      "Окномойка с пластмассовой ручкой 42 см щетка 21 см разборная 57575 1804050\n",
      "Коврик противоскользящий кружевной 88х38 см голубой 5527\n",
      "Чехол Eurogold Clean Premium хлопок, поролон, для досок 110х30-114x34 см C34F3\n",
      "Мускари White Magic в горшке d-10 см 7 луковиц\n",
      "Коврик Dasch для ванной комнаты 50х80 см HJ-C 1119 Милена коричневый 5820\n",
      "Пиретрум Робинсон красный объем 1 л\n",
      "Рассада зелени для кухни Лаванда Блю Райдер диам. 9 см\n",
      "Рассада клубники Зенга Зенгана горшок 9х9 см P9\n",
      "томата (помидор) Абрикос №1 сорт индетерминантный среднеспелый красный\n",
      "томата (помидор) Абрикосовый брендивайн №2 сорт индетерминантный среднеспелый оранжевый\n",
      "томата (помидор) Абруццо № 3 сорт индетерминантный среднеспелый красный\n",
      "томата (помидор) Большой полосатый кабан №12 сорт индетерминантный среднеспелый красный\n",
      "томата (помидор) Вернисаж черный №17 сорт индетерминантный раннеспелый черный\n",
      "томата (помидор) Голубой ручей №23 сорт индетерминантный среднеспелый синий\n",
      "томата (помидор) Графити № 40 сорт индетерминантный раннеспелый красный\n",
      "томата (помидор) Грейпфрут № 43 сорт индетерминантный среднеспелый оранжевый\n",
      "томата (помидор) Земляника оранжевая №31 сорт индетерминантный среднеспелый оранжевый\n",
      "томата (помидор) Красный пушистый кабан №47 сорт детерминантный среднеспелый красный\n",
      "томата (помидор) Кумато №49 сорт детерминантный среднеспелый черный\n",
      "томата (помидор) Медовый № 93 сорт индетерминантный позднеспелый розовый\n",
      "томата (помидор) Оранжевый с фиолетовыми пятнами № 98 сорт индетерминантный среднеспелый оранжевый\n",
      "томата (помидор) Полосатый шоколад №65 сорт индетерминантный среднеспелый черный\n",
      "томата (помидор) Примари колорз №67 сорт детерминантный среднеспелый черный\n",
      "томата (помидор) Роджеро № 104 сорт индетерминантный среднеспелый красный\n",
      "томата (помидор) Розовый мохнатый кабан № 105 сорт индетерминантный среднеспелый розовый\n",
      "томата (помидор) Синий тигр №75 сорт индетерминантный среднеспелый синий\n",
      "томата (помидор) Сладкий Касади №76 сорт индетерминантный среднеспелый оранжевый\n",
      "томата (помидор) Спящая леди № 108 сорт детерминантный среднеспелый черный\n",
      "томата (помидор) Улыбка Розы № 113 сорт детерминантный раннеспелый синий\n",
      "томата (помидор) Фейерверк № 114 сорт индетерминантный среднеспелый красный\n",
      "томата (помидор) Шахерезада №84 сорт детерминантный среднеспелый красный\n",
      "томата (помидор) Ширли сердцевидный № 119 сорт индетерминантный среднеспелый розовый\n",
      "томата (помидор) Южный вечер № 120 сорт детерминантный среднеспелый черный\n",
      "Флокс метельчатый сорт Мари, диаметр горшка 10см.\n",
      "Флокс метельчатый сорт МОСКВИЧКА, диаметр горшка 10см.\n",
      "Штора со встроенными кольцами под штангу для ванны и душа жаккард, полиамидное покрытие, 180х200, розовый, HSC/ST04/pink\n",
      "Банка с крышкой Attribute 500 мл и бугельным замком JAR500\n",
      "Рассада Дыни сорт Эфиопка горшок 9х9 см P-9\n",
      "Рассада Капусты белокачанная сорт Слава кассета 6 шт E6\n",
      "Рассада Капусты белокачанная сорт Универс кассета 6 шт E6\n",
      "Агератум рассада однолетних цветов в кассете по 10 шт\n",
      "Алиссум рассада однолетних цветов в кассете по 10 шт\n",
      "Колеус рассада однолетних цветов в кассете по 10 шт\n",
      "Подвесное кашпо Вербена микс Victoria смесь окрасок объем 4 л\n",
      "Подвесное кашпо Калибрахоа Confetti Mysweetheart смесь махровых окрасок объем 4 л\n",
      "Подвесное кашпо Петуния микс смесь окрасок объем 4 л\n",
      "Тагетис крупноцветковый рассада однолетних цветов в кассете по 10 шт\n",
      "Цинерания рассада однолетних цветов в кассете по 10 шт\n",
      "Таз пластмассовый 15,0 л пищевой (Галс), 1404057\n",
      "Алиссум рассада однолетних цветов в кассете по 6 шт\n",
      "Лобелия рассада однолетних цветов в кассете по 6 шт\n",
      "Однолетнее растение Алиссум в кассете по 4 шт, Россия\n",
      "Однолетнее растение Виола в кассете по 4 шт, Россия\n",
      "Однолетнее растение Тагетис мелкоцветковый в кассете по 4 шт, Россия\n",
      "Однолетнее растение Циния в кассете 4 шт, Россия\n",
      "Петуния Potunia Plus Purple бургунди с прожилками объем 0,5 л\n",
      "Петуния Surfinia Blue Sky небесно-голубой объем 0,5 л\n",
      "Петуния Surfinia Crazy Pink розовая с прожилкой объем 0,5 л\n",
      "Петуния Sweetunia Miss Marvelous винно-белая звезда объем 0,5 л\n",
      "Подвесное кашпо Гелихризум серебристая объем 4 л\n",
      "Рассада зелени для кухни Мяты в горшке диам. 9 см\n",
      "Рассада Остеоспермум крупноцветковый Lavender сиреневый объем 0,5 л\n",
      "Рассада Остеоспермум крупноцветковый White белый объем 0,5 л\n",
      "Тагетис крупноцветковый рассада однолетних цветов в кассете по 6 шт\n",
      "Муррайя d-9 см\n",
      "Вербена ампельная, диам. 21 см\n",
      "Однолетнее растение Лобелия в кассете по 4 шт, Россия\n",
      "Петуния простая рассада однолетних цветов в кассете по 6 шт\n",
      "Петуния рассада смесь цветов 5-6 листов Глория махровая розовая\n",
      "Карниз для ванной комнаты Виолет раздвижной 210 см с кольцами серый 2110/8\n",
      "Карниз для ванной комнаты Виолет раздвижной 280 см с кольцами бежевый 2810/2\n",
      "Муляж Перец болгарский желтый 10 см полиуретан\n",
      "Ёрш радиаторный без ручки 1807007\n",
      "Калла крупноцветковая малиновая\n",
      "Декабрист в горшке D12 белый с розовой каймой\n",
      "Декабрист в горшке D12 малиновый\n",
      "Кореопсис Золотой маяк желтый объем 1 л\n",
      "Портулак рассада однолетних цветов в кассете по 6 шт\n",
      "Примула комнатная акаулис белая D10 см\n",
      "Примула комнатная акаулис красная D10 см\n",
      "Примула комнатная D9 см красная\n",
      "Примула комнатная D9 см цвет фуксии\n",
      "Цикламен комнатный D15 см H20 см белый\n",
      "Цикламен комнатный D15 см H20 см белый с малиновой серединой\n",
      "Цикламен комнатный D15 см H20 см красный\n",
      "Тарелка суповая МОКА БРАУН 22,5 см H7012 Luminarc\n",
      "Сушилка для белья на стену Leifheit Telegant 100, белая, 83100\n",
      "Стремянка Framar Slimmy стальная 3 ступени\n",
      "Астра рассада однолетних цветов в кассете по 10 шт\n",
      "Набор посуды из нержавеющей стали 12 предметов Россия 5512-12\n",
      "Аргирантерум рассада однолетних цветов в горшке диам. 12 см\n",
      "Левкой рассада однолетних цветов в горшке диам. 12 см\n",
      "Калибрахоа Aloha Kona Dark Red красная объем 0,5 л\n",
      "Петуния Свитуния Sweetunia Johnny Flame малиновая с темной сердцевиной объем 0,5 л\n",
      "Петуния Baby Doll розовая с белыми брызгами объем 0,5 л\n",
      "Петуния Bordeaux сиреневая с прожилками объем 0,5 л\n",
      "Петуния Crazytunia Pulse желтая звезда объем 0,5 л\n",
      "Петуния Potunia Plus Strawberry Ice красно-розовая с прожилками объем 0,5 л\n",
      "Петуния Sky Night фиолетовая с белыми брызгами объем 0,5 л\n",
      "Петуния Surprise Purple Sky фиолетовая с прожилками объем 0,5 л\n",
      "Петуния Sweetunia Rose Gem розовая с прожилками объем 0,5 л\n",
      "Вероника колосковая микс объем 1 л\n",
      "Подвесное кашпо Дихондра серебристая объем 4 л\n",
      "Подвесное кашпо Калибрахоа Aloha Kona Dark Red красная объем 4 л\n",
      "Подвесное кашпо Калибрахоя Snowberry белая объем 4 л\n",
      "Подвесное кашпо Пеларгония махровая Calliope Dark Red темно-красная объем 4 л\n",
      "Подвесное кашпо Петуния Surprise White белая объем 4 л\n",
      "Подвесное кашпо Лобелия Регатта Regatta микс объем 4 л\n",
      "Целозия гребенчатая рассада однолетних цветов в кассете по 10 шт\n",
      "Рассада зелени для кухни Базилик Шалун, кассета по 6шт\n",
      "Рассада зелени для кухни Тимьян Вариегэйтид диам. 9 см\n",
      "Бегония клубневая Красная в горшке d-12\n",
      "Бегония клубневая Оранжевая в горшке d-12\n",
      "Сушилка для белья Eurogold BLACK 18 м D0503SE\n",
      "Искусственный цветок Роза закрытая малая пластиковая розовая\n",
      "Однолетнее растение Бегония вечноцветущая в кассете по 4 шт, Россия\n",
      "Однолетнее растение Вербена в кассете по 4 шт, Россия\n",
      "Однолетнее растение Портулак в кассете по 4 шт, Россия\n",
      "Капуста белокочанная Июньская в кассете 4 штуки раннеспелая\n",
      "томата (помидор) Шаймет криг №117 сорт детерминантный раннеспелый красный\n",
      "Флокс метельчатый сорт Незабудка, диаметр горшка 10см.\n",
      "Лестница-стремянка Dogrular Ufuk Al алюминевая 3-х ступенчатая\n",
      "Искусственный цветок Букет Примулы пластиковая красная\n",
      "Гладильная доска Hausmann HM-3170 Home Art 122х42 см\n",
      "Ковер придверный Tango RUS 60х90 см белый РВ322\n",
      "Однолетнее растение Газания в кассете по 4 шт, Россия\n",
      "Примула комнатная акаулис синяя D10 см\n",
      "Примула комнатная D9 см розовая\n",
      "Примула комнатная D9 см фиолетовая\n",
      "Примула рассада однолетних цветов в кассете по 10 шт\n",
      "Сковорода HARD 20 см, алюминиевая, с антипригарным покрытием, Attribute, AFD020\n",
      "Рассада зелени для кухни Мангольд в кассете 6 шт\n",
      "Пеларгония зональная диам. 12 см красная полумахровая\n",
      "Пеларгония зональная диам. 12 см лососевая полумахровая\n",
      "Арбуз Огонек раннеспелый d-7 см\n",
      "Арбуз Сибирские огни раннеспелый d-7 см\n",
      "Арбуз Холодок позднеспелая d-7 см\n",
      "Арбуз Шуга Бейби раннеспелый d-7 см\n",
      "Баклажан Самурай d-7 см Крым\n",
      "Дыня Алтайская d-7 см скороспелая\n",
      "Дыня Дина d-7 см раннеспелая\n",
      "Дыня Золотой шар d-7 см раннеспелая\n",
      "Дыня Колхозница 749/753 d-7 см среднеспелая\n",
      "Дыня Медовый Спас d-7 см раннеспелая\n",
      "Дыня Награда d-7 см скороспелая\n",
      "Клубника Альба P9 Крым\n",
      "Клубника Мара Де Буа х Клери (сладкая) P9 Крым\n",
      "Клубника Хоней P9 Крым\n",
      "Патиссон Диск раннеспелый d-7 см\n",
      "Патиссон НЛО оранжевый раннеспелый d-7 см\n",
      "Рассада зелени для кухни Мята Икс Пиперита Цитрата Шоколад диам. 9 см\n",
      "Рассада Капусты краснокачанная сорт Победа кассета 6 шт E6\n",
      "томата (помидор) Кибиц №41 сорт детерминантный среднеспелый красный\n",
      "Вербена Fuhcsia ярко-розовая объем 0,5 л\n",
      "Маттиола Ночная фиалка 0,5 г 4660010770506\n",
      "Капуста брокколи Фортуна в кассете 6 штук\n",
      "Капуста брокколи Фортуна в кассете 6 штук среднеспелая\n",
      "Рассада Капусты белокачанная сорт Московская поздняя кассета 6 шт E6\n",
      "Рассада Капусты цветная сорт Сноуболл кассета 6 шт E6\n",
      "Кориандр Стимул раннеспелый в кассете 4 штуки\n",
      "Рассада зелени для кухни Петрушка Кучерявец, кассета по 6шт\n",
      "Рассада зелени для кухни Розмарин Барбекю диам. 9 см\n",
      "Рассада зелени для кухни Сельдерей листовой Бодрость, кассета по 10шт\n",
      "Рассада Кабачка сорт Зебра кассета 6 шт E6\n",
      "Бегония вечноцветущая рассада однолетних цветов в кассете по 6 шт\n",
      "Сальвия рассада однолетних цветов в кассете по 6 шт\n",
      "Лук порей Победитель в кассете 6 штук среднеспелый\n",
      "Рассада зелени для кухни Петрушка корневая Сахарная, кассета по 6шт\n",
      "Рассада Капусты белокачанная сорт Амтаман кассета 6 шт E6\n",
      "Рассада Капусты белокачанная сорт Грибовский кассета 6 шт E6\n",
      "Гладильная доска НИКА 10+ 122х40 см Н10+\n",
      "Петуния ампельная Белая в горшке P9\n",
      "Петуния ампельная Красная в горшке P9\n",
      "Петуния ампельная Синий в горшке P9\n",
      "Гладильная доска НИКА 11 122х40 см Н11\n",
      "Сушилка для белья потолочная Лиана 1,3 м 1703002\n",
      "Петуния рассада смесь цветов 5-6 листов Бургунди малиновая\n",
      "Петуния рассада смесь цветов 5-6 листов розовая махровая\n",
      "Петуния рассада смесь цветов 8-10 листов красная\n",
      "Рассада зелени для кухни Мята Спэйниш диам. 9 см\n",
      "Астра рассада однолетних цветов в кассете по 6 шт\n",
      "Однолетнее растение Целозия метельчатая в кассете 4 шт, Россия\n",
      "Целозия гребенчатая рассада однолетних цветов в кассете по 6 шт\n",
      "Джункус Пенсил Грасс d-12 см\n",
      "томата (помидор) Арбузик №4 сорт индетерминантный раннеспелый красный\n",
      "томата (помидор) Бандед Амазон № 20 сорт индетерминантный раннеспелый розовый\n",
      "Рассада Кабачка сорт Белогор кассета 6 шт E6\n",
      "Рассада Капусты белокачанная средняя Реванш, кассета по 10шт\n",
      "Рассада Капусты кольраби сорт Виолетта кассета 6 шт E6\n",
      "Рассада Капусты кольраби сорт Гулливер кассета 6 шт E6\n",
      "Рассада Капусты цветная сорт Гарантия кассета 6 шт E6\n",
      "Рассада Огурца сорт Герман, кассета по 6шт\n",
      "Рассада Огурца сорт Персей, кассета по 6шт\n",
      "Рассада Тыквы сорт Амазонка, горшок 9*9см\n",
      "Рассада Тыквы сорт Жемчужина горшок 9х9 см P-9\n",
      "Рассада Тыквы сорт Лечебная, горшок 9*9см\n",
      "Рассада Тыквы сорт Россиянка, горшок 9*9см\n",
      "Рассада Патиссона сорт НЛО Белый, кассета по 6шт\n",
      "Рассада Патиссона сорт НЛО Оранжевый, кассета по 6шт\n",
      "Драцена фрагранс Компакта d-12 см\n",
      "Рассада зелени для кухни Розмарин Найфа диам. 9 см\n",
      "Стремянка COLOMBO FACTOTUM 3 ступени алюминий G110AT3W\n",
      "Однолетнее растение Львиный зев в кассете по 4 шт, Россия\n",
      "Сумка-тележка хозяйственная Rolser PAR015 mandarina DOS+2 оранжевая\n",
      "Стремянка COLOMBO FACTOTUM 3 ступени стальная G110L03W\n",
      "Арбуз Волгоградец Р-9\n",
      "Рассада Капусты кольраби Гулливер, кассета по 10шт\n",
      "Рассада Капусты кольраби Мадонна, кассета по 10шт\n",
      "Рассада Огурец Фараон ячейки по 6 шт Е6\n",
      "Рассада Огурца сорт Каролина кассета 6 шт E6\n",
      "томата (помидор) Аргентинская сливка №6 сорт индетерминантный среднеспелый красный\n",
      "Искусственный цветок Гвоздика садовая пластиковая белая\n",
      "Рассада в кассете Огурец Атос 10 шт\n",
      "Рассада Огурца сорт Есаул, кассета по 6шт\n",
      "Рассада Огурца сорт Конни, кассета по 6шт\n",
      "Рассада Огурца сорт Магнат, кассета по 6шт\n",
      "Рассада Огурца сорт Форсаж, кассета по 6шт\n",
      "Рассада зелени для кухни Зверобой продырявленный Оптимист диам. 9 см\n",
      "Рассада зелени для кухни Лаванда Эдельвейс диам. 9 см\n",
      "Рассада зелени для кухни Мята Хиларис Свит Лемон диам. 9 см\n",
      "Однолетнее растение Сальвия в кассете по 4 шт, Россия\n",
      "Фуксия ампельная, диам. 12 см\n",
      "Муляж Булка 12х11 см\n",
      "Сумка-тележка хозяйственная Rolser IMX002 marengo DOS+2 серая\n",
      "Фатсия японская d-12 см\n",
      "Чехол для одежды дорожный EVA 100х65 см MHL06\n",
      "Хоста микс объем 0,75 л\n",
      "Корзина для белья ЭЛЬФПЛАСТ Paola 55 л бежевая 426беж\n",
      "Рассада Огурца сорт Арамис, кассета по 6шт\n",
      "Рассада Огурца сорт Атос, кассета по 6шт\n",
      "Рассада Огурца сорт Портос, кассета по 6шт\n",
      "томата (помидор) Полосатый смайлик № 100 сорт детерминантный раннеспелый красный\n",
      "томата (помидор) Ракета № 102 сорт детерминантный среднеспелый красный\n",
      "Рассада Кабачка сорт Аэронавт, кассета по 6шт\n",
      "Рассада Кабачка сорт Горный, кассета по 6шт\n",
      "Рассада Кабачка сорт Сосновский, кассета по 6шт\n",
      "Рассада Кабачок сорт Скворушка ячейки 6 шт Е6\n",
      "Мята перечная Шоколадная Chocolate d-7 см h-10 см укорененный черенок\n",
      "Рассада Капусты белокачанная ранняя сорт Малахит кассета 10 шт E10\n",
      "Капуста цветная Альфа в кассете 4 штуки раннеспелая\n",
      "Капуста цветная Дачница в кассете 4 штуки среднеспелая\n",
      "Огурец Алтай пчелоопыляемый в кассете 4 штуки раннеспелый\n",
      "Огурец Аристократ F1 пчелоопыляемый в кассете 4 штуки раннеспелый\n",
      "Огурец Багратион F1 пчелоопыляемый в кассете 4 штуки раннеспелый\n",
      "Огурец Боярский F1 пчелоопыляемый в кассете 4 штуки раннеспелый\n",
      "Томат Государь в кассете 6 штук среднеспелый детерминантный\n",
      "Томат детерминантный Грандесса в кассете 6 штук раннеспелый\n",
      "Томат детерминантный Медовый в кассете 6 штук среднеспелый\n",
      "Томат детерминантный Сердолик в кассете 6 штук раннеспелый\n",
      "Роза садовая чайногибридная в горшке Дабл Делайт\n",
      "Роза садовая чайногибридная в горшке Лампион\n",
      "Роза садовая чайногибридная в горшке Черри Бренди\n",
      "Пеларгония зональная диам. 12 см розово-красная простая\n",
      "Наволочка Wellness RS50, 1-Арктик 100% хлопок, 50х70 см, белая\n",
      "Рассада Капусты белокачанная сорт Подарок кассета 6 шт E6\n",
      "Рассада Капусты кольраби сорт Венская белая кассета 6 шт E6\n",
      "Рассада Капусты цветная сорт Дачница кассета 6 шт E6\n",
      "Нож универсальный PRO 13 см, Attribute, AKL113\n",
      "Сковорода алюминиевая с керамическим покрытием БЬЯНКА Вок 20 см, TVS, 4L10520\n",
      "Рассада Кабачка сорт Якорь, кассета по 6шт\n",
      "Рассада Огурца сорт Даша, кассета по 6шт\n",
      "Роза одноголовая Тоффи 70 см Эквадор плантация Greenrose 25 штук в упаковке\n",
      "Кружка ТАЧКИ 250мл E9131 H1496 Luminarc Франция\n",
      "Петуния ампельная Розовая в горшке P9\n",
      "Штора для ванной комнаты Bacchetta Verga белая текстильная 180х200 см 6033\n",
      "Азалия Индика Биколор d-12 см h-20\n",
      "Вешалка напольная ATLANT бук темная 154-179х90х42 см см на колесиках Степанов\n",
      "Коврик придверный хлопковый 120х180 см мультиколор, Helex, С07\n",
      "Гайлардия крупноцветковая желто-красный объем 0,75 л\n",
      "Монарда гибридная Бергамо красный объем 1 л\n",
      "Нивянник (Ромашка) крупноцветковый белый объем 1 л\n",
      "Рассада Кабачка сорт Золотинка кассета 6 шт E6\n",
      "Рудбекия Тайгер голд золотой объем 0,75 л\n",
      "Насадка на валик ВММ-200/60 белый искусственный мех, 0703011\n",
      "Рассада зелени для кухни Иссоп лекарственный Аккорд диам. 12-13 см\n",
      "Рассада зелени для кухни Иссоп лекарственный Аккорд диам. 9 см\n",
      "Рассада зелени для кухни Мелисса лекарственная Кадриль диам. 9 см\n",
      "Рассада зелени для кухни Мята Вариегата диам. 9 см\n",
      "Рассада зелени для кухни Мяты в кассете по 6 шт\n",
      "Рассада зелени для кухни Ориганум Ауреум Компактум диам. 9 см\n",
      "Рассада зелени для кухни Сальвия Максима диам. 9 см\n",
      "Рассада зелени для кухни Сальвия Оффициналис Триколор диам. 9 см\n",
      "Рассада зелени для кухни Шалфея в кассете по 6 шт\n",
      "Форма для выпечки со съемным дном ФТ-2рд\n",
      "Скребок 44 см с клипсами для тряпки пластик, Rozenbal, R213414\n",
      "Насадка для мытья окон, Мультипласт\n",
      "Обувница-3 Квадро цвет венге 70000001в\n",
      "Столовый нож 2 шт Сапфир тяжелый СНSapfir-2\n",
      "Лапчатка травянистая желтый объем 0,5 л\n",
      "Седум (очиток) Видный красный объем 1 л\n",
      "Рассада Огурец Кристина ячейки по 6 шт Е6\n",
      "Рассада Патиссона сорт Диск, кассета по 6шт\n",
      "Бакопа ампельная мега-крупная сиреневая объем 0,5 л\n",
      "Бакопа ампельная, диам. 12 см\n",
      "Барвинок синий объем 0,5 л\n",
      "Вербена White Blue сиренево-белая объем 0,5 л\n",
      "Калибрахоа Mini Famous Double Orange/Red оранжево/красная махровая объем 0,5 л\n",
      "Портулак рассада однолетних цветов в кассете по 10 шт\n",
      "Скребок для окон с рукояткой, Rozenbal, R214025\n",
      "Бегония Элатиор, цвет в ассортименте\n",
      "Пододеяльник 214х150 см WELLNESS RQ150-Кармен_В 100% хлопок\n",
      "Осина обыкновенная, Высота 25-50 см\n",
      "Осина обыкновенная, Высота 50-100 см\n",
      "Молодило в горшке d-12 см\n",
      "Роза садовая чайногибридная в горшке Папилон\n",
      "Отжим для ведра синий, Rozenbal, R211985\n",
      "Вешалка-стойка Сакура Слуга 2 на колесах сосна\n",
      "Сушилка для белья настенная НИКА СН45 белая 45 см\n",
      "Сциндапсус в ассортименте d-7 см h-10 см укорененный черенок\n",
      "Пеларгония тюльпановидная EMMA\n",
      "Вешалка для брюк Attribute CLASSIC 30 см AHN261\n",
      "Покрывало KARNA вельсофт с вышивкой DAMASK 200x220 см 9234567038126\n",
      "Скатерть круглая d-175 см 50% полиэстер 50% хлопок белая Wellness MLd-187-Эстель*01\n",
      "Пряные травы микс d-15 см\n",
      "Штора для ванной комнаты полиэстер Dasch 180х180 см Аквамарин ВТ-822502, 5698\n",
      "Аквилегия махровая Тауэр смесь окрасок объем 1 л\n",
      "Алиссум Скальный желтый объем 1 л\n",
      "Астра альпийская микс объем 1 л\n",
      "Бузульник Пржевальского кленолистный желтый объем 1 л\n",
      "Камнеломка Арендса Флорал Карпет розовый объем 1 л\n",
      "Роза садовая парковая в горшке Дипп Ватер\n",
      "Роза садовая парковая в горшке Эден Роуз\n",
      "Роза садовая плетистая в горшке Шванензее\n",
      "Роза садовая спрей в горшке Мими Эден\n",
      "Роза садовая чайногибридная в горшке Амнезия\n",
      "Роза садовая чайногибридная в горшке Блю Мун\n",
      "Роза садовая чайногибридная в горшке Блю Парфюм\n",
      "Роза садовая чайногибридная в горшке Дежавю\n",
      "Роза садовая чайногибридная в горшке Роза Биг перпл\n",
      "Роза садовая чайногибридная в горшке Эдванс\n",
      "Солидаго желтый объем 1 л\n",
      "Физостегия Вергинская белый объем 0,5 л\n",
      "Гардения d-9 см укорененный черенок\n",
      "Капуста брюссельская Сапфир в кассете 6 штук позднеспелая\n",
      "Патиссон Зонтик раннеспелый d-7 см\n",
      "Патиссон НЛО белый раннеспелый d-7 см\n",
      "Банка с крышкой Attribute 760 мл и бугельным замком JAR760\n",
      "Бадан Сердцелистный Красная звезда красный объем 1 л\n",
      "Камнеломка тенистая Вариегата розовый объем 0,5 л\n",
      "Колокольчик Карпатский белый объем 0,5 л\n",
      "Колокольчик Карпатский голубой объем 0,5 л\n",
      "Лен Небесная Лазурь голубой объем 0,5 л\n",
      "Стремянка Scab Balzo 762 5 ступеней алюминиевая 3885\n",
      "Полотенце прессованное P48 Сердце_3, 100% хлопок 278 г/м2, 30х60 см, Wellness, 4607101069088\n",
      "Рукав для гладильной доски COLOMBO STIRAMANICHE 53Х13 см B138LGPW\n",
      "Антинакипин для утюгов Ампулы 10 мл по 5 шт UN MOMENTO Россия 4627096350107\n",
      "Кофр для хранения одеял Hausmann 60х50х35 см AA003\n",
      "Ведро без крышки Полимербыт Лаванда 9 л 4314108\n",
      "Сумка-тележка хозяйственная Rolser Plegamatic Orbita Gloriaфиолетовая, PLE055 malva PLEGABLE\n",
      "Салатник ЭМПИЛАБЛЬ 10 см H4702 Luminarc\n",
      "Фатсия d-17 см h-50 см\n",
      "Шпагат полипропиленовый 1.0 ктекс 100м цветной на бобине, размотка изнутри 888, 1201143\n",
      "Окномойка с алюминиевой телескопической ручкой со съемной насадкой 57373 1804049\n",
      "Крючок проволочный 120 мм оцинкованный, 1110212\n",
      "Искусственный цветок Ветка петунии пластиковая лиловая\n",
      "Таз алюминиевый, 45 см, SСOVO, ДЕМ МТ-055, 1502081, /1502081\n",
      "Штанга для ванной Г-образная, угловая 80Х170 см, белая\n",
      "Вешалки мягкие для деликатных вещей 3 шт шоколад\n",
      "Сушилка для белья Leifheit Pegasus 200 DeLuxe 20 м 81530\n",
      "Салфетка на стол Узоры 30x45 см цвет белый S-102\n",
      "Скатерть 180 см WELLNESS WTd180-Лион*01 100% полиэстер\n",
      "Корзина для белья ВИОЛЕТ Вязь 60 л с крышкой лиловая 2060/21\n",
      "Сушилка для белья Eurogold DELUX 18 м 0503SEL\n",
      "Муляж Лайм 10 см полиуретан\n",
      "Кастрюля эмалированная, Хозлэнд, 7 л, /1505027\n",
      "Тарелка десертная МАГДА 19 см H8579 Luminarc\n",
      "Вешалка для блузок 41 см зеленый Attribute AHM751\n",
      "Сушилка для белья настенная складная алюминиевая Telegant 100 103,5х53,5 см белая, Leifheit, 83305\n",
      "Сотейник алюминиевый с керамическим покрытием 24 см, ХO, керамика, TVS, 4L324242915201\n",
      "Цинерания рассада однолетних цветов в кассете по 6 шт\n",
      "Гладильная доска НИКА 9 122х40 см Н9\n",
      "Сушилка для белья настенная НИКА СН90 белая 90 см\n",
      "Сушилка для белья ВИОЛЕТ FH EXTRA 18 м белая ВЛ869\n",
      "Вешалка для верхней одежды Attribute NEO BLUE 45 см AHS711\n",
      "Петля приварная гаражная d 36х140 мм с шариком, 1103068\n",
      "Петуния Surprise Marine синяя объем 0,5 л\n",
      "Петуния рассада смесь цветов 5-6 листов фиолетовая с белым ободком\n",
      "Хлебница Webber BE-7010\n",
      "Штора для ванной комнаты полиэстер Dasch 180х180 см Белый горох ВТ-821679, 5700\n",
      "Сушилка для белья настенная Gimi Rotor-6 New\n",
      "Искусственный цветок Роза закрытая малая пластиковая желтая\n",
      "Коврик хлопковый 50х80 см цвета в ассортименте 6196\n",
      "Тележка багажная DELTA DT-22 коричневый грузоподъемность 20 кг сумка и 50 кг каркас РОССИЯ\n",
      "Тележка багажная DELTA DT-22 синий грузоподъемность 20 кг сумка и 50 кг каркас РОССИЯ\n",
      "Салатник АСПЕН 18 см H4121 Luminarc\n",
      "Штора для ванной Spirella ATLAS TEX белый 120X200 см 4005719\n",
      "Стеллаж для обуви светлый TELIO-350 OPT-350S\n",
      "Лавр нобилис d-10 см\n",
      "Бидон пластмассовый 4,0 л (Иж) 1401118\n",
      "Сумка-тележка хозяйственная Welfull Shadow, серая 100-001-20\n",
      "Рассада зелени для кухни Мята Бэррис энд Крим диам. 9 см\n",
      "Рассада зелени для кухни Мята Икс Пиперита Цитрата Грэйпфрут диам. 9 см\n",
      "Рассада зелени для кухни Мята Пиперита Строуберри диам. 9 см\n",
      "Сушилка для белья потолочная ЛИАНА ЛЮКС 140 см ЛЛП-140\n",
      "Сумка-тележка хозяйственная Rolser IMX004 azul Logic RG синяя\n",
      "Подвесное кашпо Калибрахоа Aloha Double Purple сиреневая махровая объем 4 л\n",
      "Подвесное кашпо Калибрахоа Mini Famous Double Blue фиолетовая махровая объем 4 л\n",
      "Подвесное кашпо Калибрахоа Mini Famous Double Red красная махровая объем 4 л\n",
      "Лантана d-13 см\n",
      "Складной детский пуф Hausmann Пожарная Машинка 55х26х31 см красный HM-OT00285\n",
      "Вербена рассада однолетних цветов в кассете по 10 шт\n",
      "Искусственный лист Клена зеленый 10 шт\n",
      "Лаватера Монт Блан 0,3 г 4660010778588\n",
      "Роза садовая спрей в горшке Лидия Вайт\n",
      "Роза садовая спрей в горшке Солнечная Девочка\n",
      "Роза садовая чайногибридная в горшке Анастасия\n",
      "Сушилка для белья ВИОЛЕТ Julia 20 м серая J-20GR\n",
      "Этажерка цветочная пластиковая ЛИВИЯ 5 кашпо М-пластика M3140\n",
      "Ванна 70 л оцинкованная г.Магнитогорск, 1301016\n",
      "Анемона белый объем 0,5 л\n",
      "Базилик овощной Арарат в кассете 4 штуки среднеспелый\n",
      "Базилик овощной Пурпурные звезды в кассете 4 штуки среднеспелый\n",
      "Базилик овощной Тонус в кассете 4 штуки среднеспелый\n",
      "Буддлея Вейера в горшке d-12\n",
      "Валериана лекарственная Кардиола в кассете 4 штуки\n",
      "Змееголовник молдавский Горыныч в кассете 4 штуки среднеспелый\n",
      "Капуста кольраби Венская белая 1350 в кассете 4 штуки скороспелая\n",
      "Капуста цветная Гарантия в кассете 4 штуки скороспелая\n",
      "Капуста цветная Марвел 4 сеазонс в кассете 4 штуки раннеспелая\n",
      "Капуста цветная Мовир 74 в кассете 4 штуки скороспелая\n",
      "Любисток Удалец в кассете 6 штук\n",
      "Монарда в горшке d-12 см\n",
      "Петрушка корневая Сахарная в кассете 4 штуки скороспелая\n",
      "Петрушка листовая Итальянский гигант в кассете 4 штуки среднеспелая\n",
      "Петрушка листовая Обыкновенная листовая в кассете 4 штуки скороспелая\n",
      "Петрушка листовая Универсал в кассете 4 штуки среднеспелая\n",
      "Сельдерей листовой Нежный среднеспелый в кассете 4 штуки\n",
      "Табак бордовый в кассете 10 штук\n",
      "Табак курительный Юбилейный Новый 142 в кассете 6 штук среднеспелый\n",
      "Фуксия E4 в кассете 4 штуки цвет в ассортименте\n",
      "Цинерария серебряная в кассете 10 штук\n",
      "Шалфей овощной Нектар в кассете 4 штуки\n",
      "Сушилка для белья настенная Leifheit Teleclip 100 7,4 м, белая, 83304\n",
      "Коврик влаговпитывающий ребристый 40х60 см Стандарт черный 5872\n",
      "Корзинка с крышкой Natural Style L 30 л 23,1*43,6*32,5 см кремовый D 03619-885 Curver 03619-885\n",
      "Гладильная доска Zalger Amelia 400-401 ДСП 115х30 см\n",
      "Ваза МАСКАРАД 24 см G5541 Luminarc Франция\n",
      "Коврик влаговпитывающий ребристый 60х90 см Стандарт синий 5885\n",
      "Вилка столовая 3 предмета Кокос СВК102\n",
      "Вигна Лилиана в кассете 4 штуки среднеспелая\n",
      "Кабачок Изумруд d-7 см раннеспелый\n",
      "Кофе Арабика в горшке d-7 см\n",
      "Огурец Закусочный пчелоопыляемый в кассете 4 штуки раннеспелый\n",
      "томата (помидор) Летнее солнце № 92 сорт индетерминантный раннеспелый желтый\n",
      "Тыква крупноплодная Лечебная d-7 см раннеспелый\n",
      "Эвкалипт Сильвердроп в горшке d-7 см\n",
      "Ковш пластмассовый ИЖ, 2 л 1406003\n",
      "Кастрюля алюминиевая МТ-064М 1,0 л с ручкой, 1502013\n",
      "Насадка-моп ROZENBAL хлопковая удлиненная с итальянской резьбой R190236\n",
      "Лоток KNIT A4 4,5 л CURVER белый 00778-X64-00\n",
      "Ящик почтовый металлический с врезным замком Почта 1205250\n",
      "Чехол для гладильной доски Zalger 520109 130х48 см хлопок, войлок для доски 125х43 см\n",
      "Хамедорея d-12 см h-25-35 см\n",
      "Сушилка для белья напольная COLOMBO FLOWER 30MT ST798\n",
      "Гладильная доска НИКА ЭЛЬЗА Классик 122х34 см ЭЛК\n",
      "Лантана в горшке d-12\n",
      "Стремянка DOGRULAR КЛАСС ПЛЮС 4 ступени 123304\n",
      "Коврик придверный PHP SRL 40х68 см Format Mezzaluna 20826 Узор 5374\n",
      "Цикламен d-12 см h-20 см розовый с белым\n",
      "Тарелка обеденная Luminarc АМОРИ БРАУН 26 см J1754\n",
      "Зверобой продырявленный Оптимист d- 12-13 см\n",
      "Крючок проволочный 75 мм белый, 1110137\n",
      "Муляж Томат оранжевый 9 см полиуретан\n",
      "Таз пластмассовый 30,0 л овальный (Белоруссия), 1404049\n",
      "Цикламен розовый d-12 см h-20\n",
      "Гладильная доска Sarayli New Favori 130x44 см\n",
      "Сушилка для белья ВИОЛЕТ Level 120 L-120 настенно-потолочная\n",
      "Вешалка настенная НИКА ВПТ11б с полкой 11 крючков белый\n",
      "Прищепки для белья York Spring Prestige, 9603/Z027\n",
      "Штора для ванной комнаты TEX Bambus текстиль 180х200 см бело-зеленая, Spirella, 1042057\n",
      "Коврик для ванной комнаты CALMA акрил 90х60 см киви, Spirella, 1014468\n",
      "Коврик для ванной комнаты FOCUS акрил 90х60 см зеленый, Spirella, 1014213\n",
      "Ведро Полимербыт ГРИБЫ 9 л 4314103\n",
      "Таз пластмассовый строительный прямоугольный 60 л, 1404075\n",
      "Разделочная доска WEBBER РД-00055 из бамбука 33х24х1 см\n",
      "Штора для ванной комнаты TEX Four полиэстер 180х200 см красный, Spirella, 1016269\n",
      "Бельевые прищепки YORK АЗУР эко деревянные 20 шт z029 G1529\n",
      "Роза садовая почвопокровная в горшке Ред Вельвет\n",
      "Роза садовая спрей в горшке Блэк Джэк\n",
      "Роза садовая спрей в горшке Румба\n",
      "Роза садовая чайногибридная в горшке Аква\n",
      "Роза садовая чайногибридная в горшке Блек Бакара\n",
      "Роза садовая чайногибридная в горшке Сатина\n",
      "Плед флисовый 200х150 см WELLNESS WPL152-Атланта_88 100 % полиэстер\n",
      "Вешалка для костюма прямая 44 см красное дерево Attribute AHR141\n",
      "Муляж Красное яблоко мини полиуретан d-5 см\n",
      "Коробка INFINITY CURVER перфорированная с крышкой 17 л белая 04742-N23-00\n",
      "Мединилла Магнифика d-17 см h-60 см\n",
      "Шнур хозяйственный 2 мм х 20 м цветной (Б) , 1201013\n",
      "Корзина для белья ЭЛЬФПЛАСТ Paola 30 л бежевая 427беж\n",
      "Отделитель косточек от вишен Leifheit, 37200\n",
      "Термос со стеклянной колбой 1,0 л темно-зеленый 31003/12S\n",
      "Чайник электрический DELTA DL-1329 нержавеющая сталь 2000 Вт 2 л\n",
      "Чехол для гладильной доски с дизайном Mаrylin Monroe 130х50 см из хлопка\n",
      "Муляж Долька Арбуза 14*7,5 см\n",
      "Нож поварской ALPENKOK из циркониевой керамики 15,2 см красный АК-2062К\n",
      "Полотенце прессованное P46 Авто_2, 100% хлопок 278 г/м2, 30х60 см, Wellness, 4607101069064\n",
      "Щетка-сметка 3-х рядная деревянная 450 мм (плоская ручка), Поиск Риф 1810064\n",
      "Сушилка уличная Leifheit 85210 LINOMATIC V 400 40 м 175х237х237 см зеленая\n",
      "Сумка-тележка хозяйственная Rolser MNB017 fucsia LOGIC DOS+2 фуксия\n",
      "Измерительный угольник, длина 15 см, Truper, ECT-6/14369\n",
      "Таз пластмассовый 30,0 л овальный ПЦ2913, 1404051\n",
      "Сумка-тележка хозяйственная Andersen Scala Shopper Plus, Hava, синяя 133-103-90\n",
      "Набор для пикника Полимербыт на 4 персоны контейнер 6,5 л 22 предмета 4380940\n",
      "Спатифиллум Свит Лауретта d-21 см h-95 см\n",
      "Коврик придверный PHP SRL 40х68 см Format Forme 21719 Пиано 6009\n",
      "Фиалка махровая голубая d-12 см\n",
      "Шпагат полипропиленовый 1.2 ктекс 110 м *Ками Груп*, 1201104\n",
      "Шприц кондитерский WEBBER с 8 насадками 23*10*6 см ВЕ-0331\n",
      "Крышка оцинкованная для стерилизации банок (на 3 банки) 1514008\n",
      "Банка РОНДО ВАЛЕНСИЯ 1л, G8494, Luminarc, Китай\n",
      "Тележка хозяйственная багажная D-T101 грузоподъемность 25кг\n",
      "Импатиенс Нью Гвинея микс d-12 см\n",
      "Жестяная банка Гуси П67*98h98v060-01338\n",
      "Чехол для гладильной доски Leifheit Cotton Classic L 135х45 см на защелке, 72322\n",
      "Сушилка для белья Hausmann Asteria 9 м 100101\n",
      "Таз пластмассовый 16,0 л пищевой овальный с ручками С125, 1404040\n",
      "Сумка-тележка хозяйственная багажная D-Т125 красная грузоподъемность 30кг,\n",
      "Покрытие для гладильной доски Airboard M Premium Speed , 125х40 см, Leifneit, арт. 72373\n",
      "Клен ложноплатановый Леопольди в горшке 3,5 л\n",
      "Хлебница пластмасовая большая 5.0 л Р1673 1524004\n",
      "Чайная ложка TRENDY сталь 2 мм 3 шт Attribute ACT033\n",
      "Бальзамин новогвинейский d-13 см белый с розовым цвет фуксии с белыми вкраплениями\n",
      "Полка для обуви Hausmann 3 яруса 60х24,3х60 см сосна HM-3013\n",
      "Тележка багажная DELTA DT-23 грузоподъемность 50 кг РОССИЯ\n",
      "Сумка-тележка хозяйственная Gimi Easy Go красная\n",
      "Термос со стеклянной колбой 0,8л 21008\n",
      "Тележка хозяйственная Gimi Atos\n",
      "Веревка полипропиленовая (фал) d-4 мм, L-20 м, 1201031\n",
      "Искусственный цветок Роза открытая малая пластиковая красная\n",
      "Миска для варенья алюминиевая с крышкой, 36 см, SСOVO, ДЕМ МТ-037, /1502083\n",
      "Штора для ванной Spirella / Спирелла Peva Hugo, синий, полиэтилен, 180*200 см, 1001951\n",
      "Мешок для строительного мусора 95х55 см, зеленый 1803003\n",
      "Сушилка для белья на стену Leifheit TELEFIX/TELEGANT 100\n",
      "Сумка-тележка хозяйственная Rolser JEA021 rojo Convert красная\n",
      "Вешалка - слуга Малая ЗМИ белое серебро ВНП 141 б\n",
      "Набор инструментов в алюминиевом кейсе на колесиках с ручкой КУЗЬМИЧ 187 предметов НИК-001/187\n",
      "Ткань для гигиенических поверхностей (для чистки и впитывания с антибактериальным покрытием) 400*400 мм, Leifheit, 40000\n",
      "Tepмокружка AVEX Freeflow 700 мл сталь AVEX0776\n",
      "Сушилка для белья на стену Leifheit Rollquick до 4.2 м, белая, 83006\n",
      "Замиокулькас d-15 см h-30 см\n",
      "Каланхое каландива желтое d-7 см\n",
      "Отбеливатель Пероксоль Лилия-М 100 гр Россия 4670008040078\n",
      "Сахарница фарфоровая LAVENDER BLADE 10 см, Domenik, DM9247\n",
      "Бидон пластмассовый 5,0 л (Иж) 1401119\n",
      "Стремянка COLOMBO FACTOTUM 4 ступени алюминий G110AT4W\n",
      "Набор стаканов Ежевика 3 шт 300 мл ДСГ424020311\n",
      "Махровое полотенце 50х30 см WELLNESS *АМЕЛИ_1-31 100% хлопок\n",
      "Паста зубная для профилактики заболеваний десен Kobayashi Японский кипарис и белая береза 100 г Япония 4987072072752\n",
      "Мешок для деликатной стирки 50х70см, Attribute, ALB257\n",
      "Штора для ванной комнаты полиэстер Dasch 180х180 см Море ВТ-821726, 5701\n",
      "Цветок искусственный Подсолнух 60 см\n",
      "Урна уличная стальная Сальвадор 02.021.0 46х110 см\n",
      "Антуриум Андрианум розовый d-12 см\n",
      "Вешалка-стойка Сакура Авангард венге\n",
      "Столовая ложка 3 шт Боннтяжелая СЛBonn-2\n",
      "Сумка для тележки малая комбинированная, 1209024\n",
      "Гладильная доска НИКА ЭЛЬЗА-ЮНИОР 122х34 см ЭЛЮ\n",
      "Флокс метельчатый сорт Морской петух Новый сорт, диаметр горшка 10см.\n",
      "Флокс метельчатый сорт ПОЛИНА, диаметр горшка 10см.\n",
      "Флокс метельчатый сорт Чурленис, диаметр горшка 10см.\n",
      "Покрытие для гладильной доски Leifheit Reflecta Speed Universal, 140х45 см. 72382\n",
      "Штора для ванной комнаты ПВХ Sfumature 240х200 см белая, Bacchetta, 4834\n",
      "Комнатное растение в горшке Плектрантус подвесной горшок, d16, h30\n",
      "Завертка форточная белая/антик с полимерным покрытием *Тонар*, 1108287\n",
      "Полки QWERTY Торонто белый 40х10 см 35х10 см 30х10 см 25х10 см 72015\n",
      "Ручка мебельная кольцо овальное хром, 1108416\n",
      "Роза садовая парковая в горшке Чиппендейл\n",
      "Роза чайно-гибридная Восточный Экспресс сливочно-желтого цвета с малиновыми краями в горшке 2,1 л\n",
      "Перчатки Latex Free L из латекса с защитой для рук и от аллергии, Leifheit, 40039\n",
      "Розмарин в горшке d-15 см\n",
      "Стакан для ванной комнаты DARWIN HAMMERED керамика 11х8 см черный, Spirella, 1015330\n",
      "Покрывало стеганый KARNA 200х220 см 9234567049108\n",
      "Тележка хозяйственная 2-колесная большая с кральями тип-5, 1209055\n",
      "Амариллис Red Lion темно-красный в горшке d-12 см 1 луковица\n",
      "Таз пластмассовый 10,0 л пищевой круглый С12128, 1404093\n",
      "Чайник со свистком Attribute DERBY 2,5 л ASS305\n",
      "Швабра хозяйственная для пола HAUSREIN Wet 42х15 см серая гладкая ручка, Leifheit, 55037\n",
      "Соковарка WEBBER ВЕ-06 из нержавеющей стали 6 л\n",
      "Нож для стейка Attribute CHEF 12 см AKC034\n",
      "Подставка для цветов 1-секционная Стелла 1205107\n",
      "Бальзамин новогвинейский d-13 см лососевый\n",
      "Щетка универсальная с телескопической ручкой DUSTY, Leifheit, 41510\n",
      "Колеус рассада однолетних цветов в кассете по 6 шт\n",
      "Соковарка алюминиевая Scovo 6,0 л МТ-041, Хозлэнд, 1502076\n",
      "Скатерть 180 см WELLNESS WTd180-Лувр*14 100% полиэстер\n",
      "Муляж Зеленое яблоко полиуретан d-5 см\n",
      "Пьезозажигалка с мультиискрой на батарейке ТД1-005В\n",
      "Скатерть Жаклин 50% полиэфир 50% хлопок квадратная 140х140 см бежевая Wellness ML144-Жаклин*17\n",
      "Набор ножей WEBBER из нержавеющей стали 5 предметов в блистере коричневый ВЕ-2235\n",
      "Стакан для ванной комнаты ETNA SHINY керамика 12,5х9,5 см коричневый, Spirella, 1016116\n",
      "Чайник эмалированный METALLONI со свистком и пластиковой ручкой Тутти-Фрутти 3 л ЕМ-30001/44\n",
      "Кастрюля алюминиевая 15 л Белая Калитва 1502124\n",
      "Полки QWERTY Италия белый/серый 40х14х10 см 35х10х10 см 30х7х10 см 72006\n",
      "Скатерть Dasch Донна Роза из ПВХ 0399-2В Дождь овальная 122х152 см 5951\n",
      "Этажерка для обуви ВИОЛЕТ Э2П 2 яруса медный антик\n",
      "Чехол для гладильной доски Dogrular 3202 140х50 см тефлоновый\n",
      "Соковыжималка для цитрусовых PASABAHCE OTS131421-500\n",
      "Махровое полотенце 34х34 см WELLNESS EXCLUSIVE ДАККИ-31 100% хлопок\n",
      "Бальзамин новогвинейский d-13 см белый\n",
      "Цикламен d-12 см h-20 см белый\n",
      "Гладильная доска Eurogold Basic Reflector 110х30 см R20030A\n",
      "Вешалка настенная НИКА ВНТ3 3 крючка черная\n",
      "Решетка вентиляционная металлическая золото 17х17 см 1710035\n",
      "Запасная насадка для ерша пластик черно-белая, Spirella, 1021464\n",
      "Кофе Арабика d-7 см\n",
      "Покрытие для гладильной доски Dressfix XL 140х40 см на веревке жасмин, Leifheit, 72328\n",
      "Лестница-стремянка Dogrular Ufuk оцинкованная 3-х ступенчатая\n",
      "Терка для сыра Comfortline из нержавеющей стали и пластика белая, Leifheit, 03148\n",
      "Коврик ворсовый для ванной комнаты Plush Vanilla из нейлона и латекса прямоугольный 60х102 см ванильный, Mohawk, 4683\n",
      "Муляж Яблоко d-1 см 10 шт\n",
      "Скатерть Рим 88% полиэфир 12% хлопок прямоугольная 350х150 см голубая Wellness MC355-Рим*16\n",
      "Гортензия Микс в кашпо с автополивом\n",
      "Щётка для унитаза нержавеющая сталь, FC-51001D\n",
      "Простыня двуспальная 100% хлопок 200*214 см бело-сиреневая, Wellness, RP200-Ваниль_А\n",
      "Коврик придверный PHP SRL 50х80 см Format Classic 21560 Персия бордо 5606\n",
      "Диффенбахия Камилла d-12 см\n",
      "Флокс метельчатый сорт Гжель, диаметр горшка 10см.\n",
      "Флокс метельчатый сорт Дракон, диаметр горшка 10см.\n",
      "Флокс метельчатый сорт Земляничное суфле, диаметр горшка 10см.\n",
      "Флокс метельчатый сорт Катенька-Катюша, диаметр горшка 10см.\n",
      "Универсальный нож WEBBER из нержавеющей стали Русские мотивы 12,7 см с деревянной ручкой ВЕ-2252D\n",
      "Перчатки Extra Fine S специальная защита для рук, Leifheit, 40026\n",
      "Сумка-тележка хозяйственная Rolser Jet Bora N Joy черная, JET007 negro JOY\n",
      "Уголок оконный 100х100 мм медь антик с полимерным покрытием *Тонар*, 1109038\n",
      "Петрушка Итальянский гигант 2 г 4660010776553\n",
      "Салат Рукола дикая Оливетта 0,3 г 4660010776898\n",
      "Салат Рукола Сицилия 1 г 4660010772852\n",
      "Муляж Перец Чили красный 15 см\n",
      "Стремянка металлическая 5 ступеней, СМ5, НИКА\n",
      "Рассада зелени для кухни Розмарин Оффициналис Мисс Джесоп диам. 9 см\n",
      "Вакуумный пакет EVA для хранения вещей 50х85 см EVEC0085\n",
      "Карниз для ванной комнаты Виолет раздвижной 280 см с кольцами белый 2810/6\n",
      "Чехол для гладильной доски Dogrular 3201 130х46 см тефлоновый\n",
      "Коврик для ванной прямоугольный, 4.5см. Shaggy 70х100см голубой, 603001-003\n",
      "Бальзамин новогвинейский d-13 см розовый\n",
      "Коврик Sochi 36х57 см черный 5795\n",
      "Эхеверия Лила Чина d-10 см\n",
      "Комнатное растение в горшке Плющ, хедера салатовая листва подвесной горшок, d16, h30\n",
      "Искусственный цветок Роза закрытая малая пластиковая белая\n",
      "Тарелка десертная Attribute ROSETTE 19 см ADR131\n",
      "Набор эмалированных салатников METALLONI Рязанские цветы EM-00003A/32 12,14,16 см\n",
      "Шеффлера Голд Капелла d-12 см h-25 см\n",
      "Сушилка для белья Leifheit Siena 18 м 81151\n",
      "Сушилка для белья потолочно-настенная Gimi Lift 160\n",
      "Корзина CITY NEW YORK 35х30х33 см Curver 00274-T37\n",
      "Пеларгония зональная диам. 12 см ярко розовая полумахровая\n",
      "Корзина для белья KNIT CURVER 57 л фиолетовая 03676-X66-00\n",
      "Тряпка для кафеля и паркета микрофибра макси 40х50 см ВИТНЕТТ, Rozenbal, R212766\n",
      "Стеллаж для обуви TELIO-370 венге OPT-370V\n",
      "Совок металический серый, Burstenmann, 1428/0000\n",
      "Ведро для мусора Meliconi Любимцы 14 л 5667\n",
      "Совок для золы металлический с длинной металлической ручкой черный 1805003\n",
      "Кружка с трубочкой Attribute МЯЧ 500 мл JAR501\n",
      "Сушилка для белья Eurogold TRIO 3 м настенная 0706\n",
      "Гладильная доска Gimi Junior 110х33 см\n",
      "Цикламен d-15 см h-20 см цвет фуксии\n",
      "Половник Attribute BLOSSOM пластик AGB305\n",
      "Коробка для хранения бамбук 30х40х25 см Attribute ASB425\n",
      "Роза садовая парковая в горшке Августа Луиза\n",
      "Флокс метельчатый сорт Вальс, диаметр горшка 10см.\n",
      "Флокс метельчатый сорт ТАТЬЯНА, диаметр горшка 10см.\n",
      "Чайник электрический ВАСИЛИСА Т31-2000 нержавеющая сталь черный 2000 Вт 2 л\n",
      "Сумка-тележка хозяйственная Rolser Jet Joy синяя, JET027 azul JOY\n",
      "Сумка-тележка 2-х колесная Gimi Family синяя\n",
      "Швабра Leifheit Wet Mop хозяйственная для пола. 56710\n",
      "Зверобой продырявленный d-9 см\n",
      "Подставка для яйца WILMAX WL-996004/A\n",
      "Двуспальное постельное белье Wellness W185-Арктик, белый, 100% хлопок\n",
      "Ящик для хранения Фимако Люкс плетеный с крышкой M бежевый\n",
      "Муляж Хлеб белый кусок 13х10,5 см\n",
      "Подрукавник Leifheit Stabil для гладильной доски, 71816\n",
      "Сумка-тележка Brava Plus\n",
      "Тележка багажная ручная 25 кг (сумка), 50 кг (каркас) ТБР-20 синяя с красной клеткой\n",
      "Хризантема сиреневая d-18 см\n",
      "Кипятильник электрический 2.5 КВт, 1601143\n",
      "Крепеж для пружины дверной оцинкованный, 1107054\n",
      "Стремянки Colombo Leonardo 2 ступени G300A02W белая 4096\n",
      "Чайник электрический ВАСИЛИСА Т28-1800 нержавеющая сталь 1800 Вт 1,8 л\n",
      "Чехол для короткой одежды 100х60 см\n",
      "Пеларгония розебудная Apple Blossom укорененный черенок\n",
      "Тарелка десертная ХЕЛЛО КИТТИ СВИТ ПИНК 20 см H5479 Luminarc\n",
      "Пуансеттия d-23 см красная\n",
      "Муляж Лимон мини на магните\n",
      "Сушилка для белья настенная Zalger Briz СН-СК80 складывающаяся 0,8 м\n",
      "Коврик придверный Attribute PARQUET кокосовый 75x45 см AMC075\n",
      "Фуксия ампельная нежно-розовая в подвесном кашпо d-15 см\n",
      "Фуксия ампельная темно-фиолетовая с вишневыми лепестками в подвесном кашпо d-15 см\n",
      "Фуксия прямостоячая Белая с красными лепестками в горшке P9\n",
      "Фуксия прямостоячая Белая с розовыми лепестками в горшке P9\n",
      "Фуксия Bella Rosella малиновая с белым чашелистом объем 0,5 л\n",
      "Вешалка для блузок 41 см красный Attribute AHM781\n",
      "Стремянка COLOMBO FACTOTUM 4 ступени стальная G110L04W\n",
      "Искусственный цветок Подснежник садовый пластиковый белый\n",
      "Эвкалипт Гунни d-14 см h-70 см\n",
      "Вешалки мягкие для деликатных вещей 3 шт голубые\n",
      "Пахира Акватика мультистем d-17 см h-45 см\n",
      "Сумка-тележка хозяйственная Rolser IMX004 negro Logic RG черная\n",
      "Эхинокактус Грузони красный d-10 см\n",
      "Одеяло Wellness 1410 пуховое белое, 100% белый пух 500 гр, 140х200 см, 4607101064199\n",
      "Искусственный цветок Ампельнвя петуния пластиковая красная\n",
      "Лестница-стремянка Dogrular Ufuk Al алюминевая 4-х ступенчатая\n",
      "Сушилка для белья потолочная Zalger Lift Comfort 520 120 см 6 м\n",
      "Гладильная доска Gimi Pollicino 73x32 см\n",
      "Таз пластмассовый 10,0 л пищевой круглый (Минеральные воды), 1404088\n",
      "Кастрюля эмалированная Стэма С-1624 12 л цилиндрическая без рисунка 1506037\n",
      "Простыня сатиновая полутороспальная Wellness RPE150-Дримс 100% хлопок, 150х214 см\n",
      "Зверобой продырявленный Оптимист d- 9 см\n",
      "Комнатное растение Пуансеттия D10\n",
      "Ткань для окон Duo для влажной и сухой чистки 200*200 мм, Leifheit, 40002\n",
      "Сушилка для белья напольная COLOMBO STYLE ST460\n",
      "Комнатное растение в горшке Традесканция красная с белым подвесной горшок , d16, h30\n",
      "Вешалка напольная ФАНК ЛК-21 F/LK-21\n",
      "Подушка 40х40 см WELLNESS PLATINUM WR44T цвет в ассортименте\n",
      "Сумка-тележка хозяйственная Rolser MNB012 azul Logic RG\n",
      "Пеларгония зональная махровая микс d-9 см\n",
      "Гладильная доска Березка 115х35 см\n",
      "Стремянка 7 ступенчатая Hailo 8040-707 XXL 13 см алюминиевая с лотком для инструментов\n",
      "Контейнер для мусора FLIP BIN CURVER 25 л графитовый 02171-686-00\n",
      "Сушилка для белья напольная COLOMBO DOUBLE алюминий ST797\n",
      "Салатник КАРИН ГРАНИТ 12см N6615 Luminar Франция\n",
      "Штора для ванной комнаты Bacchetta Marmo серая текстильная 180х200 см 6027\n",
      "Сушилка для белья Gimi Dinamik 20\n",
      "Ёрш бутылочный с металлической ручкой малый Y64 1807002\n",
      "Коврик придверный, полипропилен, 40х70 см, Kokarda, Пес и кот, бежевый, PHP SRL, 21417\n",
      "Основание для пробки электрический 25 А, 1601164\n",
      "Полки QWERTY Пекин белый/чёрный 95х17,5х16 см 40х13х16 см 40х13х16 см 72017\n",
      "Мерный стакан пластиков 1535026\n",
      "Чехол для гладильной доски PRISMA TEXTIL термостатический 125х43 см в ассортименте 44\n",
      "Стяжки для чехла гладильной доски 3 шт, 25 см и 12 см, 108266, Brabantia\n",
      "Эвкалипт Сильвердроп d-7 см h-30 см\n",
      "Ведро резинопластиковое строительное 12,0 л (МП), 1402018\n",
      "Урна уличная стальная Юпитер 02.012.0 38х38х60 см\n",
      "Искусственный цветок Гербера пластиковая розовая\n",
      "Корзина для белья KNIT CURVER 57 л белая 03676-X64-00\n",
      "Хлорофитум d-7 см h-10 см укорененный черенок\n",
      "Махровое полотенце 63,5х38 см WELLNESS СЕВИЛЬЯ_1-004 100% микрофибра\n",
      "Шпингалет 80 мм белый с пружиной, 1102188\n",
      "Лавр d-9 см\n",
      "Чайник заварочный 750 мл WEBBER BE-5567 с металлическим фильтром\n",
      "Сушилка для белья на ванну FREUDENBERG (GIMI) Alablock Varadero silver A4P\n",
      "Каланхое каландива малиновое d-7 см\n",
      "Литопс Микс d-5 см\n"
     ]
    }
   ],
   "source": [
    "for i in data['product'].unique():\n",
    "    print(i)"
   ]
  },
  {
   "cell_type": "code",
   "execution_count": 11,
   "metadata": {},
   "outputs": [
    {
     "data": {
      "text/plain": [
       "Сад и огород                  4708\n",
       "Товары для дома               2040\n",
       "Кухонная утварь                561\n",
       "Инструменты и оборудование     153\n",
       "Бытовая техника                 11\n",
       "Name: category, dtype: int64"
      ]
     },
     "execution_count": 11,
     "metadata": {},
     "output_type": "execute_result"
    }
   ],
   "source": [
    "def categorize_product(product):\n",
    "    product_lower = product.lower()\n",
    "    if any(keyword in product_lower for keyword in ['растение', 'цветок', 'рассада', 'горшок', 'кашпо', 'сад', 'радермахера', \n",
    "                                                    'хризолидокарпус', 'циперус', 'шеффлера', 'юкка', 'герань', 'пеларгония', \n",
    "                                                    'суккулент', 'кампанула', 'эхеверия', 'адиантум', 'бакопа', 'лаванда', \n",
    "                                                    'помидор', 'калибрахоа', 'петуния', 'эвкалипт', 'калатея', 'нолина', \n",
    "                                                    'хлорофитум', 'цикламен', 'глоксиния', 'азалия', 'гортензия', 'хризантема',\n",
    "                                                    'калатея', 'мирт', 'иссоп', 'сантолина', 'аспарагус', 'антуриум', \n",
    "                                                    'молодило', 'фиалка', 'гербера', 'душица', 'мелисса', 'роза', 'розмарин', \n",
    "                                                    'амариллис', 'тимьян', 'фуксия', 'шалфей', 'цинерария', 'петрушка', \n",
    "                                                    'любисток', 'сельдерей' ,'капуста', 'бегония', 'капсикум', 'каллуна', \n",
    "                                                    'калоцефалус', 'дендробиум', 'вербена', 'альбука', 'бальзамин', 'крассула',\n",
    "                                                    'артемизия', 'мята', 'каланхое', 'примула', 'мимоза', 'соланум', 'дерево', \n",
    "                                                    'пуансеттия', 'аптения', 'гиностемма', 'бархатцы', 'космея', 'морковь', \n",
    "                                                    'настурция', 'огурец', 'алиссум', 'гвоздика', 'годеция', 'календула', \n",
    "                                                    'кореопсис', 'лапчатка', 'флокс', 'эшшольция', 'фаленопсис', 'подсолнечник',\n",
    "                                                    'пуансетия', 'скиммия', 'фиттония', 'алоэ', 'спатифиллум', 'фикус', \n",
    "                                                    'лиана', 'кодонанта', 'фаленопсис', 'гимнокалициум', 'эхинокактус', 'фал', \n",
    "                                                    'крокусы', 'гипсофила', 'эпипремнум', 'фаленопсис', 'аквилегия', 'базилик',\n",
    "                                                    'горох', 'земляника', 'незабудка', 'седум', 'томат', 'укроп', 'нефролепис',\n",
    "                                                    'баклажан', 'арбуз', 'вероника', 'спатифиллум', 'декабрист', 'муррайя', \n",
    "                                                    'пиретрум', 'мускари', 'нефролепис', 'калла', 'тюльпан', 'искусственная', \n",
    "                                                    'гиацинт', 'чабер', 'ранункулус', 'георгина', 'смолевка', 'цинния', \n",
    "                                                    'базилик', 'лавр', 'вербейник', 'колокольчик', 'котовник', 'эхинацея', \n",
    "                                                    'ясколка', 'афеляндра', 'виола', 'лилейник', 'папоротник', 'платикодон', \n",
    "                                                    'энотера', 'цитрофортунелла', 'пеперомия', 'дыня', 'гардения', 'лобелия', \n",
    "                                                    'виноград', 'клубника', 'патиссон', 'лук', 'джункус', 'драцена', 'фатсия', \n",
    "                                                    'хоста', 'гайлардия', 'монарда', 'нивянник', 'рудбекия', 'барвинок', \n",
    "                                                    'осина', 'вербейник', 'физостегия', 'змееголовник', 'литопс', 'пахира',\n",
    "                                                    'салат', 'замиокулькас', 'клен', 'импатиенс', 'мединилла', 'зверобой', \n",
    "                                                    'хамедорея', 'тыква', 'кабачок', 'монарда', 'змееголовник', 'валериана', \n",
    "                                                    'буддлея', 'анемона', 'лаватера', 'клена', 'лантана', 'сциндапсус', \n",
    "                                                    'пряные', 'камнеломка', 'солидаго', 'бадан', 'лен', 'астра']):\n",
    "        return 'Сад и огород'\n",
    "    elif any(keyword in product_lower for keyword in ['миксер', 'холодильник', 'микроволновка', \n",
    "                                                      'телевизор', 'утюг', 'пылесос', 'котел', 'кипятильник']):\n",
    "        return 'Бытовая техника'\n",
    "    elif any(keyword in product_lower for keyword in ['кастрюля', 'сковорода', 'нож', 'ложка', 'вилка', 'крышка', 'тарелка',\n",
    "                                                      'кувшин', 'чашка', 'стакан', 'чайник', 'муляж', 'банка', 'толкушка', \n",
    "                                                      'противень', 'блюдце', 'кружка', 'салатник', 'вкладыши', 'кориандр', \n",
    "                                                      'подрукавник', 'рыбочистка', 'овощеварка', 'лоток', 'терка', \n",
    "                                                      'салфетница', 'овощечистка', 'мантоварка', 'термос', 'пресс', 'кисточка',\n",
    "                                                      'скребок', 'картофелемялка', 'миска', 'электроштопор', 'бульонница',\n",
    "                                                      'емкость', 'просеиватель', 'хлебница', 'салфетки', 'кофе', 'выпечки', \n",
    "                                                      'орехоколка', 'скалка', 'венчик', 'сито', 'овсянница', 'тортница', \n",
    "                                                      'блюдо', 'половник', 'соковыжималка', 'соковарка', 'сахарница',\n",
    "                                                      'отделитель']):\n",
    "        return 'Кухонная утварь'\n",
    "    elif any(keyword in product_lower for keyword in ['сушилка', 'сушилка уличная', 'щетка', 'коврик', 'корзина', 'доска', 'чехол', 'сумка',\n",
    "                                                      'ёрш', 'ерш', 'крючок', 'салфетка', 'подставка', 'плед', 'скатерть',\n",
    "                                                      'тележка', 'вешалка', 'таз', 'ванной', 'простыня', 'ковер', 'набор', \n",
    "                                                      'контейнер', 'штора', 'швабра', 'полотенце', 'дозатор', 'плечики', \n",
    "                                                      'крем', 'паста', 'термометр', 'комод', 'прищепки', 'полки', 'табак', \n",
    "                                                      'декоративная', 'подушка', 'кофр', 'стиральный', 'светильник', 'мыло', \n",
    "                                                      'ковёр', 'пена', 'веник', 'ящик', 'ведро', 'короб', 'коробка',\n",
    "                                                      'наматрасник', 'масленка', 'корыто', 'урна', 'фен', 'губка', 'вешалки',\n",
    "                                                      'сметка', 'халат', 'держатель', 'пробка', 'ролик', 'вантуз', 'фоторамка',\n",
    "                                                      'кольца', 'комплект', 'мыльница', 'весы', 'блок', 'ковш', 'бальзам', \n",
    "                                                      'сетка', 'покрывало', 'одеяло', 'подголовник', 'кондиционер', 'простынь',\n",
    "                                                      'ключница', 'соль', 'гель', 'маска', 'рукав', 'бак', 'концентрат', \n",
    "                                                      'полка', 'ткань', 'наматрацник', 'наволочка', 'обувница-3',\n",
    "                                                      'пододеяльник', 'отжим', 'стяжки', 'белье', 'совок', 'стеллаж',\n",
    "                                                      'тряпка', 'пакет', 'этажерка', 'пьезозажигалка', 'покрытие', 'бидон',\n",
    "                                                      'мешок', 'ванна', 'пуф']):\n",
    "        return 'Товары для дома'\n",
    "    else:\n",
    "        return 'Инструменты и оборудование'\n",
    "\n",
    "# Применим функцию к колонке product и создадим новую колонку category\n",
    "data.loc[:, 'category'] = data['product'].apply(categorize_product)\n",
    "data['category'].value_counts()"
   ]
  },
  {
   "cell_type": "markdown",
   "metadata": {},
   "source": [
    "> Было определено **5 категорий: Сад и огород, Товары для дома, Бытовая техника, Кухонная утварь, Инструменты и оборудование**"
   ]
  },
  {
   "cell_type": "markdown",
   "metadata": {},
   "source": [
    "### Графики дохода, кол-ва заказов, среднего чека и кол-ва проданных товаров по месяцам "
   ]
  },
  {
   "cell_type": "code",
   "execution_count": 12,
   "metadata": {},
   "outputs": [
    {
     "data": {
      "image/png": "[encoded data removed]",
      "text/plain": [
       "<Figure size 1008x576 with 4 Axes>"
      ]
     },
     "metadata": {
      "needs_background": "light"
     },
     "output_type": "display_data"
    }
   ],
   "source": [
    "# доход\n",
    "revenue = data.groupby('year_month')['product_full_price'].sum()\n",
    "\n",
    "# кол-во заказов\n",
    "order_quantity = data.groupby('year_month')['order_id'].nunique()\n",
    "\n",
    "# средний чек по месяцам\n",
    "order_summary = data.groupby('order_id').agg({'price': 'sum', 'quantity': 'sum'}).reset_index()\n",
    "order_summary['avg_check'] = order_summary['price'] / order_summary['quantity']\n",
    "\n",
    "data = pd.merge(data, order_summary[['order_id', 'avg_check']], on='order_id', how='left')\n",
    "\n",
    "avg_check_by_month = data.groupby('year_month')['avg_check'].mean().reset_index()\n",
    "avg_check_by_month['year_month'] = avg_check_by_month['year_month'].astype(str)\n",
    "\n",
    "# кол-во проданных товаров по месяцам\n",
    "sold_items = data.groupby('year_month')['quantity'].sum()\n",
    "\n",
    "\n",
    "fig, axs = plt.subplots(4, 1, figsize=(14, 8))\n",
    "\n",
    "axs[0].plot(revenue.index.astype(str), revenue, marker='o')\n",
    "axs[0].set_title('Выручка по месяцам')\n",
    "axs[0].set_xlabel('Месяц')\n",
    "axs[0].set_ylabel('Выручка')\n",
    "axs[0].grid(True)\n",
    "\n",
    "axs[1].plot(order_quantity.index.astype(str), order_quantity, marker='o')\n",
    "axs[1].set_title('Кол-во заказов по месяцам')\n",
    "axs[1].set_xlabel('Месяц')\n",
    "axs[1].set_ylabel('Кол-во заказов')\n",
    "axs[1].grid(True)\n",
    "\n",
    "axs[2].plot(avg_check_by_month['year_month'], avg_check_by_month['avg_check'], marker='o')\n",
    "axs[2].set_title('Средний чек по месяцам')\n",
    "axs[2].set_xlabel('Месяц')\n",
    "axs[2].set_ylabel('Средний чек')\n",
    "axs[2].grid(True)\n",
    "\n",
    "axs[3].plot(sold_items.index.astype(str), sold_items, marker='o')\n",
    "axs[3].set_title('Кол-во проданных товаров по месяцам')\n",
    "axs[3].set_xlabel('Месяц')\n",
    "axs[3].set_ylabel('Кол-во проданных товаров')\n",
    "axs[3].grid(True)\n",
    "\n",
    "plt.tight_layout()\n",
    "plt.show()"
   ]
  },
  {
   "cell_type": "code",
   "execution_count": 13,
   "metadata": {},
   "outputs": [
    {
     "data": {
      "text/html": [
       "<div>\n",
       "<style scoped>\n",
       "    .dataframe tbody tr th:only-of-type {\n",
       "        vertical-align: middle;\n",
       "    }\n",
       "\n",
       "    .dataframe tbody tr th {\n",
       "        vertical-align: top;\n",
       "    }\n",
       "\n",
       "    .dataframe thead th {\n",
       "        text-align: right;\n",
       "    }\n",
       "</style>\n",
       "<table border=\"1\" class=\"dataframe\">\n",
       "  <thead>\n",
       "    <tr style=\"text-align: right;\">\n",
       "      <th></th>\n",
       "      <th>date</th>\n",
       "      <th>product</th>\n",
       "      <th>quantity</th>\n",
       "    </tr>\n",
       "  </thead>\n",
       "  <tbody>\n",
       "    <tr>\n",
       "      <th>5071</th>\n",
       "      <td>2019-06-11 07:00:00</td>\n",
       "      <td>Вешалки мягкие для деликатных вещей 3 шт шоколад</td>\n",
       "      <td>334</td>\n",
       "    </tr>\n",
       "  </tbody>\n",
       "</table>\n",
       "</div>"
      ],
      "text/plain": [
       "                    date                                           product  \\\n",
       "5071 2019-06-11 07:00:00  Вешалки мягкие для деликатных вещей 3 шт шоколад   \n",
       "\n",
       "      quantity  \n",
       "5071       334  "
      ]
     },
     "execution_count": 13,
     "metadata": {},
     "output_type": "execute_result"
    }
   ],
   "source": [
    "data[data['product_full_price'] == data['product_full_price'].max()][['date', 'product', 'quantity']]"
   ]
  },
  {
   "cell_type": "markdown",
   "metadata": {},
   "source": [
    "> **Выручка по месяцам:** Из графика видно, что **общая выручка постепенно падает.**   \n",
    "\n",
    "> **Кол-во заказов по месяцам:** До начала 2019 года кол-во заказов **сильно колебалось, однако все же сильно упало к июню 2019**. Затем заказы **постепенно начали расти и продолжают расти до конца предоставленных данных.**  \n",
    "\n",
    "> **Средний чек по месяцам:** Как правило, в **осенний и зимний период средний чек намного выше, чем в летний и весенний**, так как **в теплые сезоны происходит закупка семенами**, а они очень **дешевые и не увеличивают средний чек(около 200-300 руб). Заметно сильное повышение в период на декабрь: люди закупаются подарками(около 700-800 руб).**  \n",
    "\n",
    "> **Кол-во проданных товаров по месяцам:** Ситуация координально отличается от предыдущего графика: **в холодные сезоны кол-во проданных товаров низкое**, люди покупают практически поштучно, а **ближе к лету продается много товаров**, скорее всего все закупаются семенами и товарами для огорода. "
   ]
  },
  {
   "cell_type": "markdown",
   "metadata": {},
   "source": [
    "### Графики дохода, кол-ва заказов, среднего чека и кол-ва проданных товаров по месяцам (разделение по категориям товаров)"
   ]
  },
  {
   "cell_type": "code",
   "execution_count": 14,
   "metadata": {
    "scrolled": false
   },
   "outputs": [
    {
     "data": {
      "image/png": "[encoded data removed]",
      "text/plain": [
       "<Figure size 1008x1296 with 4 Axes>"
      ]
     },
     "metadata": {
      "needs_background": "light"
     },
     "output_type": "display_data"
    }
   ],
   "source": [
    "# Выручка по категориям\n",
    "revenue_by_category = data.groupby(['year_month', 'category'])['product_full_price'].sum().unstack()\n",
    "\n",
    "# Кол-во заказов по категориям\n",
    "orders_by_category = data.groupby(['year_month', 'category'])['order_id'].nunique().unstack()\n",
    "\n",
    "# Средний чек по категориям\n",
    "order_summary = data.groupby(['order_id', 'category']).agg({'price': 'sum', 'quantity': 'sum'}).reset_index()\n",
    "order_summary['avg_check'] = order_summary['price'] / order_summary['quantity']\n",
    "\n",
    "\n",
    "data = pd.merge(data, order_summary[['order_id', 'category']], on=['order_id', 'category'], how='left')\n",
    "\n",
    "avg_check_by_category = data.groupby(['year_month', 'category'])['avg_check'].mean().unstack()\n",
    "\n",
    "# Кол-во проданных товаров по категориям\n",
    "sold_items_by_category = data.groupby(['year_month', 'category'])['quantity'].sum().unstack()\n",
    "\n",
    "# Выручка и средний чек по покупателям (customer_id) по месяцам\n",
    "revenue_by_customer_monthly = data.groupby(['year_month', 'customer_id'])['product_full_price'].sum().unstack()\n",
    "avg_check_by_customer_monthly = data.groupby(['year_month', 'customer_id']).apply(\n",
    "    lambda x: x['product_full_price'].sum() / x['order_id'].nunique()\n",
    ").unstack()\n",
    "\n",
    "fig, axs = plt.subplots(4, 1, figsize=(14, 18))\n",
    "\n",
    "revenue_by_category.plot(kind='line', marker='o', ax=axs[0])\n",
    "axs[0].set_title('Выручка по месяцам (по категориям товаров)')\n",
    "axs[0].set_xlabel('Месяц')\n",
    "axs[0].set_ylabel('Выручка')\n",
    "axs[0].grid(True)\n",
    "\n",
    "orders_by_category.plot(kind='line', marker='o', ax=axs[1])\n",
    "axs[1].set_title('Кол-во заказов по месяцам (по категориям товаров)')\n",
    "axs[1].set_xlabel('Месяц')\n",
    "axs[1].set_ylabel('Кол-во заказов')\n",
    "axs[1].grid(True)\n",
    "\n",
    "avg_check_by_category.plot(kind='line', marker='o', ax=axs[2])\n",
    "axs[2].set_title('Средний чек по месяцам (по категориям товаров)')\n",
    "axs[2].set_xlabel('Месяц')\n",
    "axs[2].set_ylabel('Средний чек')\n",
    "axs[2].grid(True)\n",
    "\n",
    "sold_items_by_category.plot(kind='line', marker='o', ax=axs[3])\n",
    "axs[3].set_title('Кол-во проданных товаров по месяцам (по категориям товаров)')\n",
    "axs[3].set_xlabel('Месяц')\n",
    "axs[3].set_ylabel('Кол-во проданных товаров')\n",
    "axs[3].grid(True)\n",
    "\n",
    "\n",
    "plt.tight_layout()\n",
    "plt.show()"
   ]
  },
  {
   "cell_type": "markdown",
   "metadata": {},
   "source": [
    "> **Выручка по месяцам (по категориям товаров):** **Самые стабильные категории товаров: \"Кухонная утварь\" и \"Инструменты и оборудование\".** **К Новому Году выручку поднимает \"Бытовая техника\",** а категория **\"Сад и огород\" сильно растет в период весна-начало лета.**  \n",
    "\n",
    "> **Кол-во заказов по месяцам (по категориям товаров):** Категории **\"Бытовая техника\", \"Кухонная утварь\" и \"Инструменты и оборудование\" достаточно стабильны в течение года в плане заказов**. **\"Товары для дома\" лучше продаются в период осень-декабрь, а \"Сад и огород\" с марта по июнь(до 140).**  \n",
    "\n",
    "> **Средний чек по месяцам (по категориям товаров):** Самые стабильные категории в плане среднего чека: **\"Кухонная утварь\" и \"Сад и огород\", они стабильно низкие - около 250-500 рублей.** **\"Товары для дома\" тоже стабильны, но со средним чеком в 800-1000 руб.** Ср. чек категории **\"Инструменты и оборудование\"** сильно колебается в течении года, из-за того, что таких заказов меньше, **пики приходятся на июнь(3000 руб.) и декабрь(2300 руб.)**. **\"Бытовая техника\" колеблется от 1250 до 2500, пик приходится на декабрь.**  \n",
    "\n",
    "> **Кол-во проданных товаров по месяцам (по категориям товаров):** Все категории более-менее стабильны, только **заметны всплески у \"Инструменты и оборудование\" в октябре, \"Кухонная утварь\"** и постепенное **вырастание кол-ва проданного категории \"Сад и огород\" с января по июнь и в октябре.**"
   ]
  },
  {
   "cell_type": "markdown",
   "metadata": {},
   "source": [
    "### Топ покупателей по выручке и по среднему чеку"
   ]
  },
  {
   "cell_type": "code",
   "execution_count": 15,
   "metadata": {},
   "outputs": [
    {
     "data": {
      "image/png": "[encoded data removed]",
      "text/plain": [
       "<Figure size 864x432 with 1 Axes>"
      ]
     },
     "metadata": {
      "needs_background": "light"
     },
     "output_type": "display_data"
    }
   ],
   "source": [
    "# Расчет средней выручки с покупателя по месяцам\n",
    "monthly_revenue_per_customer = data.groupby(['year_month', 'customer_id'])['product_full_price'].sum().groupby(level=0).mean()\n",
    "\n",
    "plt.figure(figsize=(12, 6))\n",
    "monthly_revenue_per_customer.plot(kind='line', marker='o', color='skyblue')\n",
    "plt.title('Динамика средней выручки с покупателя по месяцам')\n",
    "plt.xlabel('Месяц')\n",
    "plt.ylabel('Средняя выручка с покупателя')\n",
    "plt.grid(True)\n",
    "plt.show()"
   ]
  },
  {
   "cell_type": "code",
   "execution_count": 16,
   "metadata": {},
   "outputs": [
    {
     "data": {
      "text/html": [
       "<div>\n",
       "<style scoped>\n",
       "    .dataframe tbody tr th:only-of-type {\n",
       "        vertical-align: middle;\n",
       "    }\n",
       "\n",
       "    .dataframe tbody tr th {\n",
       "        vertical-align: top;\n",
       "    }\n",
       "\n",
       "    .dataframe thead th {\n",
       "        text-align: right;\n",
       "    }\n",
       "</style>\n",
       "<table border=\"1\" class=\"dataframe\">\n",
       "  <thead>\n",
       "    <tr style=\"text-align: right;\">\n",
       "      <th></th>\n",
       "      <th>date</th>\n",
       "      <th>customer_id</th>\n",
       "      <th>avg_check</th>\n",
       "      <th>total_amount</th>\n",
       "    </tr>\n",
       "  </thead>\n",
       "  <tbody>\n",
       "    <tr>\n",
       "      <th>9</th>\n",
       "      <td>2018-10-01 09:00:00</td>\n",
       "      <td>c971fb21-d54c-4134-938f-16b62ee86d3b</td>\n",
       "      <td>674.000000</td>\n",
       "      <td>134145.0</td>\n",
       "    </tr>\n",
       "    <tr>\n",
       "      <th>4157</th>\n",
       "      <td>2019-05-31 12:00:00</td>\n",
       "      <td>1d6c8c1f-a799-4418-9af2-1ded47d7a85c</td>\n",
       "      <td>125.800000</td>\n",
       "      <td>113220.0</td>\n",
       "    </tr>\n",
       "    <tr>\n",
       "      <th>2589</th>\n",
       "      <td>2019-04-01 16:00:00</td>\n",
       "      <td>57cc80a2-2610-4eef-9457-e7c3bf0c72f0</td>\n",
       "      <td>1087.000000</td>\n",
       "      <td>65220.0</td>\n",
       "    </tr>\n",
       "    <tr>\n",
       "      <th>12</th>\n",
       "      <td>2018-10-01 13:00:00</td>\n",
       "      <td>4d93d3f6-8b24-403b-a74b-f5173e40d7db</td>\n",
       "      <td>187.000000</td>\n",
       "      <td>30539.0</td>\n",
       "    </tr>\n",
       "    <tr>\n",
       "      <th>1469</th>\n",
       "      <td>2019-01-10 13:00:00</td>\n",
       "      <td>58a4c3cc-504f-43ea-a74a-bae19e665552</td>\n",
       "      <td>649.666667</td>\n",
       "      <td>3704.0</td>\n",
       "    </tr>\n",
       "  </tbody>\n",
       "</table>\n",
       "</div>"
      ],
      "text/plain": [
       "                    date                           customer_id    avg_check  \\\n",
       "9    2018-10-01 09:00:00  c971fb21-d54c-4134-938f-16b62ee86d3b   674.000000   \n",
       "4157 2019-05-31 12:00:00  1d6c8c1f-a799-4418-9af2-1ded47d7a85c   125.800000   \n",
       "2589 2019-04-01 16:00:00  57cc80a2-2610-4eef-9457-e7c3bf0c72f0  1087.000000   \n",
       "12   2018-10-01 13:00:00  4d93d3f6-8b24-403b-a74b-f5173e40d7db   187.000000   \n",
       "1469 2019-01-10 13:00:00  58a4c3cc-504f-43ea-a74a-bae19e665552   649.666667   \n",
       "\n",
       "      total_amount  \n",
       "9         134145.0  \n",
       "4157      113220.0  \n",
       "2589       65220.0  \n",
       "12         30539.0  \n",
       "1469        3704.0  "
      ]
     },
     "execution_count": 16,
     "metadata": {},
     "output_type": "execute_result"
    }
   ],
   "source": [
    "total_revenue_per_customer = data.groupby('customer_id')['product_full_price'].sum()\n",
    "data['total_amount'] = data.groupby('customer_id')['price'].transform('sum')\n",
    "\n",
    "top_5_customers = total_revenue_per_customer.sort_values(ascending=False).head(5).index\n",
    "\n",
    "top_5_customers_data = data[data['customer_id'].isin(top_5_customers)]\n",
    "\n",
    "top_5_customers_data.drop_duplicates(subset='customer_id', inplace=True)\n",
    "top_5_customers_data = top_5_customers_data.sort_values(by='total_amount', ascending=False)\n",
    "top_5_customers_data[['date', 'customer_id', 'avg_check', 'total_amount']]"
   ]
  },
  {
   "cell_type": "markdown",
   "metadata": {},
   "source": [
    "> **Основной тренд - сильное падение средней выручки.** Выручка росла с весны по июнь 2019, так как в целом в этот период больше продаж.  \n",
    "> **Самая высокая прибыль по покупателем наблюдается среди покупателей со средним чеком от 100-1000 руб. Самая высокая выручка от покупателя: 134145 руб.**  "
   ]
  },
  {
   "cell_type": "code",
   "execution_count": 17,
   "metadata": {},
   "outputs": [
    {
     "data": {
      "image/png": "[encoded data removed]",
      "text/plain": [
       "<Figure size 864x432 with 1 Axes>"
      ]
     },
     "metadata": {
      "needs_background": "light"
     },
     "output_type": "display_data"
    }
   ],
   "source": [
    "# Расчет среднего чека с покупателя по месяцам\n",
    "monthly_avg_check_per_customer = data.groupby(['year_month', 'customer_id']).apply(\n",
    "    lambda x: x['product_full_price'].sum() / x['order_id'].nunique()\n",
    ").groupby(level=0).mean()\n",
    "\n",
    "plt.figure(figsize=(12, 6))\n",
    "monthly_avg_check_per_customer.plot(kind='line', marker='o', color='skyblue')\n",
    "plt.title('Динамика среднего чека с покупателя по месяцам')\n",
    "plt.xlabel('Месяц')\n",
    "plt.ylabel('Средний чек с покупателя')\n",
    "plt.grid(True)\n",
    "plt.show()"
   ]
  },
  {
   "cell_type": "code",
   "execution_count": 18,
   "metadata": {},
   "outputs": [
    {
     "data": {
      "text/html": [
       "<div>\n",
       "<style scoped>\n",
       "    .dataframe tbody tr th:only-of-type {\n",
       "        vertical-align: middle;\n",
       "    }\n",
       "\n",
       "    .dataframe tbody tr th {\n",
       "        vertical-align: top;\n",
       "    }\n",
       "\n",
       "    .dataframe thead th {\n",
       "        text-align: right;\n",
       "    }\n",
       "</style>\n",
       "<table border=\"1\" class=\"dataframe\">\n",
       "  <thead>\n",
       "    <tr style=\"text-align: right;\">\n",
       "      <th></th>\n",
       "      <th>date</th>\n",
       "      <th>customer_id</th>\n",
       "      <th>order_id</th>\n",
       "      <th>product</th>\n",
       "      <th>quantity</th>\n",
       "      <th>price</th>\n",
       "      <th>product_full_price</th>\n",
       "      <th>year_month</th>\n",
       "      <th>category</th>\n",
       "      <th>avg_check</th>\n",
       "      <th>total_amount</th>\n",
       "    </tr>\n",
       "  </thead>\n",
       "  <tbody>\n",
       "    <tr>\n",
       "      <th>5991</th>\n",
       "      <td>2019-07-29 17:00:00</td>\n",
       "      <td>0d87f4ae-465a-4fac-81e6-5d629761783e</td>\n",
       "      <td>72139</td>\n",
       "      <td>Сушилка уличная Leifheit 85210 LINOMATIC V 400...</td>\n",
       "      <td>1</td>\n",
       "      <td>14917.0</td>\n",
       "      <td>14917.0</td>\n",
       "      <td>2019-07</td>\n",
       "      <td>Сад и огород</td>\n",
       "      <td>14917.0</td>\n",
       "      <td>14917.0</td>\n",
       "    </tr>\n",
       "    <tr>\n",
       "      <th>2697</th>\n",
       "      <td>2019-04-05 19:00:00</td>\n",
       "      <td>c0c60544-3a99-49d0-8a8e-cf7f293c22cb</td>\n",
       "      <td>71035</td>\n",
       "      <td>Сумка-тележка хозяйственная Andersen Royal Sho...</td>\n",
       "      <td>1</td>\n",
       "      <td>8737.0</td>\n",
       "      <td>8737.0</td>\n",
       "      <td>2019-04</td>\n",
       "      <td>Товары для дома</td>\n",
       "      <td>8737.0</td>\n",
       "      <td>8737.0</td>\n",
       "    </tr>\n",
       "    <tr>\n",
       "      <th>1981</th>\n",
       "      <td>2019-02-24 10:00:00</td>\n",
       "      <td>ac250053-a236-467a-97d2-ddbb9bf4a1ba</td>\n",
       "      <td>70423</td>\n",
       "      <td>Сумка-тележка хозяйственная Andersen Alu Star ...</td>\n",
       "      <td>1</td>\n",
       "      <td>8437.0</td>\n",
       "      <td>8437.0</td>\n",
       "      <td>2019-02</td>\n",
       "      <td>Товары для дома</td>\n",
       "      <td>8437.0</td>\n",
       "      <td>8684.0</td>\n",
       "    </tr>\n",
       "    <tr>\n",
       "      <th>2997</th>\n",
       "      <td>2019-04-21 16:00:00</td>\n",
       "      <td>19d904d8-8d16-476d-8f66-b2a3b7a23660</td>\n",
       "      <td>71227</td>\n",
       "      <td>Сумка-тележка хозяйственная Rolser MNB019 rojo...</td>\n",
       "      <td>1</td>\n",
       "      <td>8077.0</td>\n",
       "      <td>8077.0</td>\n",
       "      <td>2019-04</td>\n",
       "      <td>Товары для дома</td>\n",
       "      <td>8077.0</td>\n",
       "      <td>8167.0</td>\n",
       "    </tr>\n",
       "    <tr>\n",
       "      <th>7435</th>\n",
       "      <td>2020-01-26 19:00:00</td>\n",
       "      <td>04416514-5346-4f90-93e3-fb7365e2ee8c</td>\n",
       "      <td>109758</td>\n",
       "      <td>Сумка-тележка хозяйственная Rolser MNB019 rojo...</td>\n",
       "      <td>1</td>\n",
       "      <td>8077.0</td>\n",
       "      <td>8077.0</td>\n",
       "      <td>2020-01</td>\n",
       "      <td>Товары для дома</td>\n",
       "      <td>8077.0</td>\n",
       "      <td>8107.0</td>\n",
       "    </tr>\n",
       "  </tbody>\n",
       "</table>\n",
       "</div>"
      ],
      "text/plain": [
       "                    date                           customer_id  order_id  \\\n",
       "5991 2019-07-29 17:00:00  0d87f4ae-465a-4fac-81e6-5d629761783e     72139   \n",
       "2697 2019-04-05 19:00:00  c0c60544-3a99-49d0-8a8e-cf7f293c22cb     71035   \n",
       "1981 2019-02-24 10:00:00  ac250053-a236-467a-97d2-ddbb9bf4a1ba     70423   \n",
       "2997 2019-04-21 16:00:00  19d904d8-8d16-476d-8f66-b2a3b7a23660     71227   \n",
       "7435 2020-01-26 19:00:00  04416514-5346-4f90-93e3-fb7365e2ee8c    109758   \n",
       "\n",
       "                                                product  quantity    price  \\\n",
       "5991  Сушилка уличная Leifheit 85210 LINOMATIC V 400...         1  14917.0   \n",
       "2697  Сумка-тележка хозяйственная Andersen Royal Sho...         1   8737.0   \n",
       "1981  Сумка-тележка хозяйственная Andersen Alu Star ...         1   8437.0   \n",
       "2997  Сумка-тележка хозяйственная Rolser MNB019 rojo...         1   8077.0   \n",
       "7435  Сумка-тележка хозяйственная Rolser MNB019 rojo...         1   8077.0   \n",
       "\n",
       "      product_full_price year_month         category  avg_check  total_amount  \n",
       "5991             14917.0    2019-07     Сад и огород    14917.0       14917.0  \n",
       "2697              8737.0    2019-04  Товары для дома     8737.0        8737.0  \n",
       "1981              8437.0    2019-02  Товары для дома     8437.0        8684.0  \n",
       "2997              8077.0    2019-04  Товары для дома     8077.0        8167.0  \n",
       "7435              8077.0    2020-01  Товары для дома     8077.0        8107.0  "
      ]
     },
     "execution_count": 18,
     "metadata": {},
     "output_type": "execute_result"
    }
   ],
   "source": [
    "top_5_customers = data.sort_values(by='avg_check', ascending=False).head(5)\n",
    "\n",
    "\n",
    "top_5_customers"
   ]
  },
  {
   "cell_type": "markdown",
   "metadata": {},
   "source": [
    "> **Ситуация как и с выручкой: наблюдается снижение среднего чека.**  \n",
    "> **Самый высокий ср.чек по покупателем наблюдается среди единоразовых покупок покупателей, которые купили дорогой товар. Самый высокий ср.чек: 14917 руб.**"
   ]
  },
  {
   "cell_type": "markdown",
   "metadata": {},
   "source": [
    "### Мини-итог\n",
    "1. Было определено **5 категорий: Сад и огород, Товары для дома, Бытовая техника, Кухонная утварь, Инструменты и оборудование**   \n",
    "\n",
    "2. ***Графики без разбивки по категориям:***  \n",
    "- ***Выручка по месяцам:*** Из графика видно, что **общая выручка постепенно падает.**  \n",
    "\n",
    "\n",
    "- ***Кол-во заказов по месяцам:*** До начала 2019 года кол-во заказов **сильно колебалось, однако все же сильно упало к июню 2019**. Затем заказы **постепенно начали расти и продолжают расти до конца предоставленных данных.**  \n",
    "\n",
    "\n",
    "- ***Средний чек по месяцам:*** Как правило, в **осенний и зимний период средний чек намного выше, чем в летний и весенний**, так как **в теплые сезоны происходит закупка семенами**, а они очень **дешевые и не увеличивают средний чек(около 200-300 руб). Заметно сильное повышение в период на декабрь: люди закупаются подарками(около 700-800 руб).**  \n",
    "\n",
    "\n",
    "- ***Кол-во проданных товаров по месяцам:*** Ситуация координально отличается от предыдущего графика: **в холодные сезоны кол-во проданных товаров низкое**, люди покупают практически поштучно, а **ближе к лету продается много товаров**, скорее всего все закупаются семенами и товарами для огорода. \n",
    "\n",
    "3. ***Графики с разбивкой по категориям:***  \n",
    "- ***Выручка по месяцам (по категориям товаров):*** **Самые стабильные категории товаров: \"Кухонная утварь\" и \"Инструменты и оборудование\".** **К Новому Году выручку поднимает \"Бытовая техника\",** а категория **\"Сад и огород\" сильно растет в период весна-начало лета.**  \n",
    "\n",
    "\n",
    "- ***Кол-во заказов по месяцам (по категориям товаров):*** Категории **\"Бытовая техника\", \"Кухонная утварь\" и \"Инструменты и оборудование\" достаточно стабильны в течение года в плане заказов**. **\"Товары для дома\" лучше продаются в период осень-декабрь, а \"Сад и огород\" с марта по июнь(до 140).  \n",
    "\n",
    "\n",
    "- ***Средний чек по месяцам (по категориям товаров):*** Самые стабильные категории в плане среднего чека: **\"Кухонная утварь\" и \"Сад и огород\", они стабильно низкие - около 250-500 рублей.** **\"Товары для дома\" тоже стабильны, но со средним чеком в 800-1000 руб.** Ср. чек категории **\"Инструменты и оборудование\"** сильно колебается в течении года, из-за того, что таких заказов меньше, **пики приходятся на июнь(3000 руб.) и декабрь(2300 руб.)**. **\"Бытовая техника\" колеблется от 1250 до 2500, пик приходится на декабрь.**  \n",
    "\n",
    "\n",
    "- ***Кол-во проданных товаров по месяцам (по категориям товаров):*** Все категории более-менее стабильны, только **заметны всплески у \"Инструменты и оборудование\" в октябре, \"Кухонная утварь\"** и постепенное **вырастание кол-ва проданного категории \"Сад и огород\" с января по июнь и в октябре.**  \n",
    "\n",
    "4. ***Топ покупателей по выручке и по среднему чеку:***  \n",
    "- **Основной тренд - сильное падение средней выручки.** Выручка росла с весны по июнь 2019, так как в целом в этот период больше продаж.  \n",
    "- **Самая высокая прибыль по покупателем наблюдается среди покупателей со средним чеком от 100-1000 руб. Самая высокая выручка от покупателя: 134145 руб.**  \n",
    "\n",
    "- **Ситуация как и с выручкой: наблюдается снижение среднего чека.**  \n",
    "- **Самый высокий ср.чек по покупателем наблюдается среди единоразовых покупок покупателей, которые купили дорогой товар. Самый высокий ср.чек: 14917 руб.**"
   ]
  },
  {
   "cell_type": "markdown",
   "metadata": {},
   "source": [
    "## Основные вопросы исследования"
   ]
  },
  {
   "cell_type": "markdown",
   "metadata": {},
   "source": [
    "### Предобработка данных и классификация на основе пороговых значений"
   ]
  },
  {
   "cell_type": "code",
   "execution_count": 19,
   "metadata": {},
   "outputs": [
    {
     "data": {
      "image/png": "[encoded data removed]",
      "text/plain": [
       "<Figure size 720x432 with 1 Axes>"
      ]
     },
     "metadata": {
      "needs_background": "light"
     },
     "output_type": "display_data"
    },
    {
     "data": {
      "image/png": "[encoded data removed]",
      "text/plain": [
       "<Figure size 720x432 with 1 Axes>"
      ]
     },
     "metadata": {
      "needs_background": "light"
     },
     "output_type": "display_data"
    }
   ],
   "source": [
    "unique_customers_data = data.drop_duplicates(subset=['customer_id'])\n",
    "\n",
    "# Расчет параметров для каждого уникального пользователя\n",
    "\n",
    "# Общее количество заказов\n",
    "unique_customers_data['total_purchases'] = data.groupby('customer_id')['order_id'].transform('nunique')\n",
    "\n",
    "# Общая сумма покупок\n",
    "unique_customers_data['total_amount'] = data.groupby('customer_id')['price'].transform('sum')\n",
    "\n",
    "# Средняя сумма покупки\n",
    "unique_customers_data['avg_purchase_amount'] = unique_customers_data['total_amount'] / unique_customers_data['total_purchases']\n",
    "\n",
    "# Частота покупок\n",
    "unique_customers_data['days_since_first_purchase'] = (data['date'] - data.groupby('customer_id')['date'].transform('min')).dt.days\n",
    "unique_customers_data['purchase_frequency'] = unique_customers_data['total_purchases'] / (unique_customers_data['days_since_first_purchase'] + 1)\n",
    "\n",
    "\n",
    "plt.figure(figsize=(10, 6))\n",
    "plt.hist(unique_customers_data['total_amount'], bins=30, color='skyblue', edgecolor='black')\n",
    "plt.title('Распределение общей суммы покупок')\n",
    "plt.xlabel('Общая сумма покупок')\n",
    "plt.ylabel('Количество пользователей')\n",
    "plt.grid(True)\n",
    "plt.show()\n",
    "\n",
    "# Построение boxplot для total_amount\n",
    "plt.figure(figsize=(10, 6))\n",
    "sns.boxplot(x=unique_customers_data['total_amount'], color='skyblue')\n",
    "plt.title('Ящик с усами для общей суммы покупок')\n",
    "plt.xlabel('Общая сумма покупок')\n",
    "plt.xlim(0, 20000)\n",
    "plt.grid(True)\n",
    "plt.show()"
   ]
  },
  {
   "cell_type": "code",
   "execution_count": 20,
   "metadata": {},
   "outputs": [
    {
     "name": "stdout",
     "output_type": "stream",
     "text": [
      "Статистика по средним значениям\n",
      "             order_id  quantity        price  product_full_price    avg_check  \\\n",
      "cluster                                                                         \n",
      "0        64743.278993  4.874751   263.925779          623.453943   225.024079   \n",
      "1        64673.593486  1.238842  1299.026538         1444.428227  1258.896034   \n",
      "2        67796.616071  1.089286  3732.464286         3849.142857  3694.511603   \n",
      "\n",
      "         total_amount  total_purchases  avg_purchase_amount  \\\n",
      "cluster                                                       \n",
      "0          382.328142         1.286282           312.514634   \n",
      "1         2076.799055         1.529554          1514.219807   \n",
      "2        11417.941964         3.071429          7982.586646   \n",
      "\n",
      "         days_since_first_purchase  purchase_frequency  \n",
      "cluster                                                 \n",
      "0                              0.0            1.286282  \n",
      "1                              0.0            1.529554  \n",
      "2                              0.0            3.071429  \n"
     ]
    }
   ],
   "source": [
    "# Определение порогов для кластеров на основе общей суммы покупок\n",
    "threshold_1 = 1000\n",
    "threshold_2 = 5000\n",
    "\n",
    "def determine_cluster(row):\n",
    "    if row['total_amount'] < threshold_1:\n",
    "        return 0  \n",
    "    elif row['total_amount'] < threshold_2:\n",
    "        return 1  \n",
    "    else:\n",
    "        return 2  \n",
    "\n",
    "unique_customers_data['cluster'] = unique_customers_data.apply(determine_cluster, axis=1)\n",
    "\n",
    "print('Статистика по средним значениям')\n",
    "print(unique_customers_data.groupby('cluster').mean())"
   ]
  },
  {
   "cell_type": "markdown",
   "metadata": {},
   "source": [
    "> Была создана **классификация на основе пороговых значений**"
   ]
  },
  {
   "cell_type": "code",
   "execution_count": 21,
   "metadata": {},
   "outputs": [
    {
     "data": {
      "image/png": "[encoded data removed]",
      "text/plain": [
       "<Figure size 720x432 with 1 Axes>"
      ]
     },
     "metadata": {
      "needs_background": "light"
     },
     "output_type": "display_data"
    }
   ],
   "source": [
    "# визуализация кол-ва покупателей по категориям\n",
    "cluster_counts = unique_customers_data['cluster'].value_counts()\n",
    "\n",
    "plt.figure(figsize=(10, 6))\n",
    "cluster_counts.plot(kind='bar', color='skyblue')\n",
    "plt.title('Количество данных в каждом кластере')\n",
    "plt.xlabel('Кластер')\n",
    "plt.ylabel('Количество')\n",
    "plt.xticks(rotation=0)\n",
    "plt.grid(axis='y')\n",
    "plt.show()"
   ]
  },
  {
   "cell_type": "code",
   "execution_count": 22,
   "metadata": {},
   "outputs": [
    {
     "data": {
      "text/plain": [
       "0    1509\n",
       "1     829\n",
       "2     112\n",
       "Name: cluster, dtype: int64"
      ]
     },
     "execution_count": 22,
     "metadata": {},
     "output_type": "execute_result"
    }
   ],
   "source": [
    "unique_customers_data['cluster'].value_counts()"
   ]
  },
  {
   "cell_type": "markdown",
   "metadata": {},
   "source": [
    "> **Самая многочисленная категория покупателей: 0 - 1509**, затем 1 - 829 и 2 - 112."
   ]
  },
  {
   "cell_type": "code",
   "execution_count": 23,
   "metadata": {},
   "outputs": [
    {
     "data": {
      "image/png": "[encoded data removed]",
      "text/plain": [
       "<Figure size 720x432 with 1 Axes>"
      ]
     },
     "metadata": {
      "needs_background": "light"
     },
     "output_type": "display_data"
    },
    {
     "data": {
      "image/png": "[encoded data removed]",
      "text/plain": [
       "<Figure size 720x432 with 1 Axes>"
      ]
     },
     "metadata": {
      "needs_background": "light"
     },
     "output_type": "display_data"
    },
    {
     "data": {
      "image/png": "[encoded data removed]",
      "text/plain": [
       "<Figure size 720x432 with 1 Axes>"
      ]
     },
     "metadata": {
      "needs_background": "light"
     },
     "output_type": "display_data"
    }
   ],
   "source": [
    "# Средний чек по кластерам\n",
    "plt.figure(figsize=(10, 6))\n",
    "sns.barplot(x='cluster', y='avg_purchase_amount', data=unique_customers_data, palette='Blues', ci=None)\n",
    "plt.title('Средний чек по кластерам')\n",
    "plt.xlabel('Кластер')\n",
    "plt.ylabel('Средний чек')\n",
    "plt.grid(True)\n",
    "plt.show()\n",
    "\n",
    "# Количество заказов по кластерам\n",
    "plt.figure(figsize=(10, 6))\n",
    "sns.barplot(x='cluster', y='total_purchases', data=unique_customers_data, palette='Blues', ci=None)\n",
    "plt.title('Количество заказов по кластерам')\n",
    "plt.xlabel('Кластер')\n",
    "plt.ylabel('Количество заказов')\n",
    "plt.grid(True)\n",
    "plt.show()\n",
    "\n",
    "# Категории товаров по кластерам\n",
    "plt.figure(figsize=(10, 6))\n",
    "sns.countplot(x='cluster', hue='category', data=unique_customers_data, palette='Blues')\n",
    "plt.title('Категории товаров по кластерам')\n",
    "plt.xlabel('Кластер')\n",
    "plt.ylabel('Количество товаров')\n",
    "plt.grid(True)\n",
    "plt.show()"
   ]
  },
  {
   "cell_type": "markdown",
   "metadata": {},
   "source": [
    "По итогам составленных визуализаций можно определить **следующие характеристики категорий:** \n",
    "- **0:** Для категории характерны **единоразовые заказы и низкий средний чек(200-300 руб).** Основные категории закупки - **\"Сад и огород\" и \"Товары для дома\"**.  \n",
    "- **1:** Для категории характерно **малое кол-во заказов (1-2), но уверенный средний чек (1500 руб.).** Основные категории закупки - **\"Товары для дома\" и \"Сад и огород\".**  \n",
    "- **2:** **Категория - премиум покупатели. Характерный средний чек: 8000 руб. и нормальное кол-во купленных товаров (около 3).** Основные категории - **\"Товары для дома\". Так как это премиум категория, покупателей может быть мало, соответственно, выборка тоже невелика по сравнению с другими категориями.**"
   ]
  },
  {
   "cell_type": "markdown",
   "metadata": {},
   "source": [
    "### Мини-итог\n",
    "- Была создана **классификация на основе пороговых значений**  \n",
    "- **Самая многочисленная категория покупателей: 0 - 1509**, затем 1 - 829 и 2 - 112. \n",
    "- По итогам составленных визуализаций можно определить **следующие характеристики категорий:** \n",
    "  - **0:** Для категории характерны **единоразовые заказы и низкий средний чек(200-300 руб).** Основные категории закупки - **\"Сад и огород\" и \"Товары для дома\"**.  \n",
    "  - **1:** Для категории характерно **малое кол-во заказов (1-2), но уверенный средний чек (1500 руб.).** Основные категории закупки - **\"Товары для дома\" и \"Сад и огород\".**  \n",
    "  - **2:** **Категория - премиум покупатели. Характерный средний чек: 8000 руб. и нормальное кол-во купленных товаров (около 3).** Основные категории - **\"Товары для дома\". Так как это премиум категория, покупателей может быть мало, соответственно, выборка тоже невелика по сравнению с другими категориями.**"
   ]
  },
  {
   "cell_type": "markdown",
   "metadata": {},
   "source": [
    "## Проверка гипотез"
   ]
  },
  {
   "cell_type": "markdown",
   "metadata": {},
   "source": [
    "### ***Первая гипотеза***  \n",
    "\n",
    "**H_0:** Среднее количество заказов покупателей группы А равно среднему количеству заказов покупателей группы В.\n",
    "\n",
    "$H_0: \\mu_{заказы\\ группы\\ А} = \\mu_{заказы\\ группы\\ В}$\n",
    "\n",
    "**H_1:** Среднее количество заказов покупателей группы А не равно среднему количеству заказов покупателей группы В.\n",
    "\n",
    "$H_1: \\mu_{заказы\\ группы\\ А} \\neq \\mu_{заказы\\ группы\\ В}$"
   ]
  },
  {
   "cell_type": "code",
   "execution_count": 24,
   "metadata": {},
   "outputs": [
    {
     "name": "stdout",
     "output_type": "stream",
     "text": [
      "Первая гипотеза:\n",
      "p-значение: 5.333137363774045e-28\n",
      "Отвергаем нулевую гипотезу\n"
     ]
    }
   ],
   "source": [
    "group_A_order_count = unique_customers_data[unique_customers_data['cluster'] == 0]['total_purchases']\n",
    "group_B_order_count = unique_customers_data[unique_customers_data['cluster'] == 1]['total_purchases']\n",
    "\n",
    "alpha = 0.05\n",
    "\n",
    "# Проведение t-теста для первой гипотезы\n",
    "t_statistic_order_count, p_value_order_count = ttest_ind(group_A_order_count, group_B_order_count)\n",
    "\n",
    "print('Первая гипотеза:')\n",
    "print('p-значение:', p_value_order_count)\n",
    "\n",
    "if p_value_order_count < alpha:\n",
    "    print('Отвергаем нулевую гипотезу')\n",
    "else:\n",
    "    print('Не получилось отвергнуть нулевую гипотезу')"
   ]
  },
  {
   "cell_type": "markdown",
   "metadata": {},
   "source": [
    "> **p-value < 0.05**, что означает, что **статистически значимое различие между группами есть и мы можем отвергнуть нулевую гипотезу** (то есть согласно условию, среднее кол-во заказов у группы А и группы В отличается)."
   ]
  },
  {
   "cell_type": "markdown",
   "metadata": {},
   "source": [
    "### ***Вторая гипотеза***  \n",
    "\n",
    "**H_0:** Средний чек покупателей группы B равен среднему чеку заказов покупателей группы C.\n",
    "\n",
    "$H_0: \\mu_{чек\\ группы\\ В} = \\mu_{чек\\ группы\\ C}$\n",
    "\n",
    "**H_1:** Средний чек заказов покупателей группы B не равен среднему чеку заказов покупателей группы C.\n",
    "\n",
    "$H_1: \\mu_{чек\\ группы\\ В} \\neq \\mu_{чек\\ группы\\ C}$"
   ]
  },
  {
   "cell_type": "code",
   "execution_count": 25,
   "metadata": {},
   "outputs": [
    {
     "name": "stdout",
     "output_type": "stream",
     "text": [
      "Вторая гипотеза:\n",
      "p-значение: 7.902983625568976e-42\n",
      "Отвергаем нулевую гипотезу\n"
     ]
    }
   ],
   "source": [
    "group_B_avg_check = unique_customers_data[unique_customers_data['cluster'] == 1]['avg_purchase_amount']\n",
    "group_C_avg_check = unique_customers_data[unique_customers_data['cluster'] == 2]['avg_purchase_amount']\n",
    "\n",
    "# Проведение t-теста для второй гипотезы\n",
    "t_statistic_avg_check, p_value_avg_check = ttest_ind(group_B_avg_check, group_C_avg_check)\n",
    "\n",
    "print('Вторая гипотеза:')\n",
    "print('p-значение:', p_value_avg_check)\n",
    "\n",
    "if p_value_avg_check < alpha:\n",
    "    print('Отвергаем нулевую гипотезу')\n",
    "else:\n",
    "    print('Не получилось отвергнуть нулевую гипотезу')"
   ]
  },
  {
   "cell_type": "markdown",
   "metadata": {},
   "source": [
    "> **p-value < 0.05**, что означает, что **статистически значимое различие между группами есть и мы можем отвергнуть нулевую гипотезу** (то есть согласно условию, средний чек покупателей группы B отличается от среднего чека группы С)."
   ]
  },
  {
   "cell_type": "markdown",
   "metadata": {},
   "source": [
    "### Мини-итог\n",
    "- **p-value < 0.05**, что означает, что **статистически значимое различие между группами есть и мы можем отвергнуть нулевую гипотезу** (то есть согласно условию, среднее кол-во заказов у группы А и группы В отличается).  \n",
    "- **p-value < 0.05**, что означает, что **статистически значимое различие между группами есть и мы можем отвергнуть нулевую гипотезу** (то есть согласно условию, средний чек покупателей группы B отличается от среднего чека группы С)."
   ]
  },
  {
   "cell_type": "markdown",
   "metadata": {},
   "source": [
    "## Выводы\n",
    "### Предобработка данных\n",
    "- Были импортированы данные для анализа, таблица: **ecom_dataset_upd.csv**  \n",
    "- **Проведена обработка(чистка от пропусков, проверка на дубликаты, преобразование типов данных столбцов)**:  \n",
    "\n",
    "  *date* — дата, когда был совершён заказ, тип данных: int64, тип данных неверный для даты, нужно заменить на datetime64[ns];  \n",
    "- Проведена **проверка на выбросы в столбцах `quantity` и `price`, аномалий не обнаружено.**  \n",
    "- **Созданы столбцы** `product_full_price` и  `year_month`.\n",
    "\n",
    "### Исследовательский анализ данных  \n",
    "1. Было определено **5 категорий: Сад и огород, Товары для дома, Бытовая техника, Кухонная утварь, Инструменты и оборудование**   \n",
    "\n",
    "2. ***Графики без разбивки по категориям:***  \n",
    "- ***Выручка по месяцам:*** Из графика видно, что **общая выручка постепенно падает.**  \n",
    "\n",
    "\n",
    "- ***Кол-во заказов по месяцам:*** До начала 2019 года кол-во заказов **сильно колебалось, однако все же сильно упало к июню 2019**. Затем заказы **постепенно начали расти и продолжают расти до конца предоставленных данных.**  \n",
    "\n",
    "\n",
    "- ***Средний чек по месяцам:*** Как правило, в **осенний и зимний период средний чек намного выше, чем в летний и весенний**, так как **в теплые сезоны происходит закупка семенами**, а они очень **дешевые и не увеличивают средний чек(около 200-300 руб). Заметно сильное повышение в период на декабрь: люди закупаются подарками(около 700-800 руб).**  \n",
    "\n",
    "\n",
    "- ***Кол-во проданных товаров по месяцам:*** Ситуация координально отличается от предыдущего графика: **в холодные сезоны кол-во проданных товаров низкое**, люди покупают практически поштучно, а **ближе к лету продается много товаров**, скорее всего все закупаются семенами и товарами для огорода. \n",
    "\n",
    "3. ***Графики с разбивкой по категориям:***  \n",
    "- ***Выручка по месяцам (по категориям товаров):*** **Самые стабильные категории товаров: \"Кухонная утварь\" и \"Инструменты и оборудование\".** **К Новому Году выручку поднимает \"Бытовая техника\",** а категория **\"Сад и огород\" сильно растет в период весна-начало лета.**  \n",
    "\n",
    "\n",
    "- ***Кол-во заказов по месяцам (по категориям товаров):*** Категории **\"Бытовая техника\", \"Кухонная утварь\" и \"Инструменты и оборудование\" достаточно стабильны в течение года в плане заказов**. **\"Товары для дома\" лучше продаются в период осень-декабрь, а \"Сад и огород\" с марта по июнь(до 140).  \n",
    "\n",
    "\n",
    "- ***Средний чек по месяцам (по категориям товаров):*** Самые стабильные категории в плане среднего чека: **\"Кухонная утварь\" и \"Сад и огород\", они стабильно низкие - около 250-500 рублей.** **\"Товары для дома\" тоже стабильны, но со средним чеком в 800-1000 руб.** Ср. чек категории **\"Инструменты и оборудование\"** сильно колебается в течении года, из-за того, что таких заказов меньше, **пики приходятся на июнь(3000 руб.) и декабрь(2300 руб.)**. **\"Бытовая техника\" колеблется от 1250 до 2500, пик приходится на декабрь.**  \n",
    "\n",
    "\n",
    "- ***Кол-во проданных товаров по месяцам (по категориям товаров):*** Все категории более-менее стабильны, только **заметны всплески у \"Инструменты и оборудование\" в октябре, \"Кухонная утварь\"** и постепенное **вырастание кол-ва проданного категории \"Сад и огород\" с января по июнь и в октябре.**  \n",
    "\n",
    "4. ***Топ покупателей по выручке и по среднему чеку:***  \n",
    "- **Основной тренд - сильное падение средней выручки.** Выручка росла с весны по июнь 2019, так как в целом в этот период больше продаж.  \n",
    "- **Самая высокая прибыль по покупателем наблюдается среди покупателей со средним чеком от 100-1000 руб. Самая высокая выручка от покупателя: 134145 руб.**  \n",
    "\n",
    "- **Ситуация как и с выручкой: наблюдается снижение среднего чека.**  \n",
    "- **Самый высокий ср.чек по покупателем наблюдается среди единоразовых покупок покупателей, которые купили дорогой товар. Самый высокий ср.чек: 14917 руб.**\n",
    "\n",
    "### Основные вопросы исследования\n",
    "- Была создана **классификация на основе пороговых значений**  \n",
    "- **Самая многочисленная категория покупателей: 0 - 1509**, затем 1 - 829 и 2 - 112. \n",
    "- По итогам составленных визуализаций можно определить **следующие характеристики категорий:** \n",
    "  - **0:** Для категории характерны **единоразовые заказы и низкий средний чек(200-300 руб).** Основные категории закупки - **\"Сад и огород\" и \"Товары для дома\"**.  \n",
    "  - **1:** Для категории характерно **малое кол-во заказов (1-2), но уверенный средний чек (1500 руб.).** Основные категории закупки - **\"Товары для дома\" и \"Сад и огород\".**  \n",
    "  - **2:** **Категория - премиум покупатели. Характерный средний чек: 8000 руб. и нормальное кол-во купленных товаров (около 3).** Основные категории - **\"Товары для дома\". Так как это премиум категория, покупателей может быть мало, соответственно, выборка тоже невелика по сравнению с другими категориями.**\n",
    "  \n",
    "### Проверка гипотез    \n",
    "- **p-value < 0.05**, что означает, что **статистически значимое различие между группами есть и мы можем отвергнуть нулевую гипотезу** (то есть согласно условию, среднее кол-во заказов у группы А и группы В отличается).  \n",
    "- **p-value < 0.05**, что означает, что **статистически значимое различие между группами есть и мы можем отвергнуть нулевую гипотезу** (то есть согласно условию, средний чек покупателей группы B отличается от среднего чека группы С).  \n",
    "- Статистическая значимость, выявленная в результате тестов показывает **правильность проведения кластеризации.**"
   ]
  },
  {
   "cell_type": "markdown",
   "metadata": {},
   "source": [
    "### Рекомендации по маркетингу (категории клиентов):\n",
    "***Категория 0 (Бюджетные покупатели):***\n",
    "- Товары: Сад и огород, Товары для дома.\n",
    "- Время: Весной и летом – товары для сада, осенью и зимой – товары для дома.\n",
    "- Стратегия: Скидки и сезонные распродажи. Акцент на продвижение сезонных товаров.\n",
    "\n",
    "***Категория 1 (Среднечековые покупатели):***\n",
    "- Товары: Товары для дома, Сад и огород\n",
    "- Время: Осень и весна, а также перед праздниками.\n",
    "- Стратегия: Специальные предложения, персонализированные рекомендации товаров, рекламные кампании перед праздниками и ключевыми сезонами.\n",
    "\n",
    "***Категория 2 (Премиальные покупатели):***\n",
    "- Товары: Товары для дома.\n",
    "- Время: В течение всего года, с особым акцентом на праздничные периоды и перед запуском новых продуктов.\n",
    "- Стратегия:Предложение качественных и эксклюзивных товаров, возможность предварительных заказов, акции с подарками при покупке, а также скидки на сопутствующие товары."
   ]
  }
 ],
 "metadata": {
  "ExecuteTimeLog": [
   {
    "duration": 77,
    "start_time": "2024-07-28T05:33:01.201Z"
   },
   {
    "duration": 1428,
    "start_time": "2024-07-28T05:33:14.226Z"
   },
   {
    "duration": 3,
    "start_time": "2024-07-28T05:33:18.227Z"
   },
   {
    "duration": 2,
    "start_time": "2024-07-28T05:33:27.287Z"
   },
   {
    "duration": 114,
    "start_time": "2024-07-28T05:33:36.052Z"
   },
   {
    "duration": 3,
    "start_time": "2024-07-28T05:34:04.489Z"
   },
   {
    "duration": 62,
    "start_time": "2024-07-28T05:34:11.777Z"
   },
   {
    "duration": 15,
    "start_time": "2024-07-28T05:34:20.741Z"
   },
   {
    "duration": 408,
    "start_time": "2024-07-28T05:34:34.706Z"
   },
   {
    "duration": 18,
    "start_time": "2024-07-28T05:35:13.468Z"
   },
   {
    "duration": 322,
    "start_time": "2024-07-28T05:35:30.066Z"
   },
   {
    "duration": 130,
    "start_time": "2024-07-28T05:35:41.971Z"
   },
   {
    "duration": 1784,
    "start_time": "2024-07-28T05:35:51.528Z"
   },
   {
    "duration": 237,
    "start_time": "2024-07-28T05:36:38.690Z"
   },
   {
    "duration": 384,
    "start_time": "2024-07-28T05:36:44.128Z"
   },
   {
    "duration": 113,
    "start_time": "2024-07-28T05:36:52.180Z"
   },
   {
    "duration": 115,
    "start_time": "2024-07-28T05:37:08.315Z"
   },
   {
    "duration": 23,
    "start_time": "2024-07-28T05:37:14.564Z"
   },
   {
    "duration": 140,
    "start_time": "2024-07-28T05:37:23.935Z"
   },
   {
    "duration": 355,
    "start_time": "2024-07-28T05:37:29.361Z"
   },
   {
    "duration": 623,
    "start_time": "2024-07-28T05:37:35.784Z"
   },
   {
    "duration": 419,
    "start_time": "2024-07-28T05:40:23.489Z"
   },
   {
    "duration": 13,
    "start_time": "2024-07-28T05:41:00.304Z"
   },
   {
    "duration": 125,
    "start_time": "2024-07-28T05:41:14.796Z"
   },
   {
    "duration": 948,
    "start_time": "2024-07-28T05:41:15.956Z"
   },
   {
    "duration": 515,
    "start_time": "2024-07-28T05:41:16.905Z"
   },
   {
    "duration": 175,
    "start_time": "2024-07-28T05:41:17.422Z"
   },
   {
    "duration": 299,
    "start_time": "2024-07-28T05:41:39.136Z"
   },
   {
    "duration": 292,
    "start_time": "2024-07-28T05:42:00.870Z"
   },
   {
    "duration": 159,
    "start_time": "2024-07-28T05:42:29.921Z"
   },
   {
    "duration": 887,
    "start_time": "2024-07-28T05:42:57.114Z"
   },
   {
    "duration": 111,
    "start_time": "2024-07-28T05:43:10.036Z"
   },
   {
    "duration": 15,
    "start_time": "2024-07-28T05:43:12.501Z"
   },
   {
    "duration": 366,
    "start_time": "2024-07-28T05:43:13.490Z"
   },
   {
    "duration": 15,
    "start_time": "2024-07-28T05:43:15.731Z"
   },
   {
    "duration": 293,
    "start_time": "2024-07-28T05:43:17.386Z"
   },
   {
    "duration": 128,
    "start_time": "2024-07-28T05:43:19.402Z"
   },
   {
    "duration": 1896,
    "start_time": "2024-07-28T05:43:20.150Z"
   },
   {
    "duration": 462,
    "start_time": "2024-07-28T05:43:22.049Z"
   },
   {
    "duration": 178,
    "start_time": "2024-07-28T05:54:45.052Z"
   },
   {
    "duration": 17,
    "start_time": "2024-07-28T05:55:47.716Z"
   },
   {
    "duration": 289,
    "start_time": "2024-07-28T05:55:49.585Z"
   },
   {
    "duration": 150,
    "start_time": "2024-07-28T05:55:50.290Z"
   },
   {
    "duration": 337,
    "start_time": "2024-07-28T05:56:11.832Z"
   },
   {
    "duration": 1648,
    "start_time": "2024-07-29T05:23:03.873Z"
   },
   {
    "duration": 152,
    "start_time": "2024-07-29T05:23:05.523Z"
   },
   {
    "duration": 16,
    "start_time": "2024-07-29T05:23:09.312Z"
   },
   {
    "duration": 422,
    "start_time": "2024-07-29T05:23:12.380Z"
   },
   {
    "duration": 109,
    "start_time": "2024-07-29T05:24:15.871Z"
   },
   {
    "duration": 222,
    "start_time": "2024-07-29T05:24:30.146Z"
   },
   {
    "duration": 7,
    "start_time": "2024-07-29T05:25:30.825Z"
   },
   {
    "duration": 13,
    "start_time": "2024-07-29T05:26:32.965Z"
   },
   {
    "duration": 11,
    "start_time": "2024-07-29T05:26:48.379Z"
   },
   {
    "duration": 6,
    "start_time": "2024-07-29T05:30:23.286Z"
   },
   {
    "duration": 10,
    "start_time": "2024-07-29T05:30:29.569Z"
   },
   {
    "duration": 5,
    "start_time": "2024-07-29T05:32:03.817Z"
   },
   {
    "duration": 6,
    "start_time": "2024-07-29T05:32:36.619Z"
   },
   {
    "duration": 6,
    "start_time": "2024-07-29T05:32:44.533Z"
   },
   {
    "duration": 15,
    "start_time": "2024-07-29T05:32:53.902Z"
   },
   {
    "duration": 10,
    "start_time": "2024-07-29T05:32:57.557Z"
   },
   {
    "duration": 6,
    "start_time": "2024-07-29T05:33:11.591Z"
   },
   {
    "duration": 5,
    "start_time": "2024-07-29T05:33:20.041Z"
   },
   {
    "duration": 8,
    "start_time": "2024-07-29T05:33:47.112Z"
   },
   {
    "duration": 75,
    "start_time": "2024-07-29T05:34:50.466Z"
   },
   {
    "duration": 6,
    "start_time": "2024-07-29T05:34:56.526Z"
   },
   {
    "duration": 76,
    "start_time": "2024-07-29T05:35:14.278Z"
   },
   {
    "duration": 6,
    "start_time": "2024-07-29T05:35:20.387Z"
   },
   {
    "duration": 6,
    "start_time": "2024-07-29T05:35:30.195Z"
   },
   {
    "duration": 7,
    "start_time": "2024-07-29T05:35:54.448Z"
   },
   {
    "duration": 6,
    "start_time": "2024-07-29T05:36:00.380Z"
   },
   {
    "duration": 140,
    "start_time": "2024-07-29T05:42:01.551Z"
   },
   {
    "duration": 25,
    "start_time": "2024-07-29T05:43:58.535Z"
   },
   {
    "duration": 8,
    "start_time": "2024-07-29T05:44:03.162Z"
   },
   {
    "duration": 21,
    "start_time": "2024-07-29T05:44:10.723Z"
   },
   {
    "duration": 17,
    "start_time": "2024-07-29T05:44:28.962Z"
   },
   {
    "duration": 8,
    "start_time": "2024-07-29T05:44:34.632Z"
   },
   {
    "duration": 395,
    "start_time": "2024-07-29T05:44:36.898Z"
   },
   {
    "duration": 14,
    "start_time": "2024-07-29T05:44:42.254Z"
   },
   {
    "duration": 34,
    "start_time": "2024-07-29T05:46:03.860Z"
   },
   {
    "duration": 27,
    "start_time": "2024-07-29T05:46:09.244Z"
   },
   {
    "duration": 44,
    "start_time": "2024-07-29T05:46:18.426Z"
   },
   {
    "duration": 1086,
    "start_time": "2024-07-29T05:47:03.753Z"
   },
   {
    "duration": 243,
    "start_time": "2024-07-29T05:47:47.840Z"
   },
   {
    "duration": 16,
    "start_time": "2024-07-29T05:50:12.246Z"
   },
   {
    "duration": 509,
    "start_time": "2024-07-29T05:50:21.417Z"
   },
   {
    "duration": 230,
    "start_time": "2024-07-29T05:50:48.272Z"
   },
   {
    "duration": 278,
    "start_time": "2024-07-29T05:51:06.511Z"
   },
   {
    "duration": 204,
    "start_time": "2024-07-29T05:51:31.164Z"
   },
   {
    "duration": 201,
    "start_time": "2024-07-29T05:52:03.978Z"
   },
   {
    "duration": 222,
    "start_time": "2024-07-29T05:52:18.070Z"
   },
   {
    "duration": 218,
    "start_time": "2024-07-29T05:52:31.311Z"
   },
   {
    "duration": 357,
    "start_time": "2024-07-29T05:53:18.640Z"
   },
   {
    "duration": 9,
    "start_time": "2024-07-29T05:58:32.432Z"
   },
   {
    "duration": 12,
    "start_time": "2024-07-29T05:58:38.947Z"
   },
   {
    "duration": 23,
    "start_time": "2024-07-29T06:04:53.492Z"
   },
   {
    "duration": 26,
    "start_time": "2024-07-29T06:07:20.274Z"
   },
   {
    "duration": 30,
    "start_time": "2024-07-29T06:09:05.748Z"
   },
   {
    "duration": 34,
    "start_time": "2024-07-29T06:09:57.660Z"
   },
   {
    "duration": 2,
    "start_time": "2024-07-29T06:10:10.763Z"
   },
   {
    "duration": 126,
    "start_time": "2024-07-29T06:10:11.517Z"
   },
   {
    "duration": 14,
    "start_time": "2024-07-29T06:10:12.722Z"
   },
   {
    "duration": 322,
    "start_time": "2024-07-29T06:10:13.460Z"
   },
   {
    "duration": 210,
    "start_time": "2024-07-29T06:10:13.880Z"
   },
   {
    "duration": 3,
    "start_time": "2024-07-29T06:10:14.365Z"
   },
   {
    "duration": 6,
    "start_time": "2024-07-29T06:10:14.912Z"
   },
   {
    "duration": 24,
    "start_time": "2024-07-29T06:10:16.725Z"
   },
   {
    "duration": 4,
    "start_time": "2024-07-29T06:11:25.845Z"
   },
   {
    "duration": 111,
    "start_time": "2024-07-29T06:11:26.390Z"
   },
   {
    "duration": 14,
    "start_time": "2024-07-29T06:11:27.633Z"
   },
   {
    "duration": 323,
    "start_time": "2024-07-29T06:11:28.039Z"
   },
   {
    "duration": 242,
    "start_time": "2024-07-29T06:11:28.365Z"
   },
   {
    "duration": 6,
    "start_time": "2024-07-29T06:11:28.610Z"
   },
   {
    "duration": 6,
    "start_time": "2024-07-29T06:11:29.875Z"
   },
   {
    "duration": 15,
    "start_time": "2024-07-29T06:11:32.264Z"
   },
   {
    "duration": 273,
    "start_time": "2024-07-29T06:11:40.074Z"
   },
   {
    "duration": 231,
    "start_time": "2024-07-29T06:11:41.659Z"
   },
   {
    "duration": 18,
    "start_time": "2024-07-29T06:14:55.537Z"
   },
   {
    "duration": 15,
    "start_time": "2024-07-29T06:15:15.599Z"
   },
   {
    "duration": 452,
    "start_time": "2024-07-29T06:15:23.574Z"
   },
   {
    "duration": 34,
    "start_time": "2024-07-29T06:16:58.627Z"
   },
   {
    "duration": 773,
    "start_time": "2024-07-29T06:17:33.888Z"
   },
   {
    "duration": 24,
    "start_time": "2024-07-29T06:18:29.874Z"
   },
   {
    "duration": 8,
    "start_time": "2024-07-29T06:19:41.178Z"
   },
   {
    "duration": 34,
    "start_time": "2024-07-29T06:20:32.424Z"
   },
   {
    "duration": 17,
    "start_time": "2024-07-29T06:21:20.030Z"
   },
   {
    "duration": 705,
    "start_time": "2024-07-29T06:21:31.980Z"
   },
   {
    "duration": 35,
    "start_time": "2024-07-29T06:23:30.076Z"
   },
   {
    "duration": 16,
    "start_time": "2024-07-29T06:24:16.328Z"
   },
   {
    "duration": 740,
    "start_time": "2024-07-29T06:24:24.261Z"
   },
   {
    "duration": 35,
    "start_time": "2024-07-29T06:24:31.105Z"
   },
   {
    "duration": 18,
    "start_time": "2024-07-29T06:28:18.188Z"
   },
   {
    "duration": 1178,
    "start_time": "2024-07-29T06:28:30.404Z"
   },
   {
    "duration": 36,
    "start_time": "2024-07-29T06:34:51.522Z"
   },
   {
    "duration": 9,
    "start_time": "2024-07-29T06:35:10.908Z"
   },
   {
    "duration": 638,
    "start_time": "2024-07-29T06:35:24.156Z"
   },
   {
    "duration": 48,
    "start_time": "2024-07-29T06:37:31.356Z"
   },
   {
    "duration": 1254,
    "start_time": "2024-07-29T06:37:35.528Z"
   },
   {
    "duration": 38,
    "start_time": "2024-07-29T06:40:56.655Z"
   },
   {
    "duration": 48,
    "start_time": "2024-07-29T06:42:30.051Z"
   },
   {
    "duration": 1328,
    "start_time": "2024-07-29T06:42:33.196Z"
   },
   {
    "duration": 47,
    "start_time": "2024-07-29T06:44:46.560Z"
   },
   {
    "duration": 1548,
    "start_time": "2024-07-29T06:46:30.156Z"
   },
   {
    "duration": 37,
    "start_time": "2024-07-29T06:46:42.609Z"
   },
   {
    "duration": 769,
    "start_time": "2024-07-29T06:46:45.112Z"
   },
   {
    "duration": 1213,
    "start_time": "2024-07-29T06:47:30.882Z"
   },
   {
    "duration": 118,
    "start_time": "2024-07-29T06:47:32.097Z"
   },
   {
    "duration": 46,
    "start_time": "2024-07-29T06:47:32.217Z"
   },
   {
    "duration": 415,
    "start_time": "2024-07-29T06:47:32.265Z"
   },
   {
    "duration": 218,
    "start_time": "2024-07-29T06:47:32.682Z"
   },
   {
    "duration": 5,
    "start_time": "2024-07-29T06:47:32.901Z"
   },
   {
    "duration": 41,
    "start_time": "2024-07-29T06:47:32.908Z"
   },
   {
    "duration": 41,
    "start_time": "2024-07-29T06:47:32.951Z"
   },
   {
    "duration": 313,
    "start_time": "2024-07-29T06:47:32.994Z"
   },
   {
    "duration": 148,
    "start_time": "2024-07-29T06:47:33.346Z"
   },
   {
    "duration": 119,
    "start_time": "2024-07-29T06:47:33.496Z"
   },
   {
    "duration": 0,
    "start_time": "2024-07-29T06:47:33.617Z"
   },
   {
    "duration": 0,
    "start_time": "2024-07-29T06:47:33.618Z"
   },
   {
    "duration": 759,
    "start_time": "2024-07-29T06:47:50.416Z"
   },
   {
    "duration": 41,
    "start_time": "2024-07-29T06:47:51.896Z"
   },
   {
    "duration": 78,
    "start_time": "2024-07-29T06:50:53.291Z"
   },
   {
    "duration": 16,
    "start_time": "2024-07-29T06:51:07.012Z"
   },
   {
    "duration": 1509,
    "start_time": "2024-07-29T06:51:18.455Z"
   },
   {
    "duration": 42,
    "start_time": "2024-07-29T06:51:23.583Z"
   },
   {
    "duration": 18,
    "start_time": "2024-07-29T06:53:26.090Z"
   },
   {
    "duration": 1436,
    "start_time": "2024-07-29T06:53:38.574Z"
   },
   {
    "duration": 45,
    "start_time": "2024-07-29T06:53:49.443Z"
   },
   {
    "duration": 3,
    "start_time": "2024-07-29T06:55:29.035Z"
   },
   {
    "duration": 167,
    "start_time": "2024-07-29T06:55:30.532Z"
   },
   {
    "duration": 20,
    "start_time": "2024-07-29T06:55:31.896Z"
   },
   {
    "duration": 338,
    "start_time": "2024-07-29T06:55:32.451Z"
   },
   {
    "duration": 228,
    "start_time": "2024-07-29T06:55:32.791Z"
   },
   {
    "duration": 5,
    "start_time": "2024-07-29T06:55:33.021Z"
   },
   {
    "duration": 6,
    "start_time": "2024-07-29T06:55:33.278Z"
   },
   {
    "duration": 16,
    "start_time": "2024-07-29T06:55:34.474Z"
   },
   {
    "duration": 278,
    "start_time": "2024-07-29T06:55:35.895Z"
   },
   {
    "duration": 144,
    "start_time": "2024-07-29T06:55:36.320Z"
   },
   {
    "duration": 835,
    "start_time": "2024-07-29T06:55:37.520Z"
   },
   {
    "duration": 40,
    "start_time": "2024-07-29T06:55:40.792Z"
   },
   {
    "duration": 16,
    "start_time": "2024-07-29T06:57:54.982Z"
   },
   {
    "duration": 388,
    "start_time": "2024-07-29T06:58:08.641Z"
   },
   {
    "duration": 22,
    "start_time": "2024-07-29T06:58:28.336Z"
   },
   {
    "duration": 6,
    "start_time": "2024-07-29T07:02:46.297Z"
   },
   {
    "duration": 319,
    "start_time": "2024-07-29T07:03:06.742Z"
   },
   {
    "duration": 1201,
    "start_time": "2024-07-29T07:07:37.767Z"
   },
   {
    "duration": 116,
    "start_time": "2024-07-29T07:07:38.970Z"
   },
   {
    "duration": 16,
    "start_time": "2024-07-29T07:07:39.089Z"
   },
   {
    "duration": 384,
    "start_time": "2024-07-29T07:07:39.106Z"
   },
   {
    "duration": 220,
    "start_time": "2024-07-29T07:07:39.493Z"
   },
   {
    "duration": 4,
    "start_time": "2024-07-29T07:07:39.715Z"
   },
   {
    "duration": 12,
    "start_time": "2024-07-29T07:07:39.720Z"
   },
   {
    "duration": 18,
    "start_time": "2024-07-29T07:07:39.745Z"
   },
   {
    "duration": 299,
    "start_time": "2024-07-29T07:07:39.764Z"
   },
   {
    "duration": 151,
    "start_time": "2024-07-29T07:07:40.064Z"
   },
   {
    "duration": 782,
    "start_time": "2024-07-29T07:07:40.217Z"
   },
   {
    "duration": 163,
    "start_time": "2024-07-29T07:07:41.001Z"
   },
   {
    "duration": 0,
    "start_time": "2024-07-29T07:07:41.166Z"
   },
   {
    "duration": 0,
    "start_time": "2024-07-29T07:07:41.170Z"
   },
   {
    "duration": 0,
    "start_time": "2024-07-29T07:07:41.172Z"
   },
   {
    "duration": 0,
    "start_time": "2024-07-29T07:07:41.173Z"
   },
   {
    "duration": 0,
    "start_time": "2024-07-29T07:07:41.175Z"
   },
   {
    "duration": 0,
    "start_time": "2024-07-29T07:07:41.176Z"
   },
   {
    "duration": 8,
    "start_time": "2024-07-29T07:07:56.156Z"
   },
   {
    "duration": 16,
    "start_time": "2024-07-29T07:07:56.548Z"
   },
   {
    "duration": 11,
    "start_time": "2024-07-29T07:09:02.830Z"
   },
   {
    "duration": 387,
    "start_time": "2024-07-29T07:09:23.909Z"
   },
   {
    "duration": 997,
    "start_time": "2024-07-29T07:09:29.418Z"
   },
   {
    "duration": 495,
    "start_time": "2024-07-29T07:12:26.671Z"
   },
   {
    "duration": 4,
    "start_time": "2024-07-29T07:12:47.727Z"
   },
   {
    "duration": 2048,
    "start_time": "2024-07-29T07:12:52.961Z"
   },
   {
    "duration": 23,
    "start_time": "2024-07-29T07:21:04.004Z"
   },
   {
    "duration": 8,
    "start_time": "2024-07-29T07:21:24.053Z"
   },
   {
    "duration": 22,
    "start_time": "2024-07-29T07:36:37.337Z"
   },
   {
    "duration": 6,
    "start_time": "2024-07-29T07:36:46.456Z"
   },
   {
    "duration": 6,
    "start_time": "2024-07-29T07:36:54.212Z"
   },
   {
    "duration": 19,
    "start_time": "2024-07-29T07:47:08.723Z"
   },
   {
    "duration": 54,
    "start_time": "2024-07-29T07:54:09.120Z"
   },
   {
    "duration": 1443,
    "start_time": "2024-07-29T07:54:12.579Z"
   },
   {
    "duration": 509,
    "start_time": "2024-07-29T07:54:32.770Z"
   },
   {
    "duration": 393,
    "start_time": "2024-07-29T07:54:46.060Z"
   },
   {
    "duration": 420,
    "start_time": "2024-07-29T07:54:48.628Z"
   },
   {
    "duration": 39,
    "start_time": "2024-07-29T07:54:55.380Z"
   },
   {
    "duration": 1413,
    "start_time": "2024-07-29T07:54:57.270Z"
   },
   {
    "duration": 46,
    "start_time": "2024-07-29T07:55:39.371Z"
   },
   {
    "duration": 27,
    "start_time": "2024-07-29T07:56:10.082Z"
   },
   {
    "duration": 4,
    "start_time": "2024-07-29T07:56:28.884Z"
   },
   {
    "duration": 4,
    "start_time": "2024-07-29T07:56:43.118Z"
   },
   {
    "duration": 27,
    "start_time": "2024-07-29T08:06:38.687Z"
   },
   {
    "duration": 47,
    "start_time": "2024-07-29T09:35:20.628Z"
   },
   {
    "duration": 822,
    "start_time": "2024-07-29T09:35:26.571Z"
   },
   {
    "duration": 35,
    "start_time": "2024-07-29T09:35:37.675Z"
   },
   {
    "duration": 724,
    "start_time": "2024-07-29T09:35:41.151Z"
   },
   {
    "duration": 187,
    "start_time": "2024-07-29T09:35:52.499Z"
   },
   {
    "duration": 816,
    "start_time": "2024-07-29T09:35:54.588Z"
   },
   {
    "duration": 37,
    "start_time": "2024-07-29T09:37:49.375Z"
   },
   {
    "duration": 781,
    "start_time": "2024-07-29T09:37:54.144Z"
   },
   {
    "duration": 37,
    "start_time": "2024-07-29T09:38:05.877Z"
   },
   {
    "duration": 767,
    "start_time": "2024-07-29T09:38:09.012Z"
   },
   {
    "duration": 44,
    "start_time": "2024-07-29T09:38:34.721Z"
   },
   {
    "duration": 734,
    "start_time": "2024-07-29T09:38:36.758Z"
   },
   {
    "duration": 155,
    "start_time": "2024-07-29T09:38:48.612Z"
   },
   {
    "duration": 772,
    "start_time": "2024-07-29T09:38:51.183Z"
   },
   {
    "duration": 5,
    "start_time": "2024-07-29T09:40:24.445Z"
   },
   {
    "duration": 23,
    "start_time": "2024-07-29T09:40:58.064Z"
   },
   {
    "duration": 9,
    "start_time": "2024-07-29T09:41:10.713Z"
   },
   {
    "duration": 12,
    "start_time": "2024-07-29T09:41:56.908Z"
   },
   {
    "duration": 18,
    "start_time": "2024-07-29T09:42:10.577Z"
   },
   {
    "duration": 52,
    "start_time": "2024-07-29T10:01:38.717Z"
   },
   {
    "duration": 1365,
    "start_time": "2024-07-29T10:01:41.266Z"
   },
   {
    "duration": 1369,
    "start_time": "2024-07-29T12:09:47.008Z"
   },
   {
    "duration": 1511,
    "start_time": "2024-07-29T12:10:26.449Z"
   },
   {
    "duration": 789,
    "start_time": "2024-07-29T12:10:42.786Z"
   },
   {
    "duration": 1396,
    "start_time": "2024-07-29T12:13:02.903Z"
   },
   {
    "duration": 125,
    "start_time": "2024-07-29T12:13:04.301Z"
   },
   {
    "duration": 14,
    "start_time": "2024-07-29T12:13:04.427Z"
   },
   {
    "duration": 358,
    "start_time": "2024-07-29T12:13:04.443Z"
   },
   {
    "duration": 207,
    "start_time": "2024-07-29T12:13:04.803Z"
   },
   {
    "duration": 4,
    "start_time": "2024-07-29T12:13:05.012Z"
   },
   {
    "duration": 8,
    "start_time": "2024-07-29T12:13:05.018Z"
   },
   {
    "duration": 32,
    "start_time": "2024-07-29T12:13:05.028Z"
   },
   {
    "duration": 301,
    "start_time": "2024-07-29T12:13:05.062Z"
   },
   {
    "duration": 232,
    "start_time": "2024-07-29T12:13:05.367Z"
   },
   {
    "duration": 146,
    "start_time": "2024-07-29T12:13:05.601Z"
   },
   {
    "duration": 0,
    "start_time": "2024-07-29T12:13:05.749Z"
   },
   {
    "duration": 0,
    "start_time": "2024-07-29T12:13:05.751Z"
   },
   {
    "duration": 0,
    "start_time": "2024-07-29T12:13:05.753Z"
   },
   {
    "duration": 0,
    "start_time": "2024-07-29T12:13:05.754Z"
   },
   {
    "duration": 1,
    "start_time": "2024-07-29T12:13:05.755Z"
   },
   {
    "duration": 0,
    "start_time": "2024-07-29T12:13:05.757Z"
   },
   {
    "duration": 1,
    "start_time": "2024-07-29T12:13:05.758Z"
   },
   {
    "duration": 0,
    "start_time": "2024-07-29T12:13:05.760Z"
   },
   {
    "duration": 0,
    "start_time": "2024-07-29T12:13:05.761Z"
   },
   {
    "duration": 0,
    "start_time": "2024-07-29T12:13:05.763Z"
   },
   {
    "duration": 0,
    "start_time": "2024-07-29T12:13:05.764Z"
   },
   {
    "duration": 0,
    "start_time": "2024-07-29T12:13:05.765Z"
   },
   {
    "duration": 0,
    "start_time": "2024-07-29T12:13:05.767Z"
   },
   {
    "duration": 0,
    "start_time": "2024-07-29T12:13:05.768Z"
   },
   {
    "duration": 0,
    "start_time": "2024-07-29T12:13:05.769Z"
   },
   {
    "duration": 0,
    "start_time": "2024-07-29T12:13:05.771Z"
   },
   {
    "duration": 0,
    "start_time": "2024-07-29T12:13:05.772Z"
   },
   {
    "duration": 31,
    "start_time": "2024-07-29T12:14:33.997Z"
   },
   {
    "duration": 30,
    "start_time": "2024-07-29T12:14:36.383Z"
   },
   {
    "duration": 768,
    "start_time": "2024-07-29T12:15:03.914Z"
   },
   {
    "duration": 16,
    "start_time": "2024-07-29T12:15:09.300Z"
   },
   {
    "duration": 1358,
    "start_time": "2024-07-29T12:15:10.714Z"
   },
   {
    "duration": 99,
    "start_time": "2024-07-29T12:15:30.919Z"
   },
   {
    "duration": 16,
    "start_time": "2024-07-29T12:15:32.417Z"
   },
   {
    "duration": 374,
    "start_time": "2024-07-29T12:15:32.793Z"
   },
   {
    "duration": 225,
    "start_time": "2024-07-29T12:15:33.172Z"
   },
   {
    "duration": 4,
    "start_time": "2024-07-29T12:15:33.399Z"
   },
   {
    "duration": 24,
    "start_time": "2024-07-29T12:15:33.464Z"
   },
   {
    "duration": 15,
    "start_time": "2024-07-29T12:15:35.455Z"
   },
   {
    "duration": 290,
    "start_time": "2024-07-29T12:15:37.177Z"
   },
   {
    "duration": 136,
    "start_time": "2024-07-29T12:15:37.932Z"
   },
   {
    "duration": 870,
    "start_time": "2024-07-29T12:15:40.232Z"
   },
   {
    "duration": 11,
    "start_time": "2024-07-29T12:15:42.464Z"
   },
   {
    "duration": 1315,
    "start_time": "2024-07-29T12:15:44.079Z"
   },
   {
    "duration": 22,
    "start_time": "2024-07-29T12:16:02.753Z"
   },
   {
    "duration": 19,
    "start_time": "2024-07-29T12:41:48.844Z"
   },
   {
    "duration": 1553,
    "start_time": "2024-07-29T12:43:33.806Z"
   },
   {
    "duration": 107,
    "start_time": "2024-07-29T12:43:35.361Z"
   },
   {
    "duration": 14,
    "start_time": "2024-07-29T12:43:35.470Z"
   },
   {
    "duration": 493,
    "start_time": "2024-07-29T12:43:35.485Z"
   },
   {
    "duration": 238,
    "start_time": "2024-07-29T12:43:35.981Z"
   },
   {
    "duration": 5,
    "start_time": "2024-07-29T12:43:36.221Z"
   },
   {
    "duration": 25,
    "start_time": "2024-07-29T12:43:36.228Z"
   },
   {
    "duration": 18,
    "start_time": "2024-07-29T12:43:36.255Z"
   },
   {
    "duration": 430,
    "start_time": "2024-07-29T12:43:36.275Z"
   },
   {
    "duration": 190,
    "start_time": "2024-07-29T12:43:36.707Z"
   },
   {
    "duration": 889,
    "start_time": "2024-07-29T12:43:36.899Z"
   },
   {
    "duration": 12,
    "start_time": "2024-07-29T12:43:37.790Z"
   },
   {
    "duration": 1518,
    "start_time": "2024-07-29T12:43:37.805Z"
   },
   {
    "duration": 6,
    "start_time": "2024-07-29T12:43:39.326Z"
   },
   {
    "duration": 3755,
    "start_time": "2024-07-29T12:43:39.345Z"
   },
   {
    "duration": 1140,
    "start_time": "2024-07-29T12:43:43.102Z"
   },
   {
    "duration": 0,
    "start_time": "2024-07-29T12:43:44.244Z"
   },
   {
    "duration": 4,
    "start_time": "2024-07-29T12:44:11.815Z"
   },
   {
    "duration": 3768,
    "start_time": "2024-07-29T12:44:12.436Z"
   },
   {
    "duration": 1071,
    "start_time": "2024-07-29T12:44:19.100Z"
   },
   {
    "duration": 3550,
    "start_time": "2024-07-29T12:44:31.353Z"
   },
   {
    "duration": 6,
    "start_time": "2024-07-29T12:44:34.905Z"
   },
   {
    "duration": 3302,
    "start_time": "2024-07-29T12:45:55.129Z"
   },
   {
    "duration": 13,
    "start_time": "2024-07-29T12:45:58.434Z"
   },
   {
    "duration": 3492,
    "start_time": "2024-07-29T12:46:29.814Z"
   },
   {
    "duration": 5,
    "start_time": "2024-07-29T12:46:33.308Z"
   },
   {
    "duration": 147,
    "start_time": "2024-07-29T12:46:33.315Z"
   },
   {
    "duration": 7,
    "start_time": "2024-07-29T13:14:51.510Z"
   },
   {
    "duration": 628,
    "start_time": "2024-07-29T13:14:52.925Z"
   },
   {
    "duration": 6,
    "start_time": "2024-07-29T13:15:28.820Z"
   },
   {
    "duration": 631,
    "start_time": "2024-07-29T13:15:29.225Z"
   },
   {
    "duration": 3523,
    "start_time": "2024-07-29T13:16:04.457Z"
   },
   {
    "duration": 5,
    "start_time": "2024-07-29T13:16:10.443Z"
   },
   {
    "duration": 1576,
    "start_time": "2024-07-29T13:19:18.126Z"
   },
   {
    "duration": 134,
    "start_time": "2024-07-29T13:19:19.704Z"
   },
   {
    "duration": 14,
    "start_time": "2024-07-29T13:19:19.840Z"
   },
   {
    "duration": 399,
    "start_time": "2024-07-29T13:19:19.856Z"
   },
   {
    "duration": 227,
    "start_time": "2024-07-29T13:19:20.257Z"
   },
   {
    "duration": 5,
    "start_time": "2024-07-29T13:19:20.486Z"
   },
   {
    "duration": 25,
    "start_time": "2024-07-29T13:19:20.492Z"
   },
   {
    "duration": 9,
    "start_time": "2024-07-29T13:19:20.519Z"
   },
   {
    "duration": 33,
    "start_time": "2024-07-29T13:19:20.530Z"
   },
   {
    "duration": 318,
    "start_time": "2024-07-29T13:19:20.567Z"
   },
   {
    "duration": 231,
    "start_time": "2024-07-29T13:19:20.887Z"
   },
   {
    "duration": 750,
    "start_time": "2024-07-29T13:19:21.119Z"
   },
   {
    "duration": 11,
    "start_time": "2024-07-29T13:19:21.870Z"
   },
   {
    "duration": 1479,
    "start_time": "2024-07-29T13:19:21.883Z"
   },
   {
    "duration": 6,
    "start_time": "2024-07-29T13:19:23.364Z"
   },
   {
    "duration": 3777,
    "start_time": "2024-07-29T13:19:23.372Z"
   },
   {
    "duration": 1197,
    "start_time": "2024-07-29T13:19:27.150Z"
   },
   {
    "duration": 0,
    "start_time": "2024-07-29T13:19:28.349Z"
   },
   {
    "duration": 1548,
    "start_time": "2024-07-29T13:21:32.410Z"
   },
   {
    "duration": 122,
    "start_time": "2024-07-29T13:21:33.960Z"
   },
   {
    "duration": 14,
    "start_time": "2024-07-29T13:21:34.084Z"
   },
   {
    "duration": 359,
    "start_time": "2024-07-29T13:21:34.099Z"
   },
   {
    "duration": 224,
    "start_time": "2024-07-29T13:21:34.459Z"
   },
   {
    "duration": 5,
    "start_time": "2024-07-29T13:21:34.685Z"
   },
   {
    "duration": 9,
    "start_time": "2024-07-29T13:21:34.691Z"
   },
   {
    "duration": 26,
    "start_time": "2024-07-29T13:21:34.702Z"
   },
   {
    "duration": 22,
    "start_time": "2024-07-29T13:21:34.730Z"
   },
   {
    "duration": 306,
    "start_time": "2024-07-29T13:21:34.755Z"
   },
   {
    "duration": 232,
    "start_time": "2024-07-29T13:21:35.063Z"
   },
   {
    "duration": 819,
    "start_time": "2024-07-29T13:21:35.297Z"
   },
   {
    "duration": 11,
    "start_time": "2024-07-29T13:21:36.117Z"
   },
   {
    "duration": 1464,
    "start_time": "2024-07-29T13:21:36.130Z"
   },
   {
    "duration": 7,
    "start_time": "2024-07-29T13:21:37.595Z"
   },
   {
    "duration": 0,
    "start_time": "2024-07-29T13:22:27.825Z"
   },
   {
    "duration": 0,
    "start_time": "2024-07-29T13:22:27.826Z"
   },
   {
    "duration": 3946,
    "start_time": "2024-07-29T13:22:28.409Z"
   },
   {
    "duration": 3856,
    "start_time": "2024-07-29T13:22:53.873Z"
   },
   {
    "duration": 6,
    "start_time": "2024-07-29T13:22:58.039Z"
   },
   {
    "duration": 22,
    "start_time": "2024-07-29T13:22:59.249Z"
   },
   {
    "duration": 21,
    "start_time": "2024-07-29T13:28:34.480Z"
   },
   {
    "duration": 9,
    "start_time": "2024-07-29T13:32:46.313Z"
   },
   {
    "duration": 519,
    "start_time": "2024-07-29T13:35:52.622Z"
   },
   {
    "duration": 96634,
    "start_time": "2024-07-29T13:39:47.915Z"
   },
   {
    "duration": 27417,
    "start_time": "2024-07-29T13:42:23.036Z"
   },
   {
    "duration": 512,
    "start_time": "2024-07-29T13:43:33.024Z"
   },
   {
    "duration": 262,
    "start_time": "2024-07-29T13:44:27.044Z"
   },
   {
    "duration": 1394,
    "start_time": "2024-07-29T13:44:50.710Z"
   },
   {
    "duration": 156,
    "start_time": "2024-07-29T13:46:13.914Z"
   },
   {
    "duration": 503,
    "start_time": "2024-07-29T13:47:47.367Z"
   },
   {
    "duration": 76,
    "start_time": "2024-07-29T13:53:40.730Z"
   },
   {
    "duration": 4,
    "start_time": "2024-07-29T13:55:09.501Z"
   },
   {
    "duration": 83,
    "start_time": "2024-07-29T13:55:11.400Z"
   },
   {
    "duration": 15,
    "start_time": "2024-07-29T13:55:20.954Z"
   },
   {
    "duration": 329,
    "start_time": "2024-07-29T13:55:22.640Z"
   },
   {
    "duration": 233,
    "start_time": "2024-07-29T13:55:30.742Z"
   },
   {
    "duration": 5,
    "start_time": "2024-07-29T13:55:31.986Z"
   },
   {
    "duration": 8,
    "start_time": "2024-07-29T13:55:35.365Z"
   },
   {
    "duration": 4,
    "start_time": "2024-07-29T13:55:36.832Z"
   },
   {
    "duration": 17,
    "start_time": "2024-07-29T13:56:00.343Z"
   },
   {
    "duration": 287,
    "start_time": "2024-07-29T13:56:15.168Z"
   },
   {
    "duration": 136,
    "start_time": "2024-07-29T13:56:17.209Z"
   },
   {
    "duration": 756,
    "start_time": "2024-07-29T13:56:50.323Z"
   },
   {
    "duration": 11,
    "start_time": "2024-07-29T13:56:55.287Z"
   },
   {
    "duration": 1526,
    "start_time": "2024-07-29T13:57:06.275Z"
   },
   {
    "duration": 6,
    "start_time": "2024-07-29T13:57:39.506Z"
   },
   {
    "duration": 3570,
    "start_time": "2024-07-29T13:57:47.266Z"
   },
   {
    "duration": 147,
    "start_time": "2024-07-29T13:59:40.120Z"
   },
   {
    "duration": 150,
    "start_time": "2024-07-29T13:59:48.085Z"
   },
   {
    "duration": 1506,
    "start_time": "2024-07-29T14:38:17.606Z"
   },
   {
    "duration": 135,
    "start_time": "2024-07-29T14:38:19.114Z"
   },
   {
    "duration": 15,
    "start_time": "2024-07-29T14:38:19.250Z"
   },
   {
    "duration": 405,
    "start_time": "2024-07-29T14:38:19.268Z"
   },
   {
    "duration": 219,
    "start_time": "2024-07-29T14:38:19.674Z"
   },
   {
    "duration": 4,
    "start_time": "2024-07-29T14:38:19.894Z"
   },
   {
    "duration": 19,
    "start_time": "2024-07-29T14:38:19.900Z"
   },
   {
    "duration": 9,
    "start_time": "2024-07-29T14:38:19.921Z"
   },
   {
    "duration": 26,
    "start_time": "2024-07-29T14:38:19.931Z"
   },
   {
    "duration": 289,
    "start_time": "2024-07-29T14:38:19.960Z"
   },
   {
    "duration": 250,
    "start_time": "2024-07-29T14:38:20.257Z"
   },
   {
    "duration": 738,
    "start_time": "2024-07-29T14:38:20.508Z"
   },
   {
    "duration": 12,
    "start_time": "2024-07-29T14:38:21.247Z"
   },
   {
    "duration": 1497,
    "start_time": "2024-07-29T14:38:21.260Z"
   },
   {
    "duration": 6,
    "start_time": "2024-07-29T14:38:22.759Z"
   },
   {
    "duration": 3706,
    "start_time": "2024-07-29T14:38:22.766Z"
   },
   {
    "duration": 168,
    "start_time": "2024-07-29T14:38:26.474Z"
   },
   {
    "duration": 546,
    "start_time": "2024-07-29T14:38:26.645Z"
   },
   {
    "duration": 16,
    "start_time": "2024-07-29T14:38:27.193Z"
   },
   {
    "duration": 43,
    "start_time": "2024-07-29T14:38:27.211Z"
   },
   {
    "duration": 1458,
    "start_time": "2024-07-29T14:39:46.654Z"
   },
   {
    "duration": 98,
    "start_time": "2024-07-29T14:39:48.114Z"
   },
   {
    "duration": 13,
    "start_time": "2024-07-29T14:39:48.214Z"
   },
   {
    "duration": 371,
    "start_time": "2024-07-29T14:39:48.229Z"
   },
   {
    "duration": 233,
    "start_time": "2024-07-29T14:39:48.603Z"
   },
   {
    "duration": 9,
    "start_time": "2024-07-29T14:39:48.838Z"
   },
   {
    "duration": 11,
    "start_time": "2024-07-29T14:39:48.848Z"
   },
   {
    "duration": 14,
    "start_time": "2024-07-29T14:39:48.860Z"
   },
   {
    "duration": 31,
    "start_time": "2024-07-29T14:39:48.875Z"
   },
   {
    "duration": 295,
    "start_time": "2024-07-29T14:39:48.907Z"
   },
   {
    "duration": 264,
    "start_time": "2024-07-29T14:39:49.204Z"
   },
   {
    "duration": 691,
    "start_time": "2024-07-29T14:39:49.470Z"
   },
   {
    "duration": 11,
    "start_time": "2024-07-29T14:39:50.162Z"
   },
   {
    "duration": 1472,
    "start_time": "2024-07-29T14:39:50.176Z"
   },
   {
    "duration": 6,
    "start_time": "2024-07-29T14:39:51.649Z"
   },
   {
    "duration": 3631,
    "start_time": "2024-07-29T14:39:51.657Z"
   },
   {
    "duration": 157,
    "start_time": "2024-07-29T14:39:55.290Z"
   },
   {
    "duration": 513,
    "start_time": "2024-07-29T14:39:55.449Z"
   },
   {
    "duration": 16,
    "start_time": "2024-07-29T14:39:55.964Z"
   },
   {
    "duration": 7,
    "start_time": "2024-07-29T14:39:55.982Z"
   },
   {
    "duration": 3538,
    "start_time": "2024-07-30T05:13:02.834Z"
   },
   {
    "duration": 155,
    "start_time": "2024-07-30T05:13:06.374Z"
   },
   {
    "duration": 15,
    "start_time": "2024-07-30T05:13:06.530Z"
   },
   {
    "duration": 462,
    "start_time": "2024-07-30T05:13:06.547Z"
   },
   {
    "duration": 238,
    "start_time": "2024-07-30T05:13:07.011Z"
   },
   {
    "duration": 5,
    "start_time": "2024-07-30T05:13:07.251Z"
   },
   {
    "duration": 7,
    "start_time": "2024-07-30T05:13:07.257Z"
   },
   {
    "duration": 4,
    "start_time": "2024-07-30T05:13:07.265Z"
   },
   {
    "duration": 17,
    "start_time": "2024-07-30T05:13:07.271Z"
   },
   {
    "duration": 300,
    "start_time": "2024-07-30T05:13:07.290Z"
   },
   {
    "duration": 239,
    "start_time": "2024-07-30T05:13:07.592Z"
   },
   {
    "duration": 738,
    "start_time": "2024-07-30T05:13:07.833Z"
   },
   {
    "duration": 12,
    "start_time": "2024-07-30T05:13:08.573Z"
   },
   {
    "duration": 1465,
    "start_time": "2024-07-30T05:13:08.586Z"
   },
   {
    "duration": 6,
    "start_time": "2024-07-30T05:13:10.053Z"
   },
   {
    "duration": 3582,
    "start_time": "2024-07-30T05:13:10.061Z"
   },
   {
    "duration": 159,
    "start_time": "2024-07-30T05:13:13.646Z"
   },
   {
    "duration": 538,
    "start_time": "2024-07-30T05:13:13.806Z"
   },
   {
    "duration": 16,
    "start_time": "2024-07-30T05:13:14.345Z"
   },
   {
    "duration": 7,
    "start_time": "2024-07-30T05:13:14.362Z"
   },
   {
    "duration": 14,
    "start_time": "2024-07-30T05:25:48.436Z"
   },
   {
    "duration": 5,
    "start_time": "2024-07-30T05:34:09.916Z"
   },
   {
    "duration": 5,
    "start_time": "2024-07-30T05:34:13.544Z"
   },
   {
    "duration": 1564,
    "start_time": "2024-07-30T10:57:13.517Z"
   },
   {
    "duration": 130,
    "start_time": "2024-07-30T10:57:15.084Z"
   },
   {
    "duration": 14,
    "start_time": "2024-07-30T10:57:16.546Z"
   },
   {
    "duration": 400,
    "start_time": "2024-07-30T10:57:17.722Z"
   },
   {
    "duration": 307,
    "start_time": "2024-07-30T10:57:18.600Z"
   },
   {
    "duration": 334,
    "start_time": "2024-07-30T10:59:38.474Z"
   },
   {
    "duration": 444,
    "start_time": "2024-07-30T11:00:10.601Z"
   },
   {
    "duration": 333,
    "start_time": "2024-07-30T11:00:51.060Z"
   },
   {
    "duration": 395,
    "start_time": "2024-07-30T11:01:19.949Z"
   },
   {
    "duration": 355,
    "start_time": "2024-07-30T11:01:26.147Z"
   },
   {
    "duration": 348,
    "start_time": "2024-07-30T11:01:49.371Z"
   },
   {
    "duration": 350,
    "start_time": "2024-07-30T11:02:05.866Z"
   },
   {
    "duration": 472,
    "start_time": "2024-07-30T11:02:18.725Z"
   },
   {
    "duration": 370,
    "start_time": "2024-07-30T11:03:18.481Z"
   },
   {
    "duration": 395,
    "start_time": "2024-07-30T11:03:37.572Z"
   },
   {
    "duration": 402,
    "start_time": "2024-07-30T11:04:13.641Z"
   },
   {
    "duration": 400,
    "start_time": "2024-07-30T11:04:20.355Z"
   },
   {
    "duration": 382,
    "start_time": "2024-07-30T11:04:29.067Z"
   },
   {
    "duration": 509,
    "start_time": "2024-07-30T11:04:59.303Z"
   },
   {
    "duration": 440,
    "start_time": "2024-07-30T11:05:16.307Z"
   },
   {
    "duration": 425,
    "start_time": "2024-07-30T11:05:48.795Z"
   },
   {
    "duration": 420,
    "start_time": "2024-07-30T11:05:55.797Z"
   },
   {
    "duration": 414,
    "start_time": "2024-07-30T11:06:03.329Z"
   },
   {
    "duration": 497,
    "start_time": "2024-07-30T11:06:33.649Z"
   },
   {
    "duration": 438,
    "start_time": "2024-07-30T11:06:42.303Z"
   },
   {
    "duration": 386,
    "start_time": "2024-07-30T11:06:58.568Z"
   },
   {
    "duration": 432,
    "start_time": "2024-07-30T11:07:14.814Z"
   },
   {
    "duration": 399,
    "start_time": "2024-07-30T11:07:22.454Z"
   },
   {
    "duration": 405,
    "start_time": "2024-07-30T11:07:28.550Z"
   },
   {
    "duration": 507,
    "start_time": "2024-07-30T11:07:35.139Z"
   },
   {
    "duration": 7,
    "start_time": "2024-07-30T11:09:05.252Z"
   },
   {
    "duration": 21,
    "start_time": "2024-07-30T11:10:41.203Z"
   },
   {
    "duration": 21,
    "start_time": "2024-07-30T11:11:04.923Z"
   },
   {
    "duration": 121,
    "start_time": "2024-07-30T11:12:25.535Z"
   },
   {
    "duration": 133,
    "start_time": "2024-07-30T12:11:38.502Z"
   },
   {
    "duration": 36,
    "start_time": "2024-07-30T12:12:05.625Z"
   },
   {
    "duration": 35,
    "start_time": "2024-07-30T12:12:08.462Z"
   },
   {
    "duration": 4,
    "start_time": "2024-07-30T12:12:28.846Z"
   },
   {
    "duration": 106,
    "start_time": "2024-07-30T12:12:29.454Z"
   },
   {
    "duration": 13,
    "start_time": "2024-07-30T12:12:30.867Z"
   },
   {
    "duration": 305,
    "start_time": "2024-07-30T12:12:31.283Z"
   },
   {
    "duration": 442,
    "start_time": "2024-07-30T12:12:31.589Z"
   },
   {
    "duration": 189,
    "start_time": "2024-07-30T12:12:32.441Z"
   },
   {
    "duration": 4,
    "start_time": "2024-07-30T12:12:32.771Z"
   },
   {
    "duration": 9,
    "start_time": "2024-07-30T12:12:33.234Z"
   },
   {
    "duration": 5,
    "start_time": "2024-07-30T12:12:34.093Z"
   },
   {
    "duration": 22,
    "start_time": "2024-07-30T12:12:35.345Z"
   },
   {
    "duration": 242,
    "start_time": "2024-07-30T12:12:37.768Z"
   },
   {
    "duration": 121,
    "start_time": "2024-07-30T12:12:38.295Z"
   },
   {
    "duration": 764,
    "start_time": "2024-07-30T12:12:46.598Z"
   },
   {
    "duration": 11,
    "start_time": "2024-07-30T12:12:48.527Z"
   },
   {
    "duration": 62007,
    "start_time": "2024-07-30T12:12:51.995Z"
   },
   {
    "duration": 0,
    "start_time": "2024-07-30T12:13:54.003Z"
   },
   {
    "duration": 0,
    "start_time": "2024-07-30T12:13:54.004Z"
   },
   {
    "duration": 1348,
    "start_time": "2024-07-30T12:14:06.922Z"
   },
   {
    "duration": 223,
    "start_time": "2024-07-30T12:14:08.271Z"
   },
   {
    "duration": 13,
    "start_time": "2024-07-30T12:14:08.495Z"
   },
   {
    "duration": 336,
    "start_time": "2024-07-30T12:14:08.509Z"
   },
   {
    "duration": 413,
    "start_time": "2024-07-30T12:14:08.846Z"
   },
   {
    "duration": 196,
    "start_time": "2024-07-30T12:14:09.260Z"
   },
   {
    "duration": 5,
    "start_time": "2024-07-30T12:14:09.458Z"
   },
   {
    "duration": 23,
    "start_time": "2024-07-30T12:14:09.464Z"
   },
   {
    "duration": 6,
    "start_time": "2024-07-30T12:14:09.488Z"
   },
   {
    "duration": 101,
    "start_time": "2024-07-30T12:14:09.496Z"
   },
   {
    "duration": 289,
    "start_time": "2024-07-30T12:14:09.598Z"
   },
   {
    "duration": 133,
    "start_time": "2024-07-30T12:14:09.888Z"
   },
   {
    "duration": 673,
    "start_time": "2024-07-30T12:14:10.022Z"
   },
   {
    "duration": 10,
    "start_time": "2024-07-30T12:14:10.697Z"
   },
   {
    "duration": 83474,
    "start_time": "2024-07-30T12:14:10.708Z"
   },
   {
    "duration": 4,
    "start_time": "2024-07-30T12:15:34.183Z"
   },
   {
    "duration": 3476,
    "start_time": "2024-07-30T12:15:34.188Z"
   },
   {
    "duration": 137,
    "start_time": "2024-07-30T12:15:37.665Z"
   },
   {
    "duration": 468,
    "start_time": "2024-07-30T12:15:37.803Z"
   },
   {
    "duration": 20,
    "start_time": "2024-07-30T12:15:38.273Z"
   },
   {
    "duration": 7,
    "start_time": "2024-07-30T12:15:38.294Z"
   },
   {
    "duration": 1551,
    "start_time": "2024-07-30T14:56:45.644Z"
   },
   {
    "duration": 112,
    "start_time": "2024-07-30T14:56:47.197Z"
   },
   {
    "duration": 14,
    "start_time": "2024-07-30T14:56:48.605Z"
   },
   {
    "duration": 422,
    "start_time": "2024-07-30T14:56:49.440Z"
   },
   {
    "duration": 449,
    "start_time": "2024-07-30T14:56:57.525Z"
   },
   {
    "duration": 527,
    "start_time": "2024-07-30T14:57:19.844Z"
   },
   {
    "duration": 456,
    "start_time": "2024-07-30T14:57:54.559Z"
   },
   {
    "duration": 436,
    "start_time": "2024-07-30T14:58:12.779Z"
   },
   {
    "duration": 445,
    "start_time": "2024-07-30T14:58:21.531Z"
   },
   {
    "duration": 444,
    "start_time": "2024-07-30T14:58:31.934Z"
   },
   {
    "duration": 416,
    "start_time": "2024-07-30T14:58:38.766Z"
   },
   {
    "duration": 518,
    "start_time": "2024-07-30T14:58:44.757Z"
   },
   {
    "duration": 437,
    "start_time": "2024-07-30T14:58:52.932Z"
   },
   {
    "duration": 457,
    "start_time": "2024-07-30T14:59:06.814Z"
   },
   {
    "duration": 469,
    "start_time": "2024-07-30T14:59:14.709Z"
   },
   {
    "duration": 473,
    "start_time": "2024-07-30T14:59:25.805Z"
   },
   {
    "duration": 496,
    "start_time": "2024-07-30T14:59:39.548Z"
   },
   {
    "duration": 435,
    "start_time": "2024-07-30T14:59:48.391Z"
   },
   {
    "duration": 464,
    "start_time": "2024-07-30T15:00:06.527Z"
   },
   {
    "duration": 444,
    "start_time": "2024-07-30T15:00:52.897Z"
   },
   {
    "duration": 431,
    "start_time": "2024-07-30T15:02:58.756Z"
   },
   {
    "duration": 463,
    "start_time": "2024-07-30T15:03:28.200Z"
   },
   {
    "duration": 9,
    "start_time": "2024-07-30T15:04:30.359Z"
   },
   {
    "duration": 6,
    "start_time": "2024-07-30T15:04:57.441Z"
   },
   {
    "duration": 541,
    "start_time": "2024-07-30T15:08:09.715Z"
   },
   {
    "duration": 3,
    "start_time": "2024-07-30T15:09:12.574Z"
   },
   {
    "duration": 441,
    "start_time": "2024-07-30T15:09:38.170Z"
   },
   {
    "duration": 208,
    "start_time": "2024-07-30T15:09:38.757Z"
   },
   {
    "duration": 4,
    "start_time": "2024-07-30T15:09:39.033Z"
   },
   {
    "duration": 8,
    "start_time": "2024-07-30T15:09:39.225Z"
   },
   {
    "duration": 5,
    "start_time": "2024-07-30T15:09:40.130Z"
   },
   {
    "duration": 28,
    "start_time": "2024-07-30T15:09:41.357Z"
   },
   {
    "duration": 339,
    "start_time": "2024-07-30T15:09:45.397Z"
   },
   {
    "duration": 127,
    "start_time": "2024-07-30T15:09:46.466Z"
   },
   {
    "duration": 694,
    "start_time": "2024-07-30T15:09:49.819Z"
   },
   {
    "duration": 11,
    "start_time": "2024-07-30T15:09:50.515Z"
   },
   {
    "duration": 174979,
    "start_time": "2024-07-30T15:09:53.450Z"
   },
   {
    "duration": 0,
    "start_time": "2024-07-30T15:12:48.431Z"
   },
   {
    "duration": 1017,
    "start_time": "2024-07-30T15:12:56.682Z"
   },
   {
    "duration": 989,
    "start_time": "2024-07-30T15:14:44.285Z"
   },
   {
    "duration": 991,
    "start_time": "2024-07-30T15:15:03.534Z"
   },
   {
    "duration": 981,
    "start_time": "2024-07-30T15:15:26.937Z"
   },
   {
    "duration": 962,
    "start_time": "2024-07-30T15:16:38.991Z"
   },
   {
    "duration": 965,
    "start_time": "2024-07-30T15:16:53.681Z"
   },
   {
    "duration": 962,
    "start_time": "2024-07-30T15:18:37.139Z"
   },
   {
    "duration": 965,
    "start_time": "2024-07-30T15:19:22.610Z"
   },
   {
    "duration": 1013,
    "start_time": "2024-07-30T15:19:59.516Z"
   },
   {
    "duration": 995,
    "start_time": "2024-07-30T15:21:02.421Z"
   },
   {
    "duration": 976,
    "start_time": "2024-07-30T15:23:16.753Z"
   },
   {
    "duration": 1027,
    "start_time": "2024-07-30T15:23:29.028Z"
   },
   {
    "duration": 982,
    "start_time": "2024-07-30T15:23:45.879Z"
   },
   {
    "duration": 1035,
    "start_time": "2024-07-30T15:24:35.351Z"
   },
   {
    "duration": 1009,
    "start_time": "2024-07-30T15:24:43.326Z"
   },
   {
    "duration": 986,
    "start_time": "2024-07-30T15:24:51.341Z"
   },
   {
    "duration": 23,
    "start_time": "2024-07-30T15:27:44.086Z"
   },
   {
    "duration": 23,
    "start_time": "2024-07-30T15:28:40.202Z"
   },
   {
    "duration": 21,
    "start_time": "2024-07-30T15:29:04.742Z"
   },
   {
    "duration": 22,
    "start_time": "2024-07-30T15:29:32.722Z"
   },
   {
    "duration": 22,
    "start_time": "2024-07-30T15:29:42.465Z"
   },
   {
    "duration": 11,
    "start_time": "2024-07-30T15:32:28.803Z"
   },
   {
    "duration": 3,
    "start_time": "2024-07-30T15:32:39.784Z"
   },
   {
    "duration": 3245,
    "start_time": "2024-07-30T15:32:40.543Z"
   },
   {
    "duration": 3250,
    "start_time": "2024-07-30T15:34:09.992Z"
   },
   {
    "duration": 3462,
    "start_time": "2024-07-30T15:34:30.110Z"
   },
   {
    "duration": 3361,
    "start_time": "2024-07-30T15:35:12.794Z"
   },
   {
    "duration": 3467,
    "start_time": "2024-07-30T15:35:36.324Z"
   },
   {
    "duration": 3368,
    "start_time": "2024-07-30T15:35:50.584Z"
   },
   {
    "duration": 952,
    "start_time": "2024-07-30T15:37:36.465Z"
   },
   {
    "duration": 3426,
    "start_time": "2024-07-30T15:38:02.077Z"
   },
   {
    "duration": 3579,
    "start_time": "2024-07-30T15:39:53.788Z"
   },
   {
    "duration": 3400,
    "start_time": "2024-07-30T15:40:13.475Z"
   },
   {
    "duration": 3317,
    "start_time": "2024-07-30T15:40:24.331Z"
   },
   {
    "duration": 3140,
    "start_time": "2024-07-30T15:40:40.964Z"
   },
   {
    "duration": 133,
    "start_time": "2024-07-30T15:41:39.277Z"
   },
   {
    "duration": 17,
    "start_time": "2024-07-30T15:42:44.581Z"
   },
   {
    "duration": 136,
    "start_time": "2024-07-30T15:42:59.270Z"
   },
   {
    "duration": 3232,
    "start_time": "2024-07-30T15:43:28.915Z"
   },
   {
    "duration": 124,
    "start_time": "2024-07-30T15:43:36.074Z"
   },
   {
    "duration": 18,
    "start_time": "2024-07-30T15:44:13.183Z"
   },
   {
    "duration": 733,
    "start_time": "2024-07-30T15:50:22.934Z"
   },
   {
    "duration": 744,
    "start_time": "2024-07-30T15:51:23.482Z"
   },
   {
    "duration": 14,
    "start_time": "2024-07-30T15:52:44.064Z"
   },
   {
    "duration": 20,
    "start_time": "2024-07-30T15:52:56.753Z"
   },
   {
    "duration": 23,
    "start_time": "2024-07-30T15:54:48.196Z"
   },
   {
    "duration": 16,
    "start_time": "2024-07-30T15:56:24.609Z"
   },
   {
    "duration": 2666,
    "start_time": "2024-07-30T15:57:32.865Z"
   },
   {
    "duration": 122,
    "start_time": "2024-07-30T16:03:44.442Z"
   },
   {
    "duration": 15,
    "start_time": "2024-07-30T16:03:51.447Z"
   },
   {
    "duration": 727,
    "start_time": "2024-07-30T16:08:48.981Z"
   },
   {
    "duration": 25,
    "start_time": "2024-07-30T16:09:41.730Z"
   },
   {
    "duration": 28,
    "start_time": "2024-07-30T16:11:09.860Z"
   },
   {
    "duration": 1353,
    "start_time": "2024-07-30T16:21:18.733Z"
   },
   {
    "duration": 134,
    "start_time": "2024-07-30T16:21:20.087Z"
   },
   {
    "duration": 14,
    "start_time": "2024-07-30T16:21:20.222Z"
   },
   {
    "duration": 484,
    "start_time": "2024-07-30T16:21:20.238Z"
   },
   {
    "duration": 207,
    "start_time": "2024-07-30T16:21:20.724Z"
   },
   {
    "duration": 4,
    "start_time": "2024-07-30T16:21:20.932Z"
   },
   {
    "duration": 13,
    "start_time": "2024-07-30T16:21:20.938Z"
   },
   {
    "duration": 4,
    "start_time": "2024-07-30T16:21:20.952Z"
   },
   {
    "duration": 40,
    "start_time": "2024-07-30T16:21:20.957Z"
   },
   {
    "duration": 357,
    "start_time": "2024-07-30T16:21:20.999Z"
   },
   {
    "duration": 142,
    "start_time": "2024-07-30T16:21:21.358Z"
   },
   {
    "duration": 681,
    "start_time": "2024-07-30T16:21:21.502Z"
   },
   {
    "duration": 12,
    "start_time": "2024-07-30T16:21:22.185Z"
   },
   {
    "duration": 2580,
    "start_time": "2024-07-30T16:21:22.199Z"
   },
   {
    "duration": 28,
    "start_time": "2024-07-30T16:21:24.781Z"
   },
   {
    "duration": 5,
    "start_time": "2024-07-30T16:21:24.811Z"
   },
   {
    "duration": 3157,
    "start_time": "2024-07-30T16:21:24.817Z"
   },
   {
    "duration": 121,
    "start_time": "2024-07-30T16:21:27.976Z"
   },
   {
    "duration": 18,
    "start_time": "2024-07-30T16:21:28.099Z"
   },
   {
    "duration": 469,
    "start_time": "2024-07-30T16:21:28.118Z"
   },
   {
    "duration": 26,
    "start_time": "2024-07-30T16:21:28.589Z"
   },
   {
    "duration": 14,
    "start_time": "2024-07-30T16:21:28.617Z"
   },
   {
    "duration": 9,
    "start_time": "2024-07-30T16:21:28.633Z"
   },
   {
    "duration": 3006,
    "start_time": "2024-07-30T16:22:19.990Z"
   },
   {
    "duration": 1542,
    "start_time": "2024-07-31T02:23:25.990Z"
   },
   {
    "duration": 137,
    "start_time": "2024-07-31T02:23:27.534Z"
   },
   {
    "duration": 13,
    "start_time": "2024-07-31T02:23:27.672Z"
   },
   {
    "duration": 543,
    "start_time": "2024-07-31T02:23:27.687Z"
   },
   {
    "duration": 191,
    "start_time": "2024-07-31T02:23:28.231Z"
   },
   {
    "duration": 4,
    "start_time": "2024-07-31T02:23:28.424Z"
   },
   {
    "duration": 17,
    "start_time": "2024-07-31T02:23:28.429Z"
   },
   {
    "duration": 4,
    "start_time": "2024-07-31T02:23:28.447Z"
   },
   {
    "duration": 24,
    "start_time": "2024-07-31T02:23:28.453Z"
   },
   {
    "duration": 345,
    "start_time": "2024-07-31T02:23:28.495Z"
   },
   {
    "duration": 135,
    "start_time": "2024-07-31T02:23:28.842Z"
   },
   {
    "duration": 676,
    "start_time": "2024-07-31T02:23:28.979Z"
   },
   {
    "duration": 9,
    "start_time": "2024-07-31T02:23:29.657Z"
   },
   {
    "duration": 2629,
    "start_time": "2024-07-31T02:23:29.667Z"
   },
   {
    "duration": 14,
    "start_time": "2024-07-31T02:23:32.297Z"
   },
   {
    "duration": 129,
    "start_time": "2024-07-31T02:23:32.313Z"
   },
   {
    "duration": 0,
    "start_time": "2024-07-31T02:23:32.444Z"
   },
   {
    "duration": 0,
    "start_time": "2024-07-31T02:23:32.446Z"
   },
   {
    "duration": 0,
    "start_time": "2024-07-31T02:23:32.447Z"
   },
   {
    "duration": 0,
    "start_time": "2024-07-31T02:23:32.449Z"
   },
   {
    "duration": 0,
    "start_time": "2024-07-31T02:23:32.450Z"
   },
   {
    "duration": 0,
    "start_time": "2024-07-31T02:23:32.451Z"
   },
   {
    "duration": 0,
    "start_time": "2024-07-31T02:23:32.453Z"
   },
   {
    "duration": 737,
    "start_time": "2024-07-31T02:24:34.867Z"
   },
   {
    "duration": 17,
    "start_time": "2024-07-31T02:25:13.919Z"
   },
   {
    "duration": 8469,
    "start_time": "2024-07-31T02:25:17.755Z"
   },
   {
    "duration": 115,
    "start_time": "2024-07-31T02:25:32.604Z"
   },
   {
    "duration": 25,
    "start_time": "2024-07-31T02:25:32.844Z"
   },
   {
    "duration": 448,
    "start_time": "2024-07-31T02:25:56.277Z"
   },
   {
    "duration": 23,
    "start_time": "2024-07-31T02:26:00.262Z"
   },
   {
    "duration": 19,
    "start_time": "2024-07-31T02:26:45.745Z"
   },
   {
    "duration": 127,
    "start_time": "2024-07-31T02:28:03.411Z"
   },
   {
    "duration": 29,
    "start_time": "2024-07-31T02:28:07.197Z"
   },
   {
    "duration": 11,
    "start_time": "2024-07-31T02:28:07.543Z"
   },
   {
    "duration": 37,
    "start_time": "2024-07-31T02:28:08.663Z"
   },
   {
    "duration": 11,
    "start_time": "2024-07-31T02:28:22.346Z"
   },
   {
    "duration": 1347,
    "start_time": "2024-07-31T02:28:40.805Z"
   },
   {
    "duration": 114,
    "start_time": "2024-07-31T02:28:42.153Z"
   },
   {
    "duration": 13,
    "start_time": "2024-07-31T02:28:42.268Z"
   },
   {
    "duration": 419,
    "start_time": "2024-07-31T02:28:42.282Z"
   },
   {
    "duration": 194,
    "start_time": "2024-07-31T02:28:42.703Z"
   },
   {
    "duration": 4,
    "start_time": "2024-07-31T02:28:42.898Z"
   },
   {
    "duration": 31,
    "start_time": "2024-07-31T02:28:42.903Z"
   },
   {
    "duration": 3,
    "start_time": "2024-07-31T02:28:42.935Z"
   },
   {
    "duration": 27,
    "start_time": "2024-07-31T02:28:42.940Z"
   },
   {
    "duration": 330,
    "start_time": "2024-07-31T02:28:42.969Z"
   },
   {
    "duration": 136,
    "start_time": "2024-07-31T02:28:43.305Z"
   },
   {
    "duration": 624,
    "start_time": "2024-07-31T02:28:43.442Z"
   },
   {
    "duration": 11,
    "start_time": "2024-07-31T02:28:44.067Z"
   },
   {
    "duration": 2642,
    "start_time": "2024-07-31T02:28:44.080Z"
   },
   {
    "duration": 17,
    "start_time": "2024-07-31T02:28:46.723Z"
   },
   {
    "duration": 19,
    "start_time": "2024-07-31T02:28:46.742Z"
   },
   {
    "duration": 8184,
    "start_time": "2024-07-31T02:28:46.762Z"
   },
   {
    "duration": 124,
    "start_time": "2024-07-31T02:28:54.947Z"
   },
   {
    "duration": 34,
    "start_time": "2024-07-31T02:28:55.072Z"
   },
   {
    "duration": 511,
    "start_time": "2024-07-31T02:28:55.107Z"
   },
   {
    "duration": 21,
    "start_time": "2024-07-31T02:28:55.620Z"
   },
   {
    "duration": 15,
    "start_time": "2024-07-31T02:28:55.642Z"
   },
   {
    "duration": 6,
    "start_time": "2024-07-31T02:28:55.658Z"
   },
   {
    "duration": 126,
    "start_time": "2024-07-31T02:32:18.116Z"
   },
   {
    "duration": 18,
    "start_time": "2024-07-31T02:32:25.767Z"
   },
   {
    "duration": 15,
    "start_time": "2024-07-31T02:36:24.596Z"
   },
   {
    "duration": 8151,
    "start_time": "2024-07-31T02:36:27.265Z"
   },
   {
    "duration": 948,
    "start_time": "2024-07-31T02:37:09.352Z"
   },
   {
    "duration": 33,
    "start_time": "2024-07-31T02:37:26.418Z"
   },
   {
    "duration": 36,
    "start_time": "2024-07-31T02:37:36.520Z"
   },
   {
    "duration": 24,
    "start_time": "2024-07-31T02:39:01.246Z"
   },
   {
    "duration": 40,
    "start_time": "2024-07-31T02:39:18.670Z"
   },
   {
    "duration": 1230,
    "start_time": "2024-07-31T02:39:28.394Z"
   },
   {
    "duration": 5,
    "start_time": "2024-07-31T02:39:57.120Z"
   },
   {
    "duration": 26,
    "start_time": "2024-07-31T02:40:56.252Z"
   },
   {
    "duration": 6256,
    "start_time": "2024-07-31T02:40:59.898Z"
   },
   {
    "duration": 15,
    "start_time": "2024-07-31T02:41:06.156Z"
   },
   {
    "duration": 9,
    "start_time": "2024-07-31T02:41:56.807Z"
   },
   {
    "duration": 8,
    "start_time": "2024-07-31T02:42:15.157Z"
   },
   {
    "duration": 4,
    "start_time": "2024-07-31T02:42:22.755Z"
   },
   {
    "duration": 30,
    "start_time": "2024-07-31T02:42:29.158Z"
   },
   {
    "duration": 6467,
    "start_time": "2024-07-31T02:42:34.548Z"
   },
   {
    "duration": 15,
    "start_time": "2024-07-31T02:42:41.017Z"
   },
   {
    "duration": 6,
    "start_time": "2024-07-31T02:42:58.050Z"
   },
   {
    "duration": 16,
    "start_time": "2024-07-31T02:43:52.100Z"
   },
   {
    "duration": 8341,
    "start_time": "2024-07-31T02:43:54.977Z"
   },
   {
    "duration": 5,
    "start_time": "2024-07-31T02:44:33.786Z"
   },
   {
    "duration": 8,
    "start_time": "2024-07-31T02:49:20.124Z"
   },
   {
    "duration": 8,
    "start_time": "2024-07-31T02:49:32.765Z"
   },
   {
    "duration": 8,
    "start_time": "2024-07-31T02:49:55.743Z"
   },
   {
    "duration": 8,
    "start_time": "2024-07-31T02:50:03.809Z"
   },
   {
    "duration": 10,
    "start_time": "2024-07-31T02:50:32.073Z"
   },
   {
    "duration": 6,
    "start_time": "2024-07-31T02:51:16.750Z"
   },
   {
    "duration": 30,
    "start_time": "2024-07-31T02:52:00.860Z"
   },
   {
    "duration": 11015,
    "start_time": "2024-07-31T02:52:03.139Z"
   },
   {
    "duration": 5,
    "start_time": "2024-07-31T02:52:14.156Z"
   },
   {
    "duration": 108,
    "start_time": "2024-07-31T02:53:18.408Z"
   },
   {
    "duration": 114,
    "start_time": "2024-07-31T02:53:30.274Z"
   },
   {
    "duration": 530,
    "start_time": "2024-07-31T02:53:49.373Z"
   },
   {
    "duration": 11690,
    "start_time": "2024-07-31T02:54:10.700Z"
   },
   {
    "duration": 119,
    "start_time": "2024-07-31T02:54:23.183Z"
   },
   {
    "duration": 11112,
    "start_time": "2024-07-31T02:54:44.263Z"
   },
   {
    "duration": 113,
    "start_time": "2024-07-31T02:54:57.821Z"
   },
   {
    "duration": 1663,
    "start_time": "2024-07-31T02:56:57.195Z"
   },
   {
    "duration": 126,
    "start_time": "2024-07-31T02:57:20.502Z"
   },
   {
    "duration": 5,
    "start_time": "2024-07-31T03:00:06.687Z"
   },
   {
    "duration": 471,
    "start_time": "2024-07-31T03:01:06.834Z"
   },
   {
    "duration": 15,
    "start_time": "2024-07-31T03:05:25.574Z"
   },
   {
    "duration": 18,
    "start_time": "2024-07-31T03:06:15.440Z"
   },
   {
    "duration": 13,
    "start_time": "2024-07-31T04:06:02.864Z"
   },
   {
    "duration": 9,
    "start_time": "2024-07-31T04:06:18.300Z"
   },
   {
    "duration": 47,
    "start_time": "2024-07-31T04:13:34.307Z"
   },
   {
    "duration": 19,
    "start_time": "2024-07-31T04:13:47.910Z"
   },
   {
    "duration": 31,
    "start_time": "2024-07-31T04:13:56.026Z"
   },
   {
    "duration": 22,
    "start_time": "2024-07-31T04:15:03.237Z"
   },
   {
    "duration": 10,
    "start_time": "2024-07-31T04:16:20.222Z"
   },
   {
    "duration": 15,
    "start_time": "2024-07-31T04:16:38.863Z"
   },
   {
    "duration": 16,
    "start_time": "2024-07-31T04:17:54.826Z"
   },
   {
    "duration": 10,
    "start_time": "2024-07-31T04:18:06.608Z"
   },
   {
    "duration": 12,
    "start_time": "2024-07-31T04:18:29.681Z"
   },
   {
    "duration": 20,
    "start_time": "2024-07-31T04:19:43.577Z"
   },
   {
    "duration": 29,
    "start_time": "2024-07-31T04:19:49.948Z"
   },
   {
    "duration": 38,
    "start_time": "2024-07-31T04:20:19.976Z"
   },
   {
    "duration": 30,
    "start_time": "2024-07-31T04:20:54.725Z"
   },
   {
    "duration": 14,
    "start_time": "2024-07-31T04:21:24.112Z"
   },
   {
    "duration": 30,
    "start_time": "2024-07-31T04:21:41.402Z"
   },
   {
    "duration": 22,
    "start_time": "2024-07-31T04:22:51.463Z"
   },
   {
    "duration": 24,
    "start_time": "2024-07-31T04:23:30.395Z"
   },
   {
    "duration": 20,
    "start_time": "2024-07-31T04:24:54.608Z"
   },
   {
    "duration": 20,
    "start_time": "2024-07-31T04:27:14.804Z"
   },
   {
    "duration": 20,
    "start_time": "2024-07-31T04:28:16.879Z"
   },
   {
    "duration": 1372,
    "start_time": "2024-07-31T04:44:01.045Z"
   },
   {
    "duration": 187,
    "start_time": "2024-07-31T04:44:02.418Z"
   },
   {
    "duration": 14,
    "start_time": "2024-07-31T04:44:02.607Z"
   },
   {
    "duration": 491,
    "start_time": "2024-07-31T04:44:02.623Z"
   },
   {
    "duration": 211,
    "start_time": "2024-07-31T04:44:03.116Z"
   },
   {
    "duration": 4,
    "start_time": "2024-07-31T04:44:03.328Z"
   },
   {
    "duration": 8,
    "start_time": "2024-07-31T04:44:03.333Z"
   },
   {
    "duration": 5,
    "start_time": "2024-07-31T04:44:03.342Z"
   },
   {
    "duration": 51,
    "start_time": "2024-07-31T04:44:03.348Z"
   },
   {
    "duration": 411,
    "start_time": "2024-07-31T04:44:03.402Z"
   },
   {
    "duration": 162,
    "start_time": "2024-07-31T04:44:03.815Z"
   },
   {
    "duration": 712,
    "start_time": "2024-07-31T04:44:03.978Z"
   },
   {
    "duration": 13,
    "start_time": "2024-07-31T04:44:04.691Z"
   },
   {
    "duration": 2825,
    "start_time": "2024-07-31T04:44:04.705Z"
   },
   {
    "duration": 131,
    "start_time": "2024-07-31T04:44:07.532Z"
   },
   {
    "duration": 0,
    "start_time": "2024-07-31T04:44:07.664Z"
   },
   {
    "duration": 0,
    "start_time": "2024-07-31T04:44:07.665Z"
   },
   {
    "duration": 0,
    "start_time": "2024-07-31T04:44:07.666Z"
   },
   {
    "duration": 0,
    "start_time": "2024-07-31T04:44:07.667Z"
   },
   {
    "duration": 0,
    "start_time": "2024-07-31T04:44:07.668Z"
   },
   {
    "duration": 0,
    "start_time": "2024-07-31T04:44:07.669Z"
   },
   {
    "duration": 0,
    "start_time": "2024-07-31T04:44:07.670Z"
   },
   {
    "duration": 0,
    "start_time": "2024-07-31T04:44:07.671Z"
   },
   {
    "duration": 23,
    "start_time": "2024-07-31T04:45:26.625Z"
   },
   {
    "duration": 17,
    "start_time": "2024-07-31T04:45:29.186Z"
   },
   {
    "duration": 21,
    "start_time": "2024-07-31T04:45:32.841Z"
   },
   {
    "duration": 12229,
    "start_time": "2024-07-31T04:45:36.898Z"
   },
   {
    "duration": 141,
    "start_time": "2024-07-31T04:45:49.129Z"
   },
   {
    "duration": 4,
    "start_time": "2024-07-31T04:45:49.271Z"
   },
   {
    "duration": 480,
    "start_time": "2024-07-31T04:45:50.179Z"
   },
   {
    "duration": 1343,
    "start_time": "2024-07-31T04:47:56.430Z"
   },
   {
    "duration": 98,
    "start_time": "2024-07-31T04:47:57.775Z"
   },
   {
    "duration": 13,
    "start_time": "2024-07-31T04:47:57.874Z"
   },
   {
    "duration": 484,
    "start_time": "2024-07-31T04:47:57.890Z"
   },
   {
    "duration": 211,
    "start_time": "2024-07-31T04:47:58.376Z"
   },
   {
    "duration": 9,
    "start_time": "2024-07-31T04:47:58.589Z"
   },
   {
    "duration": 9,
    "start_time": "2024-07-31T04:47:58.599Z"
   },
   {
    "duration": 4,
    "start_time": "2024-07-31T04:47:58.609Z"
   },
   {
    "duration": 25,
    "start_time": "2024-07-31T04:47:58.615Z"
   },
   {
    "duration": 387,
    "start_time": "2024-07-31T04:47:58.643Z"
   },
   {
    "duration": 160,
    "start_time": "2024-07-31T04:47:59.032Z"
   },
   {
    "duration": 709,
    "start_time": "2024-07-31T04:47:59.196Z"
   },
   {
    "duration": 10,
    "start_time": "2024-07-31T04:47:59.906Z"
   },
   {
    "duration": 2780,
    "start_time": "2024-07-31T04:47:59.917Z"
   },
   {
    "duration": 22,
    "start_time": "2024-07-31T04:48:02.699Z"
   },
   {
    "duration": 28,
    "start_time": "2024-07-31T04:48:02.723Z"
   },
   {
    "duration": 19,
    "start_time": "2024-07-31T04:48:02.753Z"
   },
   {
    "duration": 11742,
    "start_time": "2024-07-31T04:48:02.773Z"
   },
   {
    "duration": 150,
    "start_time": "2024-07-31T04:48:14.517Z"
   },
   {
    "duration": 5,
    "start_time": "2024-07-31T04:48:14.669Z"
   },
   {
    "duration": 482,
    "start_time": "2024-07-31T04:48:14.675Z"
   },
   {
    "duration": 131,
    "start_time": "2024-07-31T04:48:15.158Z"
   },
   {
    "duration": 0,
    "start_time": "2024-07-31T04:48:15.295Z"
   },
   {
    "duration": 1398,
    "start_time": "2024-07-31T04:49:14.451Z"
   },
   {
    "duration": 104,
    "start_time": "2024-07-31T04:49:15.851Z"
   },
   {
    "duration": 14,
    "start_time": "2024-07-31T04:49:15.956Z"
   },
   {
    "duration": 443,
    "start_time": "2024-07-31T04:49:15.972Z"
   },
   {
    "duration": 207,
    "start_time": "2024-07-31T04:49:16.416Z"
   },
   {
    "duration": 5,
    "start_time": "2024-07-31T04:49:16.624Z"
   },
   {
    "duration": 8,
    "start_time": "2024-07-31T04:49:16.630Z"
   },
   {
    "duration": 10,
    "start_time": "2024-07-31T04:49:16.640Z"
   },
   {
    "duration": 24,
    "start_time": "2024-07-31T04:49:16.652Z"
   },
   {
    "duration": 386,
    "start_time": "2024-07-31T04:49:16.697Z"
   },
   {
    "duration": 143,
    "start_time": "2024-07-31T04:49:17.085Z"
   },
   {
    "duration": 662,
    "start_time": "2024-07-31T04:49:17.230Z"
   },
   {
    "duration": 10,
    "start_time": "2024-07-31T04:49:17.896Z"
   },
   {
    "duration": 2730,
    "start_time": "2024-07-31T04:49:17.907Z"
   },
   {
    "duration": 22,
    "start_time": "2024-07-31T04:49:20.638Z"
   },
   {
    "duration": 35,
    "start_time": "2024-07-31T04:49:20.662Z"
   },
   {
    "duration": 18,
    "start_time": "2024-07-31T04:49:20.698Z"
   },
   {
    "duration": 11664,
    "start_time": "2024-07-31T04:49:20.718Z"
   },
   {
    "duration": 146,
    "start_time": "2024-07-31T04:49:32.384Z"
   },
   {
    "duration": 4,
    "start_time": "2024-07-31T04:49:32.531Z"
   },
   {
    "duration": 474,
    "start_time": "2024-07-31T04:49:32.536Z"
   },
   {
    "duration": 124,
    "start_time": "2024-07-31T04:49:33.011Z"
   },
   {
    "duration": 0,
    "start_time": "2024-07-31T04:49:33.137Z"
   },
   {
    "duration": 17,
    "start_time": "2024-07-31T04:51:32.160Z"
   },
   {
    "duration": 12,
    "start_time": "2024-07-31T04:52:01.243Z"
   },
   {
    "duration": 13,
    "start_time": "2024-07-31T04:52:04.142Z"
   },
   {
    "duration": 15,
    "start_time": "2024-07-31T04:52:05.877Z"
   },
   {
    "duration": 1422,
    "start_time": "2024-07-31T04:54:44.247Z"
   },
   {
    "duration": 113,
    "start_time": "2024-07-31T04:54:45.671Z"
   },
   {
    "duration": 14,
    "start_time": "2024-07-31T04:54:45.786Z"
   },
   {
    "duration": 524,
    "start_time": "2024-07-31T04:54:45.802Z"
   },
   {
    "duration": 214,
    "start_time": "2024-07-31T04:54:46.328Z"
   },
   {
    "duration": 4,
    "start_time": "2024-07-31T04:54:46.543Z"
   },
   {
    "duration": 8,
    "start_time": "2024-07-31T04:54:46.548Z"
   },
   {
    "duration": 4,
    "start_time": "2024-07-31T04:54:46.557Z"
   },
   {
    "duration": 43,
    "start_time": "2024-07-31T04:54:46.562Z"
   },
   {
    "duration": 389,
    "start_time": "2024-07-31T04:54:46.607Z"
   },
   {
    "duration": 141,
    "start_time": "2024-07-31T04:54:46.998Z"
   },
   {
    "duration": 678,
    "start_time": "2024-07-31T04:54:47.140Z"
   },
   {
    "duration": 10,
    "start_time": "2024-07-31T04:54:47.820Z"
   },
   {
    "duration": 2816,
    "start_time": "2024-07-31T04:54:47.832Z"
   },
   {
    "duration": 23,
    "start_time": "2024-07-31T04:54:50.650Z"
   },
   {
    "duration": 36,
    "start_time": "2024-07-31T04:54:50.674Z"
   },
   {
    "duration": 18,
    "start_time": "2024-07-31T04:54:50.711Z"
   },
   {
    "duration": 11836,
    "start_time": "2024-07-31T04:54:50.731Z"
   },
   {
    "duration": 142,
    "start_time": "2024-07-31T04:55:02.568Z"
   },
   {
    "duration": 4,
    "start_time": "2024-07-31T04:55:02.711Z"
   },
   {
    "duration": 499,
    "start_time": "2024-07-31T04:55:02.716Z"
   },
   {
    "duration": 13,
    "start_time": "2024-07-31T04:55:03.216Z"
   },
   {
    "duration": 48,
    "start_time": "2024-07-31T04:55:03.230Z"
   },
   {
    "duration": 4011,
    "start_time": "2024-07-31T15:54:27.056Z"
   },
   {
    "duration": 115,
    "start_time": "2024-07-31T15:54:31.070Z"
   },
   {
    "duration": 23,
    "start_time": "2024-07-31T15:54:31.187Z"
   },
   {
    "duration": 604,
    "start_time": "2024-07-31T15:54:31.213Z"
   },
   {
    "duration": 262,
    "start_time": "2024-07-31T15:54:31.820Z"
   },
   {
    "duration": 6,
    "start_time": "2024-07-31T15:54:32.084Z"
   },
   {
    "duration": 151,
    "start_time": "2024-07-31T15:54:32.092Z"
   },
   {
    "duration": 57,
    "start_time": "2024-07-31T15:54:32.245Z"
   },
   {
    "duration": 165,
    "start_time": "2024-07-31T15:54:32.305Z"
   },
   {
    "duration": 384,
    "start_time": "2024-07-31T15:54:32.473Z"
   },
   {
    "duration": 191,
    "start_time": "2024-07-31T15:54:32.860Z"
   },
   {
    "duration": 826,
    "start_time": "2024-07-31T15:54:33.053Z"
   },
   {
    "duration": 16,
    "start_time": "2024-07-31T15:54:33.883Z"
   },
   {
    "duration": 3357,
    "start_time": "2024-07-31T15:54:33.901Z"
   },
   {
    "duration": 38,
    "start_time": "2024-07-31T15:54:37.260Z"
   },
   {
    "duration": 21,
    "start_time": "2024-07-31T15:54:37.300Z"
   },
   {
    "duration": 19,
    "start_time": "2024-07-31T15:54:37.323Z"
   },
   {
    "duration": 14102,
    "start_time": "2024-07-31T15:54:37.343Z"
   },
   {
    "duration": 163,
    "start_time": "2024-07-31T15:54:51.448Z"
   },
   {
    "duration": 6,
    "start_time": "2024-07-31T15:54:51.612Z"
   },
   {
    "duration": 727,
    "start_time": "2024-07-31T15:54:51.620Z"
   },
   {
    "duration": 14,
    "start_time": "2024-07-31T15:54:52.348Z"
   },
   {
    "duration": 82,
    "start_time": "2024-07-31T15:54:52.363Z"
   },
   {
    "duration": 37,
    "start_time": "2024-07-31T15:58:55.078Z"
   },
   {
    "duration": 8,
    "start_time": "2024-07-31T15:59:02.392Z"
   },
   {
    "duration": 6,
    "start_time": "2024-07-31T15:59:08.274Z"
   },
   {
    "duration": 35,
    "start_time": "2024-07-31T15:59:51.766Z"
   },
   {
    "duration": 8,
    "start_time": "2024-07-31T16:00:00.933Z"
   },
   {
    "duration": 3832,
    "start_time": "2024-07-31T16:00:21.747Z"
   },
   {
    "duration": 105,
    "start_time": "2024-07-31T16:00:25.581Z"
   },
   {
    "duration": 22,
    "start_time": "2024-07-31T16:00:25.688Z"
   },
   {
    "duration": 563,
    "start_time": "2024-07-31T16:00:25.713Z"
   },
   {
    "duration": 264,
    "start_time": "2024-07-31T16:00:26.278Z"
   },
   {
    "duration": 4,
    "start_time": "2024-07-31T16:00:26.544Z"
   },
   {
    "duration": 16,
    "start_time": "2024-07-31T16:00:26.550Z"
   },
   {
    "duration": 17,
    "start_time": "2024-07-31T16:00:26.568Z"
   },
   {
    "duration": 37,
    "start_time": "2024-07-31T16:00:26.587Z"
   },
   {
    "duration": 398,
    "start_time": "2024-07-31T16:00:26.627Z"
   },
   {
    "duration": 189,
    "start_time": "2024-07-31T16:00:27.027Z"
   },
   {
    "duration": 869,
    "start_time": "2024-07-31T16:00:27.217Z"
   },
   {
    "duration": 17,
    "start_time": "2024-07-31T16:00:28.088Z"
   },
   {
    "duration": 3567,
    "start_time": "2024-07-31T16:00:28.107Z"
   },
   {
    "duration": 33,
    "start_time": "2024-07-31T16:00:31.681Z"
   },
   {
    "duration": 202,
    "start_time": "2024-07-31T16:00:31.716Z"
   },
   {
    "duration": 42,
    "start_time": "2024-07-31T16:00:31.920Z"
   },
   {
    "duration": 14416,
    "start_time": "2024-07-31T16:00:31.963Z"
   },
   {
    "duration": 186,
    "start_time": "2024-07-31T16:00:46.381Z"
   },
   {
    "duration": 5,
    "start_time": "2024-07-31T16:00:46.568Z"
   },
   {
    "duration": 6,
    "start_time": "2024-07-31T16:00:46.582Z"
   },
   {
    "duration": 694,
    "start_time": "2024-07-31T16:00:46.591Z"
   },
   {
    "duration": 19,
    "start_time": "2024-07-31T16:00:47.287Z"
   },
   {
    "duration": 37,
    "start_time": "2024-07-31T16:00:47.309Z"
   },
   {
    "duration": 6,
    "start_time": "2024-07-31T16:01:55.109Z"
   },
   {
    "duration": 9,
    "start_time": "2024-07-31T16:01:59.918Z"
   },
   {
    "duration": 6,
    "start_time": "2024-07-31T16:02:04.034Z"
   },
   {
    "duration": 6,
    "start_time": "2024-07-31T16:02:11.027Z"
   },
   {
    "duration": 5,
    "start_time": "2024-07-31T16:02:18.590Z"
   },
   {
    "duration": 5,
    "start_time": "2024-07-31T16:02:22.242Z"
   },
   {
    "duration": 5,
    "start_time": "2024-07-31T16:02:30.240Z"
   },
   {
    "duration": 1645,
    "start_time": "2024-08-01T00:03:27.543Z"
   },
   {
    "duration": 164,
    "start_time": "2024-08-01T00:03:29.190Z"
   },
   {
    "duration": 13,
    "start_time": "2024-08-01T00:03:29.356Z"
   },
   {
    "duration": 563,
    "start_time": "2024-08-01T00:03:29.371Z"
   },
   {
    "duration": 216,
    "start_time": "2024-08-01T00:03:29.936Z"
   },
   {
    "duration": 5,
    "start_time": "2024-08-01T00:03:30.153Z"
   },
   {
    "duration": 51,
    "start_time": "2024-08-01T00:03:30.159Z"
   },
   {
    "duration": 43,
    "start_time": "2024-08-01T00:03:30.211Z"
   },
   {
    "duration": 61,
    "start_time": "2024-08-01T00:03:30.255Z"
   },
   {
    "duration": 427,
    "start_time": "2024-08-01T00:03:30.317Z"
   },
   {
    "duration": 130,
    "start_time": "2024-08-01T00:03:30.746Z"
   },
   {
    "duration": 701,
    "start_time": "2024-08-01T00:03:30.877Z"
   },
   {
    "duration": 12,
    "start_time": "2024-08-01T00:03:31.579Z"
   },
   {
    "duration": 2658,
    "start_time": "2024-08-01T00:03:31.594Z"
   },
   {
    "duration": 34,
    "start_time": "2024-08-01T00:03:34.253Z"
   },
   {
    "duration": 14,
    "start_time": "2024-08-01T00:03:34.288Z"
   },
   {
    "duration": 17,
    "start_time": "2024-08-01T00:03:34.304Z"
   },
   {
    "duration": 11144,
    "start_time": "2024-08-01T00:03:34.322Z"
   },
   {
    "duration": 128,
    "start_time": "2024-08-01T00:03:45.468Z"
   },
   {
    "duration": 4,
    "start_time": "2024-08-01T00:03:45.598Z"
   },
   {
    "duration": 502,
    "start_time": "2024-08-01T00:03:45.603Z"
   },
   {
    "duration": 13,
    "start_time": "2024-08-01T00:03:46.106Z"
   },
   {
    "duration": 14,
    "start_time": "2024-08-01T00:03:46.121Z"
   },
   {
    "duration": 290,
    "start_time": "2024-08-01T00:03:55.537Z"
   },
   {
    "duration": 4,
    "start_time": "2024-08-01T00:05:17.260Z"
   },
   {
    "duration": 4,
    "start_time": "2024-08-01T00:05:30.352Z"
   },
   {
    "duration": 4,
    "start_time": "2024-08-01T00:05:37.878Z"
   },
   {
    "duration": 106,
    "start_time": "2024-08-01T00:05:47.260Z"
   },
   {
    "duration": 1523,
    "start_time": "2024-08-01T00:06:52.317Z"
   },
   {
    "duration": 7,
    "start_time": "2024-08-01T00:08:52.225Z"
   },
   {
    "duration": 52,
    "start_time": "2024-08-01T00:10:23.970Z"
   },
   {
    "duration": 44,
    "start_time": "2024-08-01T00:10:36.379Z"
   },
   {
    "duration": 395,
    "start_time": "2024-08-01T00:11:30.796Z"
   },
   {
    "duration": 266,
    "start_time": "2024-08-01T00:11:51.327Z"
   },
   {
    "duration": 541,
    "start_time": "2024-08-01T00:13:36.246Z"
   },
   {
    "duration": 243,
    "start_time": "2024-08-01T00:13:45.042Z"
   },
   {
    "duration": 57,
    "start_time": "2024-08-01T00:16:35.147Z"
   },
   {
    "duration": 34,
    "start_time": "2024-08-01T00:33:34.690Z"
   },
   {
    "duration": 221,
    "start_time": "2024-08-01T00:33:45.576Z"
   },
   {
    "duration": 40,
    "start_time": "2024-08-01T00:33:59.444Z"
   },
   {
    "duration": 205,
    "start_time": "2024-08-01T00:34:15.223Z"
   },
   {
    "duration": 29,
    "start_time": "2024-08-01T00:36:36.083Z"
   },
   {
    "duration": 118,
    "start_time": "2024-08-01T00:37:17.061Z"
   },
   {
    "duration": 199,
    "start_time": "2024-08-01T00:37:23.019Z"
   },
   {
    "duration": 60,
    "start_time": "2024-08-01T00:37:29.059Z"
   },
   {
    "duration": 122,
    "start_time": "2024-08-01T00:37:34.696Z"
   },
   {
    "duration": 24,
    "start_time": "2024-08-01T00:38:39.250Z"
   },
   {
    "duration": 459,
    "start_time": "2024-08-01T00:38:53.304Z"
   },
   {
    "duration": 12,
    "start_time": "2024-08-01T00:39:31.330Z"
   },
   {
    "duration": 17,
    "start_time": "2024-08-01T00:39:51.328Z"
   },
   {
    "duration": 11,
    "start_time": "2024-08-01T00:41:33.615Z"
   },
   {
    "duration": 10,
    "start_time": "2024-08-01T00:45:58.221Z"
   },
   {
    "duration": 300,
    "start_time": "2024-08-01T00:46:45.086Z"
   },
   {
    "duration": 261,
    "start_time": "2024-08-01T00:48:00.550Z"
   },
   {
    "duration": 434,
    "start_time": "2024-08-01T00:49:04.412Z"
   },
   {
    "duration": 227,
    "start_time": "2024-08-01T00:49:45.917Z"
   },
   {
    "duration": 439,
    "start_time": "2024-08-01T00:51:03.673Z"
   },
   {
    "duration": 445,
    "start_time": "2024-08-01T00:51:44.516Z"
   },
   {
    "duration": 434,
    "start_time": "2024-08-01T00:52:07.512Z"
   },
   {
    "duration": 476,
    "start_time": "2024-08-01T00:52:15.027Z"
   },
   {
    "duration": 5,
    "start_time": "2024-08-01T00:53:03.393Z"
   },
   {
    "duration": 0,
    "start_time": "2024-08-01T01:00:28.609Z"
   },
   {
    "duration": 59,
    "start_time": "2024-08-01T01:00:33.027Z"
   },
   {
    "duration": 1366,
    "start_time": "2024-08-01T01:03:11.409Z"
   },
   {
    "duration": 156,
    "start_time": "2024-08-01T01:03:12.777Z"
   },
   {
    "duration": 15,
    "start_time": "2024-08-01T01:03:12.934Z"
   },
   {
    "duration": 438,
    "start_time": "2024-08-01T01:03:12.950Z"
   },
   {
    "duration": 209,
    "start_time": "2024-08-01T01:03:13.390Z"
   },
   {
    "duration": 4,
    "start_time": "2024-08-01T01:03:13.601Z"
   },
   {
    "duration": 43,
    "start_time": "2024-08-01T01:03:13.606Z"
   },
   {
    "duration": 6,
    "start_time": "2024-08-01T01:03:13.651Z"
   },
   {
    "duration": 25,
    "start_time": "2024-08-01T01:03:13.658Z"
   },
   {
    "duration": 357,
    "start_time": "2024-08-01T01:03:13.686Z"
   },
   {
    "duration": 169,
    "start_time": "2024-08-01T01:03:14.045Z"
   },
   {
    "duration": 662,
    "start_time": "2024-08-01T01:03:14.215Z"
   },
   {
    "duration": 15,
    "start_time": "2024-08-01T01:03:14.878Z"
   },
   {
    "duration": 2695,
    "start_time": "2024-08-01T01:03:14.895Z"
   },
   {
    "duration": 204,
    "start_time": "2024-08-01T01:03:17.592Z"
   },
   {
    "duration": 23,
    "start_time": "2024-08-01T01:03:17.797Z"
   },
   {
    "duration": 1606,
    "start_time": "2024-08-01T01:03:17.822Z"
   },
   {
    "duration": 19,
    "start_time": "2024-08-01T01:03:19.430Z"
   },
   {
    "duration": 157,
    "start_time": "2024-08-01T01:03:19.451Z"
   },
   {
    "duration": 142,
    "start_time": "2024-08-01T01:03:19.610Z"
   },
   {
    "duration": 5,
    "start_time": "2024-08-01T01:03:19.753Z"
   },
   {
    "duration": 469,
    "start_time": "2024-08-01T01:03:19.760Z"
   },
   {
    "duration": 8,
    "start_time": "2024-08-01T01:03:20.231Z"
   },
   {
    "duration": 31,
    "start_time": "2024-08-01T01:03:20.241Z"
   },
   {
    "duration": 9,
    "start_time": "2024-08-01T01:06:31.146Z"
   },
   {
    "duration": 3,
    "start_time": "2024-08-01T01:06:48.448Z"
   },
   {
    "duration": 4,
    "start_time": "2024-08-01T01:06:53.183Z"
   },
   {
    "duration": 27,
    "start_time": "2024-08-01T01:07:06.734Z"
   },
   {
    "duration": 9,
    "start_time": "2024-08-01T01:07:19.350Z"
   },
   {
    "duration": 5,
    "start_time": "2024-08-01T01:07:24.866Z"
   },
   {
    "duration": 5,
    "start_time": "2024-08-01T01:07:31.376Z"
   },
   {
    "duration": 6,
    "start_time": "2024-08-01T01:09:24.819Z"
   },
   {
    "duration": 5,
    "start_time": "2024-08-01T01:09:31.019Z"
   },
   {
    "duration": 1555,
    "start_time": "2024-08-01T02:37:33.409Z"
   },
   {
    "duration": 153,
    "start_time": "2024-08-01T02:37:34.967Z"
   },
   {
    "duration": 20,
    "start_time": "2024-08-01T02:37:35.122Z"
   },
   {
    "duration": 585,
    "start_time": "2024-08-01T02:37:35.145Z"
   },
   {
    "duration": 234,
    "start_time": "2024-08-01T02:37:35.732Z"
   },
   {
    "duration": 4,
    "start_time": "2024-08-01T02:37:35.967Z"
   },
   {
    "duration": 21,
    "start_time": "2024-08-01T02:37:35.973Z"
   },
   {
    "duration": 3,
    "start_time": "2024-08-01T02:37:35.996Z"
   },
   {
    "duration": 23,
    "start_time": "2024-08-01T02:37:36.001Z"
   },
   {
    "duration": 356,
    "start_time": "2024-08-01T02:37:36.026Z"
   },
   {
    "duration": 141,
    "start_time": "2024-08-01T02:37:36.384Z"
   },
   {
    "duration": 686,
    "start_time": "2024-08-01T02:37:36.527Z"
   },
   {
    "duration": 11,
    "start_time": "2024-08-01T02:37:37.214Z"
   },
   {
    "duration": 2785,
    "start_time": "2024-08-01T02:37:37.227Z"
   },
   {
    "duration": 190,
    "start_time": "2024-08-01T02:37:40.013Z"
   },
   {
    "duration": 21,
    "start_time": "2024-08-01T02:37:40.205Z"
   },
   {
    "duration": 1599,
    "start_time": "2024-08-01T02:37:40.227Z"
   },
   {
    "duration": 15,
    "start_time": "2024-08-01T02:37:41.828Z"
   },
   {
    "duration": 186,
    "start_time": "2024-08-01T02:37:41.845Z"
   },
   {
    "duration": 147,
    "start_time": "2024-08-01T02:37:42.033Z"
   },
   {
    "duration": 6,
    "start_time": "2024-08-01T02:37:42.181Z"
   },
   {
    "duration": 487,
    "start_time": "2024-08-01T02:37:42.188Z"
   },
   {
    "duration": 9,
    "start_time": "2024-08-01T02:37:42.676Z"
   },
   {
    "duration": 8,
    "start_time": "2024-08-01T02:37:42.687Z"
   },
   {
    "duration": 187,
    "start_time": "2024-08-01T02:46:49.450Z"
   },
   {
    "duration": 322,
    "start_time": "2024-08-01T02:47:42.298Z"
   },
   {
    "duration": 301,
    "start_time": "2024-08-01T02:48:18.054Z"
   },
   {
    "duration": 337,
    "start_time": "2024-08-01T02:49:41.657Z"
   },
   {
    "duration": 402,
    "start_time": "2024-08-01T02:49:46.893Z"
   },
   {
    "duration": 1474,
    "start_time": "2024-08-01T02:51:02.029Z"
   },
   {
    "duration": 133,
    "start_time": "2024-08-01T02:51:03.505Z"
   },
   {
    "duration": 14,
    "start_time": "2024-08-01T02:51:03.640Z"
   },
   {
    "duration": 524,
    "start_time": "2024-08-01T02:51:03.656Z"
   },
   {
    "duration": 202,
    "start_time": "2024-08-01T02:51:04.181Z"
   },
   {
    "duration": 4,
    "start_time": "2024-08-01T02:51:04.385Z"
   },
   {
    "duration": 21,
    "start_time": "2024-08-01T02:51:04.391Z"
   },
   {
    "duration": 31,
    "start_time": "2024-08-01T02:51:04.414Z"
   },
   {
    "duration": 49,
    "start_time": "2024-08-01T02:51:04.447Z"
   },
   {
    "duration": 335,
    "start_time": "2024-08-01T02:51:04.498Z"
   },
   {
    "duration": 148,
    "start_time": "2024-08-01T02:51:04.866Z"
   },
   {
    "duration": 761,
    "start_time": "2024-08-01T02:51:05.015Z"
   },
   {
    "duration": 13,
    "start_time": "2024-08-01T02:51:05.778Z"
   },
   {
    "duration": 2825,
    "start_time": "2024-08-01T02:51:05.793Z"
   },
   {
    "duration": 197,
    "start_time": "2024-08-01T02:51:08.620Z"
   },
   {
    "duration": 20,
    "start_time": "2024-08-01T02:51:08.819Z"
   },
   {
    "duration": 1713,
    "start_time": "2024-08-01T02:51:08.840Z"
   },
   {
    "duration": 22,
    "start_time": "2024-08-01T02:51:10.554Z"
   },
   {
    "duration": 333,
    "start_time": "2024-08-01T02:51:10.577Z"
   },
   {
    "duration": 57,
    "start_time": "2024-08-01T02:51:10.911Z"
   },
   {
    "duration": 145,
    "start_time": "2024-08-01T02:51:10.970Z"
   },
   {
    "duration": 5,
    "start_time": "2024-08-01T02:51:11.116Z"
   },
   {
    "duration": 500,
    "start_time": "2024-08-01T02:51:11.123Z"
   },
   {
    "duration": 9,
    "start_time": "2024-08-01T02:51:11.624Z"
   },
   {
    "duration": 9,
    "start_time": "2024-08-01T02:51:11.634Z"
   },
   {
    "duration": 1434,
    "start_time": "2024-08-01T03:15:08.253Z"
   },
   {
    "duration": 139,
    "start_time": "2024-08-01T03:15:09.689Z"
   },
   {
    "duration": 14,
    "start_time": "2024-08-01T03:15:09.830Z"
   },
   {
    "duration": 521,
    "start_time": "2024-08-01T03:15:09.846Z"
   },
   {
    "duration": 207,
    "start_time": "2024-08-01T03:15:10.368Z"
   },
   {
    "duration": 4,
    "start_time": "2024-08-01T03:15:10.577Z"
   },
   {
    "duration": 9,
    "start_time": "2024-08-01T03:15:10.583Z"
   },
   {
    "duration": 4,
    "start_time": "2024-08-01T03:15:10.593Z"
   },
   {
    "duration": 24,
    "start_time": "2024-08-01T03:15:10.599Z"
   },
   {
    "duration": 395,
    "start_time": "2024-08-01T03:15:10.626Z"
   },
   {
    "duration": 174,
    "start_time": "2024-08-01T03:15:11.023Z"
   },
   {
    "duration": 721,
    "start_time": "2024-08-01T03:15:11.199Z"
   },
   {
    "duration": 11,
    "start_time": "2024-08-01T03:15:11.922Z"
   },
   {
    "duration": 2730,
    "start_time": "2024-08-01T03:15:11.935Z"
   },
   {
    "duration": 208,
    "start_time": "2024-08-01T03:15:14.667Z"
   },
   {
    "duration": 22,
    "start_time": "2024-08-01T03:15:14.877Z"
   },
   {
    "duration": 1636,
    "start_time": "2024-08-01T03:15:14.901Z"
   },
   {
    "duration": 15,
    "start_time": "2024-08-01T03:15:16.539Z"
   },
   {
    "duration": 405,
    "start_time": "2024-08-01T03:15:16.565Z"
   },
   {
    "duration": 55,
    "start_time": "2024-08-01T03:15:16.971Z"
   },
   {
    "duration": 138,
    "start_time": "2024-08-01T03:15:17.028Z"
   },
   {
    "duration": 5,
    "start_time": "2024-08-01T03:15:17.168Z"
   },
   {
    "duration": 458,
    "start_time": "2024-08-01T03:15:17.174Z"
   },
   {
    "duration": 9,
    "start_time": "2024-08-01T03:15:17.633Z"
   },
   {
    "duration": 22,
    "start_time": "2024-08-01T03:15:17.644Z"
   },
   {
    "duration": 1748,
    "start_time": "2024-08-02T00:13:22.848Z"
   },
   {
    "duration": 144,
    "start_time": "2024-08-02T00:13:24.598Z"
   },
   {
    "duration": 22,
    "start_time": "2024-08-02T00:13:24.743Z"
   },
   {
    "duration": 615,
    "start_time": "2024-08-02T00:13:24.767Z"
   },
   {
    "duration": 241,
    "start_time": "2024-08-02T00:13:25.384Z"
   },
   {
    "duration": 5,
    "start_time": "2024-08-02T00:13:25.627Z"
   },
   {
    "duration": 18,
    "start_time": "2024-08-02T00:13:25.634Z"
   },
   {
    "duration": 4,
    "start_time": "2024-08-02T00:13:25.654Z"
   },
   {
    "duration": 27,
    "start_time": "2024-08-02T00:13:25.660Z"
   },
   {
    "duration": 390,
    "start_time": "2024-08-02T00:13:25.688Z"
   },
   {
    "duration": 183,
    "start_time": "2024-08-02T00:13:26.080Z"
   },
   {
    "duration": 818,
    "start_time": "2024-08-02T00:13:26.265Z"
   },
   {
    "duration": 33,
    "start_time": "2024-08-02T00:13:27.084Z"
   },
   {
    "duration": 3059,
    "start_time": "2024-08-02T00:13:27.121Z"
   },
   {
    "duration": 247,
    "start_time": "2024-08-02T00:13:30.182Z"
   },
   {
    "duration": 27,
    "start_time": "2024-08-02T00:13:30.431Z"
   },
   {
    "duration": 1850,
    "start_time": "2024-08-02T00:13:30.460Z"
   },
   {
    "duration": 16,
    "start_time": "2024-08-02T00:13:32.316Z"
   },
   {
    "duration": 371,
    "start_time": "2024-08-02T00:13:32.334Z"
   },
   {
    "duration": 51,
    "start_time": "2024-08-02T00:13:32.712Z"
   },
   {
    "duration": 178,
    "start_time": "2024-08-02T00:13:32.766Z"
   },
   {
    "duration": 6,
    "start_time": "2024-08-02T00:13:32.946Z"
   },
   {
    "duration": 524,
    "start_time": "2024-08-02T00:13:32.953Z"
   },
   {
    "duration": 10,
    "start_time": "2024-08-02T00:13:33.478Z"
   },
   {
    "duration": 27,
    "start_time": "2024-08-02T00:13:33.489Z"
   },
   {
    "duration": 1533,
    "start_time": "2024-08-02T04:35:09.535Z"
   },
   {
    "duration": 144,
    "start_time": "2024-08-02T04:35:11.070Z"
   },
   {
    "duration": 13,
    "start_time": "2024-08-02T04:35:11.216Z"
   },
   {
    "duration": 505,
    "start_time": "2024-08-02T04:35:11.230Z"
   },
   {
    "duration": 200,
    "start_time": "2024-08-02T04:35:11.737Z"
   },
   {
    "duration": 4,
    "start_time": "2024-08-02T04:35:11.939Z"
   },
   {
    "duration": 10,
    "start_time": "2024-08-02T04:35:11.944Z"
   },
   {
    "duration": 22,
    "start_time": "2024-08-02T04:35:11.955Z"
   },
   {
    "duration": 31,
    "start_time": "2024-08-02T04:35:11.979Z"
   },
   {
    "duration": 353,
    "start_time": "2024-08-02T04:35:12.011Z"
   },
   {
    "duration": 155,
    "start_time": "2024-08-02T04:35:12.366Z"
   },
   {
    "duration": 651,
    "start_time": "2024-08-02T04:35:12.522Z"
   },
   {
    "duration": 10,
    "start_time": "2024-08-02T04:35:13.174Z"
   },
   {
    "duration": 2692,
    "start_time": "2024-08-02T04:35:13.197Z"
   },
   {
    "duration": 200,
    "start_time": "2024-08-02T04:35:15.891Z"
   },
   {
    "duration": 21,
    "start_time": "2024-08-02T04:35:16.095Z"
   },
   {
    "duration": 1479,
    "start_time": "2024-08-02T04:35:16.117Z"
   },
   {
    "duration": 15,
    "start_time": "2024-08-02T04:35:17.597Z"
   },
   {
    "duration": 391,
    "start_time": "2024-08-02T04:35:17.613Z"
   },
   {
    "duration": 41,
    "start_time": "2024-08-02T04:35:18.006Z"
   },
   {
    "duration": 138,
    "start_time": "2024-08-02T04:35:18.048Z"
   },
   {
    "duration": 10,
    "start_time": "2024-08-02T04:35:18.187Z"
   },
   {
    "duration": 463,
    "start_time": "2024-08-02T04:35:18.198Z"
   },
   {
    "duration": 8,
    "start_time": "2024-08-02T04:35:18.662Z"
   },
   {
    "duration": 13,
    "start_time": "2024-08-02T04:35:18.672Z"
   },
   {
    "duration": 3201,
    "start_time": "2024-08-02T21:02:10.636Z"
   },
   {
    "duration": 124,
    "start_time": "2024-08-02T21:02:13.839Z"
   },
   {
    "duration": 15,
    "start_time": "2024-08-02T21:02:13.964Z"
   },
   {
    "duration": 517,
    "start_time": "2024-08-02T21:02:13.981Z"
   },
   {
    "duration": 223,
    "start_time": "2024-08-02T21:02:14.500Z"
   },
   {
    "duration": 4,
    "start_time": "2024-08-02T21:02:14.725Z"
   },
   {
    "duration": 8,
    "start_time": "2024-08-02T21:02:14.730Z"
   },
   {
    "duration": 11,
    "start_time": "2024-08-02T21:02:14.739Z"
   },
   {
    "duration": 28,
    "start_time": "2024-08-02T21:02:14.752Z"
   },
   {
    "duration": 371,
    "start_time": "2024-08-02T21:02:14.783Z"
   },
   {
    "duration": 170,
    "start_time": "2024-08-02T21:02:15.156Z"
   },
   {
    "duration": 774,
    "start_time": "2024-08-02T21:02:15.327Z"
   },
   {
    "duration": 11,
    "start_time": "2024-08-02T21:02:16.102Z"
   },
   {
    "duration": 2968,
    "start_time": "2024-08-02T21:02:16.115Z"
   },
   {
    "duration": 223,
    "start_time": "2024-08-02T21:02:19.085Z"
   },
   {
    "duration": 25,
    "start_time": "2024-08-02T21:02:19.311Z"
   },
   {
    "duration": 1749,
    "start_time": "2024-08-02T21:02:19.338Z"
   },
   {
    "duration": 26,
    "start_time": "2024-08-02T21:02:21.089Z"
   },
   {
    "duration": 432,
    "start_time": "2024-08-02T21:02:21.117Z"
   },
   {
    "duration": 44,
    "start_time": "2024-08-02T21:02:21.551Z"
   },
   {
    "duration": 154,
    "start_time": "2024-08-02T21:02:21.596Z"
   },
   {
    "duration": 6,
    "start_time": "2024-08-02T21:02:21.751Z"
   },
   {
    "duration": 533,
    "start_time": "2024-08-02T21:02:21.759Z"
   },
   {
    "duration": 15,
    "start_time": "2024-08-02T21:02:22.294Z"
   },
   {
    "duration": 25,
    "start_time": "2024-08-02T21:02:22.311Z"
   },
   {
    "duration": 6,
    "start_time": "2024-08-02T21:03:48.817Z"
   },
   {
    "duration": 6,
    "start_time": "2024-08-02T21:03:52.458Z"
   }
  ],
  "kernelspec": {
   "display_name": "Python 3 (ipykernel)",
   "language": "python",
   "name": "python3"
  },
  "language_info": {
   "codemirror_mode": {
    "name": "ipython",
    "version": 3
   },
   "file_extension": ".py",
   "mimetype": "text/x-python",
   "name": "python",
   "nbconvert_exporter": "python",
   "pygments_lexer": "ipython3",
   "version": "3.9.5"
  },
  "toc": {
   "base_numbering": 1,
   "nav_menu": {},
   "number_sections": true,
   "sideBar": true,
   "skip_h1_title": true,
   "title_cell": "Table of Contents",
   "title_sidebar": "Contents",
   "toc_cell": false,
   "toc_position": {},
   "toc_section_display": true,
   "toc_window_display": false
  }
 },
 "nbformat": 4,
 "nbformat_minor": 2
}
